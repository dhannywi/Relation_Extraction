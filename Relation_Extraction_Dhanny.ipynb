{
  "cells": [
    {
      "cell_type": "markdown",
      "metadata": {
        "id": "YOTjoA-BbMEM"
      },
      "source": [
        "# Relation Extraction Classification\n",
        "Binary Classification Model using TF-IDF and Bag of words as features"
      ]
    },
    {
      "cell_type": "code",
      "execution_count": null,
      "metadata": {
        "id": "V9Nfn8Gkbie0",
        "colab": {
          "base_uri": "https://localhost:8080/"
        },
        "outputId": "448b201a-2ad9-4243-f7ab-0e9555cf0fa6"
      },
      "outputs": [
        {
          "output_type": "stream",
          "name": "stdout",
          "text": [
            "[nltk_data] Downloading package punkt to /root/nltk_data...\n",
            "[nltk_data]   Package punkt is already up-to-date!\n",
            "[nltk_data] Downloading package stopwords to /root/nltk_data...\n",
            "[nltk_data]   Package stopwords is already up-to-date!\n",
            "[nltk_data] Downloading package wordnet to /root/nltk_data...\n",
            "[nltk_data]   Package wordnet is already up-to-date!\n"
          ]
        }
      ],
      "source": [
        "import re\n",
        "import pandas as pd\n",
        "import random\n",
        "import numpy as np\n",
        "import nltk\n",
        "nltk.download('punkt')\n",
        "nltk.download('stopwords')\n",
        "nltk.download('wordnet')\n",
        "from nltk.tokenize import sent_tokenize, word_tokenize\n",
        "from nltk.corpus import stopwords\n",
        "from nltk.stem import WordNetLemmatizer\n",
        "from sklearn import feature_extraction, model_selection, naive_bayes, pipeline, manifold, preprocessing, feature_selection, metrics\n",
        "from sklearn.feature_extraction.text import TfidfVectorizer, CountVectorizer\n",
        "from sklearn.model_selection import train_test_split\n",
        "from gensim.models import word2vec\n",
        "from sklearn.manifold import TSNE\n",
        "import matplotlib.pyplot as plt\n",
        "%matplotlib inline\n",
        "import spacy\n",
        "import string\n",
        "import logging"
      ]
    },
    {
      "cell_type": "markdown",
      "metadata": {
        "id": "Xxs28HzVcGi8"
      },
      "source": [
        "### Load the extracted dataset"
      ]
    },
    {
      "cell_type": "code",
      "execution_count": null,
      "metadata": {
        "id": "c_nfYyTJbJVe"
      },
      "outputs": [],
      "source": [
        "trainDataSource = pd.read_csv('trainDataset.csv')\n",
        "devDataSource = pd.read_csv('devDataset.csv')"
      ]
    },
    {
      "cell_type": "code",
      "execution_count": null,
      "metadata": {
        "colab": {
          "base_uri": "https://localhost:8080/",
          "height": 721
        },
        "id": "WAt_LdgYb25C",
        "outputId": "8ff2483d-e89a-4d14-8a1d-933e55dbd88c"
      },
      "outputs": [
        {
          "output_type": "execute_result",
          "data": {
            "text/plain": [
              "   Unnamed: 0            id  \\\n",
              "0           0  0101_E1 Tob    \n",
              "1           1  0101_E2 Tob    \n",
              "2           2  0101_E2 Tob    \n",
              "3           3  0101_E2 Tob    \n",
              "4           4  0101_E2 Tob    \n",
              "\n",
              "                                            sentence     T1  \\\n",
              "0   Tob (-), EtOH - a glass of wine 1-2x/month, I...   Tob    \n",
              "1   Tob (-), EtOH - a glass of wine 1-2x/month, I...  EtOH    \n",
              "2   Tob (-), EtOH - a glass of wine 1-2x/month, I...  EtOH    \n",
              "3   Tob (-), EtOH - a glass of wine 1-2x/month, I...  EtOH    \n",
              "4   Tob (-), EtOH - a glass of wine 1-2x/month, I...  EtOH    \n",
              "\n",
              "   T1_starting_postion  T1_ending_position  T1_type           T2  \\\n",
              "0                    1                   3  Tobacco         (-)    \n",
              "1                   10                  13  Alcohol        EtOH    \n",
              "2                   10                  13  Alcohol     a glass    \n",
              "3                   10                  13  Alcohol  1-2x/month    \n",
              "4                   10                  13  Alcohol        wine    \n",
              "\n",
              "   T2_starting_postion  T2_ending_position     T2_type relation_type  \n",
              "0                    5                   7  StatusTime        Status  \n",
              "1                   10                  13  StatusTime        Status  \n",
              "2                   17                  23      Amount        Amount  \n",
              "3                   33                  42   Frequency     Frequency  \n",
              "4                   28                  31        Type          Type  "
            ],
            "text/html": [
              "\n",
              "  <div id=\"df-c45a46ec-fd97-4128-ad58-3cde9e943949\">\n",
              "    <div class=\"colab-df-container\">\n",
              "      <div>\n",
              "<style scoped>\n",
              "    .dataframe tbody tr th:only-of-type {\n",
              "        vertical-align: middle;\n",
              "    }\n",
              "\n",
              "    .dataframe tbody tr th {\n",
              "        vertical-align: top;\n",
              "    }\n",
              "\n",
              "    .dataframe thead th {\n",
              "        text-align: right;\n",
              "    }\n",
              "</style>\n",
              "<table border=\"1\" class=\"dataframe\">\n",
              "  <thead>\n",
              "    <tr style=\"text-align: right;\">\n",
              "      <th></th>\n",
              "      <th>Unnamed: 0</th>\n",
              "      <th>id</th>\n",
              "      <th>sentence</th>\n",
              "      <th>T1</th>\n",
              "      <th>T1_starting_postion</th>\n",
              "      <th>T1_ending_position</th>\n",
              "      <th>T1_type</th>\n",
              "      <th>T2</th>\n",
              "      <th>T2_starting_postion</th>\n",
              "      <th>T2_ending_position</th>\n",
              "      <th>T2_type</th>\n",
              "      <th>relation_type</th>\n",
              "    </tr>\n",
              "  </thead>\n",
              "  <tbody>\n",
              "    <tr>\n",
              "      <th>0</th>\n",
              "      <td>0</td>\n",
              "      <td>0101_E1 Tob</td>\n",
              "      <td>Tob (-), EtOH - a glass of wine 1-2x/month, I...</td>\n",
              "      <td>Tob</td>\n",
              "      <td>1</td>\n",
              "      <td>3</td>\n",
              "      <td>Tobacco</td>\n",
              "      <td>(-)</td>\n",
              "      <td>5</td>\n",
              "      <td>7</td>\n",
              "      <td>StatusTime</td>\n",
              "      <td>Status</td>\n",
              "    </tr>\n",
              "    <tr>\n",
              "      <th>1</th>\n",
              "      <td>1</td>\n",
              "      <td>0101_E2 Tob</td>\n",
              "      <td>Tob (-), EtOH - a glass of wine 1-2x/month, I...</td>\n",
              "      <td>EtOH</td>\n",
              "      <td>10</td>\n",
              "      <td>13</td>\n",
              "      <td>Alcohol</td>\n",
              "      <td>EtOH</td>\n",
              "      <td>10</td>\n",
              "      <td>13</td>\n",
              "      <td>StatusTime</td>\n",
              "      <td>Status</td>\n",
              "    </tr>\n",
              "    <tr>\n",
              "      <th>2</th>\n",
              "      <td>2</td>\n",
              "      <td>0101_E2 Tob</td>\n",
              "      <td>Tob (-), EtOH - a glass of wine 1-2x/month, I...</td>\n",
              "      <td>EtOH</td>\n",
              "      <td>10</td>\n",
              "      <td>13</td>\n",
              "      <td>Alcohol</td>\n",
              "      <td>a glass</td>\n",
              "      <td>17</td>\n",
              "      <td>23</td>\n",
              "      <td>Amount</td>\n",
              "      <td>Amount</td>\n",
              "    </tr>\n",
              "    <tr>\n",
              "      <th>3</th>\n",
              "      <td>3</td>\n",
              "      <td>0101_E2 Tob</td>\n",
              "      <td>Tob (-), EtOH - a glass of wine 1-2x/month, I...</td>\n",
              "      <td>EtOH</td>\n",
              "      <td>10</td>\n",
              "      <td>13</td>\n",
              "      <td>Alcohol</td>\n",
              "      <td>1-2x/month</td>\n",
              "      <td>33</td>\n",
              "      <td>42</td>\n",
              "      <td>Frequency</td>\n",
              "      <td>Frequency</td>\n",
              "    </tr>\n",
              "    <tr>\n",
              "      <th>4</th>\n",
              "      <td>4</td>\n",
              "      <td>0101_E2 Tob</td>\n",
              "      <td>Tob (-), EtOH - a glass of wine 1-2x/month, I...</td>\n",
              "      <td>EtOH</td>\n",
              "      <td>10</td>\n",
              "      <td>13</td>\n",
              "      <td>Alcohol</td>\n",
              "      <td>wine</td>\n",
              "      <td>28</td>\n",
              "      <td>31</td>\n",
              "      <td>Type</td>\n",
              "      <td>Type</td>\n",
              "    </tr>\n",
              "  </tbody>\n",
              "</table>\n",
              "</div>\n",
              "      <button class=\"colab-df-convert\" onclick=\"convertToInteractive('df-c45a46ec-fd97-4128-ad58-3cde9e943949')\"\n",
              "              title=\"Convert this dataframe to an interactive table.\"\n",
              "              style=\"display:none;\">\n",
              "        \n",
              "  <svg xmlns=\"http://www.w3.org/2000/svg\" height=\"24px\"viewBox=\"0 0 24 24\"\n",
              "       width=\"24px\">\n",
              "    <path d=\"M0 0h24v24H0V0z\" fill=\"none\"/>\n",
              "    <path d=\"M18.56 5.44l.94 2.06.94-2.06 2.06-.94-2.06-.94-.94-2.06-.94 2.06-2.06.94zm-11 1L8.5 8.5l.94-2.06 2.06-.94-2.06-.94L8.5 2.5l-.94 2.06-2.06.94zm10 10l.94 2.06.94-2.06 2.06-.94-2.06-.94-.94-2.06-.94 2.06-2.06.94z\"/><path d=\"M17.41 7.96l-1.37-1.37c-.4-.4-.92-.59-1.43-.59-.52 0-1.04.2-1.43.59L10.3 9.45l-7.72 7.72c-.78.78-.78 2.05 0 2.83L4 21.41c.39.39.9.59 1.41.59.51 0 1.02-.2 1.41-.59l7.78-7.78 2.81-2.81c.8-.78.8-2.07 0-2.86zM5.41 20L4 18.59l7.72-7.72 1.47 1.35L5.41 20z\"/>\n",
              "  </svg>\n",
              "      </button>\n",
              "      \n",
              "  <style>\n",
              "    .colab-df-container {\n",
              "      display:flex;\n",
              "      flex-wrap:wrap;\n",
              "      gap: 12px;\n",
              "    }\n",
              "\n",
              "    .colab-df-convert {\n",
              "      background-color: #E8F0FE;\n",
              "      border: none;\n",
              "      border-radius: 50%;\n",
              "      cursor: pointer;\n",
              "      display: none;\n",
              "      fill: #1967D2;\n",
              "      height: 32px;\n",
              "      padding: 0 0 0 0;\n",
              "      width: 32px;\n",
              "    }\n",
              "\n",
              "    .colab-df-convert:hover {\n",
              "      background-color: #E2EBFA;\n",
              "      box-shadow: 0px 1px 2px rgba(60, 64, 67, 0.3), 0px 1px 3px 1px rgba(60, 64, 67, 0.15);\n",
              "      fill: #174EA6;\n",
              "    }\n",
              "\n",
              "    [theme=dark] .colab-df-convert {\n",
              "      background-color: #3B4455;\n",
              "      fill: #D2E3FC;\n",
              "    }\n",
              "\n",
              "    [theme=dark] .colab-df-convert:hover {\n",
              "      background-color: #434B5C;\n",
              "      box-shadow: 0px 1px 3px 1px rgba(0, 0, 0, 0.15);\n",
              "      filter: drop-shadow(0px 1px 2px rgba(0, 0, 0, 0.3));\n",
              "      fill: #FFFFFF;\n",
              "    }\n",
              "  </style>\n",
              "\n",
              "      <script>\n",
              "        const buttonEl =\n",
              "          document.querySelector('#df-c45a46ec-fd97-4128-ad58-3cde9e943949 button.colab-df-convert');\n",
              "        buttonEl.style.display =\n",
              "          google.colab.kernel.accessAllowed ? 'block' : 'none';\n",
              "\n",
              "        async function convertToInteractive(key) {\n",
              "          const element = document.querySelector('#df-c45a46ec-fd97-4128-ad58-3cde9e943949');\n",
              "          const dataTable =\n",
              "            await google.colab.kernel.invokeFunction('convertToInteractive',\n",
              "                                                     [key], {});\n",
              "          if (!dataTable) return;\n",
              "\n",
              "          const docLinkHtml = 'Like what you see? Visit the ' +\n",
              "            '<a target=\"_blank\" href=https://colab.research.google.com/notebooks/data_table.ipynb>data table notebook</a>'\n",
              "            + ' to learn more about interactive tables.';\n",
              "          element.innerHTML = '';\n",
              "          dataTable['output_type'] = 'display_data';\n",
              "          await google.colab.output.renderOutput(dataTable, element);\n",
              "          const docLink = document.createElement('div');\n",
              "          docLink.innerHTML = docLinkHtml;\n",
              "          element.appendChild(docLink);\n",
              "        }\n",
              "      </script>\n",
              "    </div>\n",
              "  </div>\n",
              "  "
            ]
          },
          "metadata": {},
          "execution_count": 3
        }
      ],
      "source": [
        "trainDataSource.head()"
      ]
    },
    {
      "cell_type": "code",
      "execution_count": null,
      "metadata": {
        "colab": {
          "base_uri": "https://localhost:8080/",
          "height": 721
        },
        "id": "EzKWTgTUb7ID",
        "outputId": "d25daf41-685f-473d-df27-b4f4889293e8"
      },
      "outputs": [
        {
          "output_type": "execute_result",
          "data": {
            "text/plain": [
              "   Unnamed: 0            id  \\\n",
              "0           0  0403_E1  Liv   \n",
              "1           1  0403_E1  Liv   \n",
              "2           2  0403_E2 No h   \n",
              "3           3  0403_E3 No h   \n",
              "4           4  0403_E4 No h   \n",
              "\n",
              "                                            sentence         T1  \\\n",
              "0    Lives with his caring and devoted parents at...     Lives    \n",
              "1    Lives with his caring and devoted parents at...     Lives    \n",
              "2        No history of alcohol, tobacco or drug use.   tobacco    \n",
              "3        No history of alcohol, tobacco or drug use.  drug use    \n",
              "4        No history of alcohol, tobacco or drug use.   alcohol    \n",
              "\n",
              "   T1_starting_postion  T1_ending_position       T1_type  \\\n",
              "0                    2                   6  LivingStatus   \n",
              "1                    2                   6  LivingStatus   \n",
              "2                   25                  31       Tobacco   \n",
              "3                   36                  43          Drug   \n",
              "4                   16                  22       Alcohol   \n",
              "\n",
              "                                     T2  T2_starting_postion  \\\n",
              "0                                Lives                     2   \n",
              "1  with his caring and devoted parents                     8   \n",
              "2                           No history                     2   \n",
              "3                           No history                     2   \n",
              "4                           No history                     2   \n",
              "\n",
              "   T2_ending_position     T2_type relation_type  \n",
              "0                   6  StatusTime        Status  \n",
              "1                  42  TypeLiving          Type  \n",
              "2                  11  StatusTime        Status  \n",
              "3                  11  StatusTime        Status  \n",
              "4                  11  StatusTime        Status  "
            ],
            "text/html": [
              "\n",
              "  <div id=\"df-88005aff-9fe2-4f00-90f6-caf12eb47fe9\">\n",
              "    <div class=\"colab-df-container\">\n",
              "      <div>\n",
              "<style scoped>\n",
              "    .dataframe tbody tr th:only-of-type {\n",
              "        vertical-align: middle;\n",
              "    }\n",
              "\n",
              "    .dataframe tbody tr th {\n",
              "        vertical-align: top;\n",
              "    }\n",
              "\n",
              "    .dataframe thead th {\n",
              "        text-align: right;\n",
              "    }\n",
              "</style>\n",
              "<table border=\"1\" class=\"dataframe\">\n",
              "  <thead>\n",
              "    <tr style=\"text-align: right;\">\n",
              "      <th></th>\n",
              "      <th>Unnamed: 0</th>\n",
              "      <th>id</th>\n",
              "      <th>sentence</th>\n",
              "      <th>T1</th>\n",
              "      <th>T1_starting_postion</th>\n",
              "      <th>T1_ending_position</th>\n",
              "      <th>T1_type</th>\n",
              "      <th>T2</th>\n",
              "      <th>T2_starting_postion</th>\n",
              "      <th>T2_ending_position</th>\n",
              "      <th>T2_type</th>\n",
              "      <th>relation_type</th>\n",
              "    </tr>\n",
              "  </thead>\n",
              "  <tbody>\n",
              "    <tr>\n",
              "      <th>0</th>\n",
              "      <td>0</td>\n",
              "      <td>0403_E1  Liv</td>\n",
              "      <td>Lives with his caring and devoted parents at...</td>\n",
              "      <td>Lives</td>\n",
              "      <td>2</td>\n",
              "      <td>6</td>\n",
              "      <td>LivingStatus</td>\n",
              "      <td>Lives</td>\n",
              "      <td>2</td>\n",
              "      <td>6</td>\n",
              "      <td>StatusTime</td>\n",
              "      <td>Status</td>\n",
              "    </tr>\n",
              "    <tr>\n",
              "      <th>1</th>\n",
              "      <td>1</td>\n",
              "      <td>0403_E1  Liv</td>\n",
              "      <td>Lives with his caring and devoted parents at...</td>\n",
              "      <td>Lives</td>\n",
              "      <td>2</td>\n",
              "      <td>6</td>\n",
              "      <td>LivingStatus</td>\n",
              "      <td>with his caring and devoted parents</td>\n",
              "      <td>8</td>\n",
              "      <td>42</td>\n",
              "      <td>TypeLiving</td>\n",
              "      <td>Type</td>\n",
              "    </tr>\n",
              "    <tr>\n",
              "      <th>2</th>\n",
              "      <td>2</td>\n",
              "      <td>0403_E2 No h</td>\n",
              "      <td>No history of alcohol, tobacco or drug use.</td>\n",
              "      <td>tobacco</td>\n",
              "      <td>25</td>\n",
              "      <td>31</td>\n",
              "      <td>Tobacco</td>\n",
              "      <td>No history</td>\n",
              "      <td>2</td>\n",
              "      <td>11</td>\n",
              "      <td>StatusTime</td>\n",
              "      <td>Status</td>\n",
              "    </tr>\n",
              "    <tr>\n",
              "      <th>3</th>\n",
              "      <td>3</td>\n",
              "      <td>0403_E3 No h</td>\n",
              "      <td>No history of alcohol, tobacco or drug use.</td>\n",
              "      <td>drug use</td>\n",
              "      <td>36</td>\n",
              "      <td>43</td>\n",
              "      <td>Drug</td>\n",
              "      <td>No history</td>\n",
              "      <td>2</td>\n",
              "      <td>11</td>\n",
              "      <td>StatusTime</td>\n",
              "      <td>Status</td>\n",
              "    </tr>\n",
              "    <tr>\n",
              "      <th>4</th>\n",
              "      <td>4</td>\n",
              "      <td>0403_E4 No h</td>\n",
              "      <td>No history of alcohol, tobacco or drug use.</td>\n",
              "      <td>alcohol</td>\n",
              "      <td>16</td>\n",
              "      <td>22</td>\n",
              "      <td>Alcohol</td>\n",
              "      <td>No history</td>\n",
              "      <td>2</td>\n",
              "      <td>11</td>\n",
              "      <td>StatusTime</td>\n",
              "      <td>Status</td>\n",
              "    </tr>\n",
              "  </tbody>\n",
              "</table>\n",
              "</div>\n",
              "      <button class=\"colab-df-convert\" onclick=\"convertToInteractive('df-88005aff-9fe2-4f00-90f6-caf12eb47fe9')\"\n",
              "              title=\"Convert this dataframe to an interactive table.\"\n",
              "              style=\"display:none;\">\n",
              "        \n",
              "  <svg xmlns=\"http://www.w3.org/2000/svg\" height=\"24px\"viewBox=\"0 0 24 24\"\n",
              "       width=\"24px\">\n",
              "    <path d=\"M0 0h24v24H0V0z\" fill=\"none\"/>\n",
              "    <path d=\"M18.56 5.44l.94 2.06.94-2.06 2.06-.94-2.06-.94-.94-2.06-.94 2.06-2.06.94zm-11 1L8.5 8.5l.94-2.06 2.06-.94-2.06-.94L8.5 2.5l-.94 2.06-2.06.94zm10 10l.94 2.06.94-2.06 2.06-.94-2.06-.94-.94-2.06-.94 2.06-2.06.94z\"/><path d=\"M17.41 7.96l-1.37-1.37c-.4-.4-.92-.59-1.43-.59-.52 0-1.04.2-1.43.59L10.3 9.45l-7.72 7.72c-.78.78-.78 2.05 0 2.83L4 21.41c.39.39.9.59 1.41.59.51 0 1.02-.2 1.41-.59l7.78-7.78 2.81-2.81c.8-.78.8-2.07 0-2.86zM5.41 20L4 18.59l7.72-7.72 1.47 1.35L5.41 20z\"/>\n",
              "  </svg>\n",
              "      </button>\n",
              "      \n",
              "  <style>\n",
              "    .colab-df-container {\n",
              "      display:flex;\n",
              "      flex-wrap:wrap;\n",
              "      gap: 12px;\n",
              "    }\n",
              "\n",
              "    .colab-df-convert {\n",
              "      background-color: #E8F0FE;\n",
              "      border: none;\n",
              "      border-radius: 50%;\n",
              "      cursor: pointer;\n",
              "      display: none;\n",
              "      fill: #1967D2;\n",
              "      height: 32px;\n",
              "      padding: 0 0 0 0;\n",
              "      width: 32px;\n",
              "    }\n",
              "\n",
              "    .colab-df-convert:hover {\n",
              "      background-color: #E2EBFA;\n",
              "      box-shadow: 0px 1px 2px rgba(60, 64, 67, 0.3), 0px 1px 3px 1px rgba(60, 64, 67, 0.15);\n",
              "      fill: #174EA6;\n",
              "    }\n",
              "\n",
              "    [theme=dark] .colab-df-convert {\n",
              "      background-color: #3B4455;\n",
              "      fill: #D2E3FC;\n",
              "    }\n",
              "\n",
              "    [theme=dark] .colab-df-convert:hover {\n",
              "      background-color: #434B5C;\n",
              "      box-shadow: 0px 1px 3px 1px rgba(0, 0, 0, 0.15);\n",
              "      filter: drop-shadow(0px 1px 2px rgba(0, 0, 0, 0.3));\n",
              "      fill: #FFFFFF;\n",
              "    }\n",
              "  </style>\n",
              "\n",
              "      <script>\n",
              "        const buttonEl =\n",
              "          document.querySelector('#df-88005aff-9fe2-4f00-90f6-caf12eb47fe9 button.colab-df-convert');\n",
              "        buttonEl.style.display =\n",
              "          google.colab.kernel.accessAllowed ? 'block' : 'none';\n",
              "\n",
              "        async function convertToInteractive(key) {\n",
              "          const element = document.querySelector('#df-88005aff-9fe2-4f00-90f6-caf12eb47fe9');\n",
              "          const dataTable =\n",
              "            await google.colab.kernel.invokeFunction('convertToInteractive',\n",
              "                                                     [key], {});\n",
              "          if (!dataTable) return;\n",
              "\n",
              "          const docLinkHtml = 'Like what you see? Visit the ' +\n",
              "            '<a target=\"_blank\" href=https://colab.research.google.com/notebooks/data_table.ipynb>data table notebook</a>'\n",
              "            + ' to learn more about interactive tables.';\n",
              "          element.innerHTML = '';\n",
              "          dataTable['output_type'] = 'display_data';\n",
              "          await google.colab.output.renderOutput(dataTable, element);\n",
              "          const docLink = document.createElement('div');\n",
              "          docLink.innerHTML = docLinkHtml;\n",
              "          element.appendChild(docLink);\n",
              "        }\n",
              "      </script>\n",
              "    </div>\n",
              "  </div>\n",
              "  "
            ]
          },
          "metadata": {},
          "execution_count": 4
        }
      ],
      "source": [
        "devDataSource.head()"
      ]
    },
    {
      "cell_type": "code",
      "execution_count": null,
      "metadata": {
        "colab": {
          "base_uri": "https://localhost:8080/"
        },
        "id": "Kj_DSLKvb9M8",
        "outputId": "ddeed769-e436-4f6e-93a0-c94879a56046"
      },
      "outputs": [
        {
          "output_type": "execute_result",
          "data": {
            "text/plain": [
              "Unnamed: 0             0\n",
              "id                     3\n",
              "sentence               3\n",
              "T1                     0\n",
              "T1_starting_postion    0\n",
              "T1_ending_position     0\n",
              "T1_type                0\n",
              "T2                     0\n",
              "T2_starting_postion    0\n",
              "T2_ending_position     0\n",
              "T2_type                0\n",
              "relation_type          0\n",
              "dtype: int64"
            ]
          },
          "metadata": {},
          "execution_count": 5
        }
      ],
      "source": [
        "devDataSource.isna().sum()"
      ]
    },
    {
      "cell_type": "code",
      "execution_count": null,
      "metadata": {
        "colab": {
          "base_uri": "https://localhost:8080/",
          "height": 1000
        },
        "id": "KJRUXFKicCuQ",
        "outputId": "748a0725-1138-4c9e-9157-11f798721df8"
      },
      "outputs": [
        {
          "output_type": "execute_result",
          "data": {
            "text/plain": [
              "                                           T1  T1_ending_position  \\\n",
              "relation_type T2_type      T1_type                                  \n",
              "Amount        Amount       Alcohol        315                 315   \n",
              "                           Drug            10                  10   \n",
              "                           Tobacco        558                 558   \n",
              "Amount2       Amount       Alcohol          7                   7   \n",
              "                           Tobacco         27                  27   \n",
              "Amount3       Amount       Tobacco          1                   1   \n",
              "Duration      Duration     Alcohol         84                  84   \n",
              "                           Drug            23                  23   \n",
              "                           Employment      49                  49   \n",
              "                           LivingStatus    37                  37   \n",
              "                           Tobacco        296                 296   \n",
              "Duration2     Duration     Alcohol          1                   1   \n",
              "                           Tobacco          5                   5   \n",
              "Frequency     Frequency    Alcohol        322                 322   \n",
              "                           Drug            24                  24   \n",
              "                           Tobacco        196                 196   \n",
              "Frequency2    Frequency    Alcohol          4                   4   \n",
              "History       History      Alcohol        147                 147   \n",
              "                           Drug           100                 100   \n",
              "                           Employment      49                  49   \n",
              "                           LivingStatus    19                  19   \n",
              "                           Tobacco        304                 304   \n",
              "History2      History      Alcohol          1                   1   \n",
              "Method        Method       Drug           193                 193   \n",
              "                           Tobacco          5                   5   \n",
              "Method2       Method       Drug             2                   2   \n",
              "Status        StatusEmploy Employment     980                 980   \n",
              "              StatusTime   Alcohol       1292                1292   \n",
              "                           Drug           985                 985   \n",
              "                           LivingStatus   959                 959   \n",
              "                           Tobacco       1230                1230   \n",
              "Status2       StatusEmploy Employment       1                   1   \n",
              "              StatusTime   Alcohol          2                   2   \n",
              "                           Drug             1                   1   \n",
              "                           Tobacco          2                   2   \n",
              "Type          Type         Alcohol        186                 186   \n",
              "                           Drug           663                 663   \n",
              "                           Employment     695                 695   \n",
              "                           Tobacco        153                 153   \n",
              "              TypeLiving   LivingStatus   959                 959   \n",
              "Type2         Type         Alcohol          8                   8   \n",
              "                           Drug            20                  20   \n",
              "                           Employment      12                  12   \n",
              "                           Tobacco          2                   2   \n",
              "Type3         Type         Alcohol          1                   1   \n",
              "                           Drug             2                   2   \n",
              "                           Employment       1                   1   \n",
              "\n",
              "                                         T1_starting_postion    T2  \\\n",
              "relation_type T2_type      T1_type                                   \n",
              "Amount        Amount       Alcohol                       315   315   \n",
              "                           Drug                           10    10   \n",
              "                           Tobacco                       558   558   \n",
              "Amount2       Amount       Alcohol                         7     7   \n",
              "                           Tobacco                        27    27   \n",
              "Amount3       Amount       Tobacco                         1     1   \n",
              "Duration      Duration     Alcohol                        84    84   \n",
              "                           Drug                           23    23   \n",
              "                           Employment                     49    49   \n",
              "                           LivingStatus                   37    37   \n",
              "                           Tobacco                       296   296   \n",
              "Duration2     Duration     Alcohol                         1     1   \n",
              "                           Tobacco                         5     5   \n",
              "Frequency     Frequency    Alcohol                       322   322   \n",
              "                           Drug                           24    24   \n",
              "                           Tobacco                       196   196   \n",
              "Frequency2    Frequency    Alcohol                         4     4   \n",
              "History       History      Alcohol                       147   147   \n",
              "                           Drug                          100   100   \n",
              "                           Employment                     49    49   \n",
              "                           LivingStatus                   19    19   \n",
              "                           Tobacco                       304   304   \n",
              "History2      History      Alcohol                         1     1   \n",
              "Method        Method       Drug                          193   193   \n",
              "                           Tobacco                         5     5   \n",
              "Method2       Method       Drug                            2     2   \n",
              "Status        StatusEmploy Employment                    980   980   \n",
              "              StatusTime   Alcohol                      1292  1292   \n",
              "                           Drug                          985   985   \n",
              "                           LivingStatus                  959   959   \n",
              "                           Tobacco                      1230  1230   \n",
              "Status2       StatusEmploy Employment                      1     1   \n",
              "              StatusTime   Alcohol                         2     2   \n",
              "                           Drug                            1     1   \n",
              "                           Tobacco                         2     2   \n",
              "Type          Type         Alcohol                       186   186   \n",
              "                           Drug                          663   663   \n",
              "                           Employment                    695   695   \n",
              "                           Tobacco                       153   153   \n",
              "              TypeLiving   LivingStatus                  959   959   \n",
              "Type2         Type         Alcohol                         8     8   \n",
              "                           Drug                           20    20   \n",
              "                           Employment                     12    12   \n",
              "                           Tobacco                         2     2   \n",
              "Type3         Type         Alcohol                         1     1   \n",
              "                           Drug                            2     2   \n",
              "                           Employment                      1     1   \n",
              "\n",
              "                                         T2_ending_position  \\\n",
              "relation_type T2_type      T1_type                            \n",
              "Amount        Amount       Alcohol                      315   \n",
              "                           Drug                          10   \n",
              "                           Tobacco                      558   \n",
              "Amount2       Amount       Alcohol                        7   \n",
              "                           Tobacco                       27   \n",
              "Amount3       Amount       Tobacco                        1   \n",
              "Duration      Duration     Alcohol                       84   \n",
              "                           Drug                          23   \n",
              "                           Employment                    49   \n",
              "                           LivingStatus                  37   \n",
              "                           Tobacco                      296   \n",
              "Duration2     Duration     Alcohol                        1   \n",
              "                           Tobacco                        5   \n",
              "Frequency     Frequency    Alcohol                      322   \n",
              "                           Drug                          24   \n",
              "                           Tobacco                      196   \n",
              "Frequency2    Frequency    Alcohol                        4   \n",
              "History       History      Alcohol                      147   \n",
              "                           Drug                         100   \n",
              "                           Employment                    49   \n",
              "                           LivingStatus                  19   \n",
              "                           Tobacco                      304   \n",
              "History2      History      Alcohol                        1   \n",
              "Method        Method       Drug                         193   \n",
              "                           Tobacco                        5   \n",
              "Method2       Method       Drug                           2   \n",
              "Status        StatusEmploy Employment                   980   \n",
              "              StatusTime   Alcohol                     1292   \n",
              "                           Drug                         985   \n",
              "                           LivingStatus                 959   \n",
              "                           Tobacco                     1230   \n",
              "Status2       StatusEmploy Employment                     1   \n",
              "              StatusTime   Alcohol                        2   \n",
              "                           Drug                           1   \n",
              "                           Tobacco                        2   \n",
              "Type          Type         Alcohol                      186   \n",
              "                           Drug                         663   \n",
              "                           Employment                   695   \n",
              "                           Tobacco                      153   \n",
              "              TypeLiving   LivingStatus                 959   \n",
              "Type2         Type         Alcohol                        8   \n",
              "                           Drug                          20   \n",
              "                           Employment                    12   \n",
              "                           Tobacco                        2   \n",
              "Type3         Type         Alcohol                        1   \n",
              "                           Drug                           2   \n",
              "                           Employment                     1   \n",
              "\n",
              "                                         T2_starting_postion  Unnamed: 0  \\\n",
              "relation_type T2_type      T1_type                                         \n",
              "Amount        Amount       Alcohol                       315         315   \n",
              "                           Drug                           10          10   \n",
              "                           Tobacco                       558         558   \n",
              "Amount2       Amount       Alcohol                         7           7   \n",
              "                           Tobacco                        27          27   \n",
              "Amount3       Amount       Tobacco                         1           1   \n",
              "Duration      Duration     Alcohol                        84          84   \n",
              "                           Drug                           23          23   \n",
              "                           Employment                     49          49   \n",
              "                           LivingStatus                   37          37   \n",
              "                           Tobacco                       296         296   \n",
              "Duration2     Duration     Alcohol                         1           1   \n",
              "                           Tobacco                         5           5   \n",
              "Frequency     Frequency    Alcohol                       322         322   \n",
              "                           Drug                           24          24   \n",
              "                           Tobacco                       196         196   \n",
              "Frequency2    Frequency    Alcohol                         4           4   \n",
              "History       History      Alcohol                       147         147   \n",
              "                           Drug                          100         100   \n",
              "                           Employment                     49          49   \n",
              "                           LivingStatus                   19          19   \n",
              "                           Tobacco                       304         304   \n",
              "History2      History      Alcohol                         1           1   \n",
              "Method        Method       Drug                          193         193   \n",
              "                           Tobacco                         5           5   \n",
              "Method2       Method       Drug                            2           2   \n",
              "Status        StatusEmploy Employment                    980         980   \n",
              "              StatusTime   Alcohol                      1292        1292   \n",
              "                           Drug                          985         985   \n",
              "                           LivingStatus                  959         959   \n",
              "                           Tobacco                      1230        1230   \n",
              "Status2       StatusEmploy Employment                      1           1   \n",
              "              StatusTime   Alcohol                         2           2   \n",
              "                           Drug                            1           1   \n",
              "                           Tobacco                         2           2   \n",
              "Type          Type         Alcohol                       186         186   \n",
              "                           Drug                          663         663   \n",
              "                           Employment                    695         695   \n",
              "                           Tobacco                       153         153   \n",
              "              TypeLiving   LivingStatus                  959         959   \n",
              "Type2         Type         Alcohol                         8           8   \n",
              "                           Drug                           20          20   \n",
              "                           Employment                     12          12   \n",
              "                           Tobacco                         2           2   \n",
              "Type3         Type         Alcohol                         1           1   \n",
              "                           Drug                            2           2   \n",
              "                           Employment                      1           1   \n",
              "\n",
              "                                           id  sentence  \n",
              "relation_type T2_type      T1_type                       \n",
              "Amount        Amount       Alcohol        315       315  \n",
              "                           Drug            10        10  \n",
              "                           Tobacco        540       540  \n",
              "Amount2       Amount       Alcohol          7         7  \n",
              "                           Tobacco         27        27  \n",
              "Amount3       Amount       Tobacco          1         1  \n",
              "Duration      Duration     Alcohol         84        84  \n",
              "                           Drug            22        22  \n",
              "                           Employment      49        49  \n",
              "                           LivingStatus    37        37  \n",
              "                           Tobacco        286       286  \n",
              "Duration2     Duration     Alcohol          1         1  \n",
              "                           Tobacco          5         5  \n",
              "Frequency     Frequency    Alcohol        322       322  \n",
              "                           Drug            24        24  \n",
              "                           Tobacco        191       191  \n",
              "Frequency2    Frequency    Alcohol          4         4  \n",
              "History       History      Alcohol        142       142  \n",
              "                           Drug            95        95  \n",
              "                           Employment      49        49  \n",
              "                           LivingStatus    19        19  \n",
              "                           Tobacco        287       287  \n",
              "History2      History      Alcohol          1         1  \n",
              "Method        Method       Drug           193       193  \n",
              "                           Tobacco          5         5  \n",
              "Method2       Method       Drug             2         2  \n",
              "Status        StatusEmploy Employment     975       975  \n",
              "              StatusTime   Alcohol       1286      1286  \n",
              "                           Drug           980       980  \n",
              "                           LivingStatus   958       958  \n",
              "                           Tobacco       1209      1209  \n",
              "Status2       StatusEmploy Employment       1         1  \n",
              "              StatusTime   Alcohol          2         2  \n",
              "                           Drug             1         1  \n",
              "                           Tobacco          2         2  \n",
              "Type          Type         Alcohol        186       186  \n",
              "                           Drug           660       660  \n",
              "                           Employment     692       692  \n",
              "                           Tobacco        150       150  \n",
              "              TypeLiving   LivingStatus   958       958  \n",
              "Type2         Type         Alcohol          8         8  \n",
              "                           Drug            20        20  \n",
              "                           Employment      11        11  \n",
              "                           Tobacco          2         2  \n",
              "Type3         Type         Alcohol          1         1  \n",
              "                           Drug             2         2  \n",
              "                           Employment       1         1  "
            ],
            "text/html": [
              "\n",
              "  <div id=\"df-607aa736-f00c-4bbb-8bc0-a9ae3a5283ac\">\n",
              "    <div class=\"colab-df-container\">\n",
              "      <div>\n",
              "<style scoped>\n",
              "    .dataframe tbody tr th:only-of-type {\n",
              "        vertical-align: middle;\n",
              "    }\n",
              "\n",
              "    .dataframe tbody tr th {\n",
              "        vertical-align: top;\n",
              "    }\n",
              "\n",
              "    .dataframe thead th {\n",
              "        text-align: right;\n",
              "    }\n",
              "</style>\n",
              "<table border=\"1\" class=\"dataframe\">\n",
              "  <thead>\n",
              "    <tr style=\"text-align: right;\">\n",
              "      <th></th>\n",
              "      <th></th>\n",
              "      <th></th>\n",
              "      <th>T1</th>\n",
              "      <th>T1_ending_position</th>\n",
              "      <th>T1_starting_postion</th>\n",
              "      <th>T2</th>\n",
              "      <th>T2_ending_position</th>\n",
              "      <th>T2_starting_postion</th>\n",
              "      <th>Unnamed: 0</th>\n",
              "      <th>id</th>\n",
              "      <th>sentence</th>\n",
              "    </tr>\n",
              "    <tr>\n",
              "      <th>relation_type</th>\n",
              "      <th>T2_type</th>\n",
              "      <th>T1_type</th>\n",
              "      <th></th>\n",
              "      <th></th>\n",
              "      <th></th>\n",
              "      <th></th>\n",
              "      <th></th>\n",
              "      <th></th>\n",
              "      <th></th>\n",
              "      <th></th>\n",
              "      <th></th>\n",
              "    </tr>\n",
              "  </thead>\n",
              "  <tbody>\n",
              "    <tr>\n",
              "      <th rowspan=\"3\" valign=\"top\">Amount</th>\n",
              "      <th rowspan=\"3\" valign=\"top\">Amount</th>\n",
              "      <th>Alcohol</th>\n",
              "      <td>315</td>\n",
              "      <td>315</td>\n",
              "      <td>315</td>\n",
              "      <td>315</td>\n",
              "      <td>315</td>\n",
              "      <td>315</td>\n",
              "      <td>315</td>\n",
              "      <td>315</td>\n",
              "      <td>315</td>\n",
              "    </tr>\n",
              "    <tr>\n",
              "      <th>Drug</th>\n",
              "      <td>10</td>\n",
              "      <td>10</td>\n",
              "      <td>10</td>\n",
              "      <td>10</td>\n",
              "      <td>10</td>\n",
              "      <td>10</td>\n",
              "      <td>10</td>\n",
              "      <td>10</td>\n",
              "      <td>10</td>\n",
              "    </tr>\n",
              "    <tr>\n",
              "      <th>Tobacco</th>\n",
              "      <td>558</td>\n",
              "      <td>558</td>\n",
              "      <td>558</td>\n",
              "      <td>558</td>\n",
              "      <td>558</td>\n",
              "      <td>558</td>\n",
              "      <td>558</td>\n",
              "      <td>540</td>\n",
              "      <td>540</td>\n",
              "    </tr>\n",
              "    <tr>\n",
              "      <th rowspan=\"2\" valign=\"top\">Amount2</th>\n",
              "      <th rowspan=\"2\" valign=\"top\">Amount</th>\n",
              "      <th>Alcohol</th>\n",
              "      <td>7</td>\n",
              "      <td>7</td>\n",
              "      <td>7</td>\n",
              "      <td>7</td>\n",
              "      <td>7</td>\n",
              "      <td>7</td>\n",
              "      <td>7</td>\n",
              "      <td>7</td>\n",
              "      <td>7</td>\n",
              "    </tr>\n",
              "    <tr>\n",
              "      <th>Tobacco</th>\n",
              "      <td>27</td>\n",
              "      <td>27</td>\n",
              "      <td>27</td>\n",
              "      <td>27</td>\n",
              "      <td>27</td>\n",
              "      <td>27</td>\n",
              "      <td>27</td>\n",
              "      <td>27</td>\n",
              "      <td>27</td>\n",
              "    </tr>\n",
              "    <tr>\n",
              "      <th>Amount3</th>\n",
              "      <th>Amount</th>\n",
              "      <th>Tobacco</th>\n",
              "      <td>1</td>\n",
              "      <td>1</td>\n",
              "      <td>1</td>\n",
              "      <td>1</td>\n",
              "      <td>1</td>\n",
              "      <td>1</td>\n",
              "      <td>1</td>\n",
              "      <td>1</td>\n",
              "      <td>1</td>\n",
              "    </tr>\n",
              "    <tr>\n",
              "      <th rowspan=\"5\" valign=\"top\">Duration</th>\n",
              "      <th rowspan=\"5\" valign=\"top\">Duration</th>\n",
              "      <th>Alcohol</th>\n",
              "      <td>84</td>\n",
              "      <td>84</td>\n",
              "      <td>84</td>\n",
              "      <td>84</td>\n",
              "      <td>84</td>\n",
              "      <td>84</td>\n",
              "      <td>84</td>\n",
              "      <td>84</td>\n",
              "      <td>84</td>\n",
              "    </tr>\n",
              "    <tr>\n",
              "      <th>Drug</th>\n",
              "      <td>23</td>\n",
              "      <td>23</td>\n",
              "      <td>23</td>\n",
              "      <td>23</td>\n",
              "      <td>23</td>\n",
              "      <td>23</td>\n",
              "      <td>23</td>\n",
              "      <td>22</td>\n",
              "      <td>22</td>\n",
              "    </tr>\n",
              "    <tr>\n",
              "      <th>Employment</th>\n",
              "      <td>49</td>\n",
              "      <td>49</td>\n",
              "      <td>49</td>\n",
              "      <td>49</td>\n",
              "      <td>49</td>\n",
              "      <td>49</td>\n",
              "      <td>49</td>\n",
              "      <td>49</td>\n",
              "      <td>49</td>\n",
              "    </tr>\n",
              "    <tr>\n",
              "      <th>LivingStatus</th>\n",
              "      <td>37</td>\n",
              "      <td>37</td>\n",
              "      <td>37</td>\n",
              "      <td>37</td>\n",
              "      <td>37</td>\n",
              "      <td>37</td>\n",
              "      <td>37</td>\n",
              "      <td>37</td>\n",
              "      <td>37</td>\n",
              "    </tr>\n",
              "    <tr>\n",
              "      <th>Tobacco</th>\n",
              "      <td>296</td>\n",
              "      <td>296</td>\n",
              "      <td>296</td>\n",
              "      <td>296</td>\n",
              "      <td>296</td>\n",
              "      <td>296</td>\n",
              "      <td>296</td>\n",
              "      <td>286</td>\n",
              "      <td>286</td>\n",
              "    </tr>\n",
              "    <tr>\n",
              "      <th rowspan=\"2\" valign=\"top\">Duration2</th>\n",
              "      <th rowspan=\"2\" valign=\"top\">Duration</th>\n",
              "      <th>Alcohol</th>\n",
              "      <td>1</td>\n",
              "      <td>1</td>\n",
              "      <td>1</td>\n",
              "      <td>1</td>\n",
              "      <td>1</td>\n",
              "      <td>1</td>\n",
              "      <td>1</td>\n",
              "      <td>1</td>\n",
              "      <td>1</td>\n",
              "    </tr>\n",
              "    <tr>\n",
              "      <th>Tobacco</th>\n",
              "      <td>5</td>\n",
              "      <td>5</td>\n",
              "      <td>5</td>\n",
              "      <td>5</td>\n",
              "      <td>5</td>\n",
              "      <td>5</td>\n",
              "      <td>5</td>\n",
              "      <td>5</td>\n",
              "      <td>5</td>\n",
              "    </tr>\n",
              "    <tr>\n",
              "      <th rowspan=\"3\" valign=\"top\">Frequency</th>\n",
              "      <th rowspan=\"3\" valign=\"top\">Frequency</th>\n",
              "      <th>Alcohol</th>\n",
              "      <td>322</td>\n",
              "      <td>322</td>\n",
              "      <td>322</td>\n",
              "      <td>322</td>\n",
              "      <td>322</td>\n",
              "      <td>322</td>\n",
              "      <td>322</td>\n",
              "      <td>322</td>\n",
              "      <td>322</td>\n",
              "    </tr>\n",
              "    <tr>\n",
              "      <th>Drug</th>\n",
              "      <td>24</td>\n",
              "      <td>24</td>\n",
              "      <td>24</td>\n",
              "      <td>24</td>\n",
              "      <td>24</td>\n",
              "      <td>24</td>\n",
              "      <td>24</td>\n",
              "      <td>24</td>\n",
              "      <td>24</td>\n",
              "    </tr>\n",
              "    <tr>\n",
              "      <th>Tobacco</th>\n",
              "      <td>196</td>\n",
              "      <td>196</td>\n",
              "      <td>196</td>\n",
              "      <td>196</td>\n",
              "      <td>196</td>\n",
              "      <td>196</td>\n",
              "      <td>196</td>\n",
              "      <td>191</td>\n",
              "      <td>191</td>\n",
              "    </tr>\n",
              "    <tr>\n",
              "      <th>Frequency2</th>\n",
              "      <th>Frequency</th>\n",
              "      <th>Alcohol</th>\n",
              "      <td>4</td>\n",
              "      <td>4</td>\n",
              "      <td>4</td>\n",
              "      <td>4</td>\n",
              "      <td>4</td>\n",
              "      <td>4</td>\n",
              "      <td>4</td>\n",
              "      <td>4</td>\n",
              "      <td>4</td>\n",
              "    </tr>\n",
              "    <tr>\n",
              "      <th rowspan=\"5\" valign=\"top\">History</th>\n",
              "      <th rowspan=\"5\" valign=\"top\">History</th>\n",
              "      <th>Alcohol</th>\n",
              "      <td>147</td>\n",
              "      <td>147</td>\n",
              "      <td>147</td>\n",
              "      <td>147</td>\n",
              "      <td>147</td>\n",
              "      <td>147</td>\n",
              "      <td>147</td>\n",
              "      <td>142</td>\n",
              "      <td>142</td>\n",
              "    </tr>\n",
              "    <tr>\n",
              "      <th>Drug</th>\n",
              "      <td>100</td>\n",
              "      <td>100</td>\n",
              "      <td>100</td>\n",
              "      <td>100</td>\n",
              "      <td>100</td>\n",
              "      <td>100</td>\n",
              "      <td>100</td>\n",
              "      <td>95</td>\n",
              "      <td>95</td>\n",
              "    </tr>\n",
              "    <tr>\n",
              "      <th>Employment</th>\n",
              "      <td>49</td>\n",
              "      <td>49</td>\n",
              "      <td>49</td>\n",
              "      <td>49</td>\n",
              "      <td>49</td>\n",
              "      <td>49</td>\n",
              "      <td>49</td>\n",
              "      <td>49</td>\n",
              "      <td>49</td>\n",
              "    </tr>\n",
              "    <tr>\n",
              "      <th>LivingStatus</th>\n",
              "      <td>19</td>\n",
              "      <td>19</td>\n",
              "      <td>19</td>\n",
              "      <td>19</td>\n",
              "      <td>19</td>\n",
              "      <td>19</td>\n",
              "      <td>19</td>\n",
              "      <td>19</td>\n",
              "      <td>19</td>\n",
              "    </tr>\n",
              "    <tr>\n",
              "      <th>Tobacco</th>\n",
              "      <td>304</td>\n",
              "      <td>304</td>\n",
              "      <td>304</td>\n",
              "      <td>304</td>\n",
              "      <td>304</td>\n",
              "      <td>304</td>\n",
              "      <td>304</td>\n",
              "      <td>287</td>\n",
              "      <td>287</td>\n",
              "    </tr>\n",
              "    <tr>\n",
              "      <th>History2</th>\n",
              "      <th>History</th>\n",
              "      <th>Alcohol</th>\n",
              "      <td>1</td>\n",
              "      <td>1</td>\n",
              "      <td>1</td>\n",
              "      <td>1</td>\n",
              "      <td>1</td>\n",
              "      <td>1</td>\n",
              "      <td>1</td>\n",
              "      <td>1</td>\n",
              "      <td>1</td>\n",
              "    </tr>\n",
              "    <tr>\n",
              "      <th rowspan=\"2\" valign=\"top\">Method</th>\n",
              "      <th rowspan=\"2\" valign=\"top\">Method</th>\n",
              "      <th>Drug</th>\n",
              "      <td>193</td>\n",
              "      <td>193</td>\n",
              "      <td>193</td>\n",
              "      <td>193</td>\n",
              "      <td>193</td>\n",
              "      <td>193</td>\n",
              "      <td>193</td>\n",
              "      <td>193</td>\n",
              "      <td>193</td>\n",
              "    </tr>\n",
              "    <tr>\n",
              "      <th>Tobacco</th>\n",
              "      <td>5</td>\n",
              "      <td>5</td>\n",
              "      <td>5</td>\n",
              "      <td>5</td>\n",
              "      <td>5</td>\n",
              "      <td>5</td>\n",
              "      <td>5</td>\n",
              "      <td>5</td>\n",
              "      <td>5</td>\n",
              "    </tr>\n",
              "    <tr>\n",
              "      <th>Method2</th>\n",
              "      <th>Method</th>\n",
              "      <th>Drug</th>\n",
              "      <td>2</td>\n",
              "      <td>2</td>\n",
              "      <td>2</td>\n",
              "      <td>2</td>\n",
              "      <td>2</td>\n",
              "      <td>2</td>\n",
              "      <td>2</td>\n",
              "      <td>2</td>\n",
              "      <td>2</td>\n",
              "    </tr>\n",
              "    <tr>\n",
              "      <th rowspan=\"5\" valign=\"top\">Status</th>\n",
              "      <th>StatusEmploy</th>\n",
              "      <th>Employment</th>\n",
              "      <td>980</td>\n",
              "      <td>980</td>\n",
              "      <td>980</td>\n",
              "      <td>980</td>\n",
              "      <td>980</td>\n",
              "      <td>980</td>\n",
              "      <td>980</td>\n",
              "      <td>975</td>\n",
              "      <td>975</td>\n",
              "    </tr>\n",
              "    <tr>\n",
              "      <th rowspan=\"4\" valign=\"top\">StatusTime</th>\n",
              "      <th>Alcohol</th>\n",
              "      <td>1292</td>\n",
              "      <td>1292</td>\n",
              "      <td>1292</td>\n",
              "      <td>1292</td>\n",
              "      <td>1292</td>\n",
              "      <td>1292</td>\n",
              "      <td>1292</td>\n",
              "      <td>1286</td>\n",
              "      <td>1286</td>\n",
              "    </tr>\n",
              "    <tr>\n",
              "      <th>Drug</th>\n",
              "      <td>985</td>\n",
              "      <td>985</td>\n",
              "      <td>985</td>\n",
              "      <td>985</td>\n",
              "      <td>985</td>\n",
              "      <td>985</td>\n",
              "      <td>985</td>\n",
              "      <td>980</td>\n",
              "      <td>980</td>\n",
              "    </tr>\n",
              "    <tr>\n",
              "      <th>LivingStatus</th>\n",
              "      <td>959</td>\n",
              "      <td>959</td>\n",
              "      <td>959</td>\n",
              "      <td>959</td>\n",
              "      <td>959</td>\n",
              "      <td>959</td>\n",
              "      <td>959</td>\n",
              "      <td>958</td>\n",
              "      <td>958</td>\n",
              "    </tr>\n",
              "    <tr>\n",
              "      <th>Tobacco</th>\n",
              "      <td>1230</td>\n",
              "      <td>1230</td>\n",
              "      <td>1230</td>\n",
              "      <td>1230</td>\n",
              "      <td>1230</td>\n",
              "      <td>1230</td>\n",
              "      <td>1230</td>\n",
              "      <td>1209</td>\n",
              "      <td>1209</td>\n",
              "    </tr>\n",
              "    <tr>\n",
              "      <th rowspan=\"4\" valign=\"top\">Status2</th>\n",
              "      <th>StatusEmploy</th>\n",
              "      <th>Employment</th>\n",
              "      <td>1</td>\n",
              "      <td>1</td>\n",
              "      <td>1</td>\n",
              "      <td>1</td>\n",
              "      <td>1</td>\n",
              "      <td>1</td>\n",
              "      <td>1</td>\n",
              "      <td>1</td>\n",
              "      <td>1</td>\n",
              "    </tr>\n",
              "    <tr>\n",
              "      <th rowspan=\"3\" valign=\"top\">StatusTime</th>\n",
              "      <th>Alcohol</th>\n",
              "      <td>2</td>\n",
              "      <td>2</td>\n",
              "      <td>2</td>\n",
              "      <td>2</td>\n",
              "      <td>2</td>\n",
              "      <td>2</td>\n",
              "      <td>2</td>\n",
              "      <td>2</td>\n",
              "      <td>2</td>\n",
              "    </tr>\n",
              "    <tr>\n",
              "      <th>Drug</th>\n",
              "      <td>1</td>\n",
              "      <td>1</td>\n",
              "      <td>1</td>\n",
              "      <td>1</td>\n",
              "      <td>1</td>\n",
              "      <td>1</td>\n",
              "      <td>1</td>\n",
              "      <td>1</td>\n",
              "      <td>1</td>\n",
              "    </tr>\n",
              "    <tr>\n",
              "      <th>Tobacco</th>\n",
              "      <td>2</td>\n",
              "      <td>2</td>\n",
              "      <td>2</td>\n",
              "      <td>2</td>\n",
              "      <td>2</td>\n",
              "      <td>2</td>\n",
              "      <td>2</td>\n",
              "      <td>2</td>\n",
              "      <td>2</td>\n",
              "    </tr>\n",
              "    <tr>\n",
              "      <th rowspan=\"5\" valign=\"top\">Type</th>\n",
              "      <th rowspan=\"4\" valign=\"top\">Type</th>\n",
              "      <th>Alcohol</th>\n",
              "      <td>186</td>\n",
              "      <td>186</td>\n",
              "      <td>186</td>\n",
              "      <td>186</td>\n",
              "      <td>186</td>\n",
              "      <td>186</td>\n",
              "      <td>186</td>\n",
              "      <td>186</td>\n",
              "      <td>186</td>\n",
              "    </tr>\n",
              "    <tr>\n",
              "      <th>Drug</th>\n",
              "      <td>663</td>\n",
              "      <td>663</td>\n",
              "      <td>663</td>\n",
              "      <td>663</td>\n",
              "      <td>663</td>\n",
              "      <td>663</td>\n",
              "      <td>663</td>\n",
              "      <td>660</td>\n",
              "      <td>660</td>\n",
              "    </tr>\n",
              "    <tr>\n",
              "      <th>Employment</th>\n",
              "      <td>695</td>\n",
              "      <td>695</td>\n",
              "      <td>695</td>\n",
              "      <td>695</td>\n",
              "      <td>695</td>\n",
              "      <td>695</td>\n",
              "      <td>695</td>\n",
              "      <td>692</td>\n",
              "      <td>692</td>\n",
              "    </tr>\n",
              "    <tr>\n",
              "      <th>Tobacco</th>\n",
              "      <td>153</td>\n",
              "      <td>153</td>\n",
              "      <td>153</td>\n",
              "      <td>153</td>\n",
              "      <td>153</td>\n",
              "      <td>153</td>\n",
              "      <td>153</td>\n",
              "      <td>150</td>\n",
              "      <td>150</td>\n",
              "    </tr>\n",
              "    <tr>\n",
              "      <th>TypeLiving</th>\n",
              "      <th>LivingStatus</th>\n",
              "      <td>959</td>\n",
              "      <td>959</td>\n",
              "      <td>959</td>\n",
              "      <td>959</td>\n",
              "      <td>959</td>\n",
              "      <td>959</td>\n",
              "      <td>959</td>\n",
              "      <td>958</td>\n",
              "      <td>958</td>\n",
              "    </tr>\n",
              "    <tr>\n",
              "      <th rowspan=\"4\" valign=\"top\">Type2</th>\n",
              "      <th rowspan=\"4\" valign=\"top\">Type</th>\n",
              "      <th>Alcohol</th>\n",
              "      <td>8</td>\n",
              "      <td>8</td>\n",
              "      <td>8</td>\n",
              "      <td>8</td>\n",
              "      <td>8</td>\n",
              "      <td>8</td>\n",
              "      <td>8</td>\n",
              "      <td>8</td>\n",
              "      <td>8</td>\n",
              "    </tr>\n",
              "    <tr>\n",
              "      <th>Drug</th>\n",
              "      <td>20</td>\n",
              "      <td>20</td>\n",
              "      <td>20</td>\n",
              "      <td>20</td>\n",
              "      <td>20</td>\n",
              "      <td>20</td>\n",
              "      <td>20</td>\n",
              "      <td>20</td>\n",
              "      <td>20</td>\n",
              "    </tr>\n",
              "    <tr>\n",
              "      <th>Employment</th>\n",
              "      <td>12</td>\n",
              "      <td>12</td>\n",
              "      <td>12</td>\n",
              "      <td>12</td>\n",
              "      <td>12</td>\n",
              "      <td>12</td>\n",
              "      <td>12</td>\n",
              "      <td>11</td>\n",
              "      <td>11</td>\n",
              "    </tr>\n",
              "    <tr>\n",
              "      <th>Tobacco</th>\n",
              "      <td>2</td>\n",
              "      <td>2</td>\n",
              "      <td>2</td>\n",
              "      <td>2</td>\n",
              "      <td>2</td>\n",
              "      <td>2</td>\n",
              "      <td>2</td>\n",
              "      <td>2</td>\n",
              "      <td>2</td>\n",
              "    </tr>\n",
              "    <tr>\n",
              "      <th rowspan=\"3\" valign=\"top\">Type3</th>\n",
              "      <th rowspan=\"3\" valign=\"top\">Type</th>\n",
              "      <th>Alcohol</th>\n",
              "      <td>1</td>\n",
              "      <td>1</td>\n",
              "      <td>1</td>\n",
              "      <td>1</td>\n",
              "      <td>1</td>\n",
              "      <td>1</td>\n",
              "      <td>1</td>\n",
              "      <td>1</td>\n",
              "      <td>1</td>\n",
              "    </tr>\n",
              "    <tr>\n",
              "      <th>Drug</th>\n",
              "      <td>2</td>\n",
              "      <td>2</td>\n",
              "      <td>2</td>\n",
              "      <td>2</td>\n",
              "      <td>2</td>\n",
              "      <td>2</td>\n",
              "      <td>2</td>\n",
              "      <td>2</td>\n",
              "      <td>2</td>\n",
              "    </tr>\n",
              "    <tr>\n",
              "      <th>Employment</th>\n",
              "      <td>1</td>\n",
              "      <td>1</td>\n",
              "      <td>1</td>\n",
              "      <td>1</td>\n",
              "      <td>1</td>\n",
              "      <td>1</td>\n",
              "      <td>1</td>\n",
              "      <td>1</td>\n",
              "      <td>1</td>\n",
              "    </tr>\n",
              "  </tbody>\n",
              "</table>\n",
              "</div>\n",
              "      <button class=\"colab-df-convert\" onclick=\"convertToInteractive('df-607aa736-f00c-4bbb-8bc0-a9ae3a5283ac')\"\n",
              "              title=\"Convert this dataframe to an interactive table.\"\n",
              "              style=\"display:none;\">\n",
              "        \n",
              "  <svg xmlns=\"http://www.w3.org/2000/svg\" height=\"24px\"viewBox=\"0 0 24 24\"\n",
              "       width=\"24px\">\n",
              "    <path d=\"M0 0h24v24H0V0z\" fill=\"none\"/>\n",
              "    <path d=\"M18.56 5.44l.94 2.06.94-2.06 2.06-.94-2.06-.94-.94-2.06-.94 2.06-2.06.94zm-11 1L8.5 8.5l.94-2.06 2.06-.94-2.06-.94L8.5 2.5l-.94 2.06-2.06.94zm10 10l.94 2.06.94-2.06 2.06-.94-2.06-.94-.94-2.06-.94 2.06-2.06.94z\"/><path d=\"M17.41 7.96l-1.37-1.37c-.4-.4-.92-.59-1.43-.59-.52 0-1.04.2-1.43.59L10.3 9.45l-7.72 7.72c-.78.78-.78 2.05 0 2.83L4 21.41c.39.39.9.59 1.41.59.51 0 1.02-.2 1.41-.59l7.78-7.78 2.81-2.81c.8-.78.8-2.07 0-2.86zM5.41 20L4 18.59l7.72-7.72 1.47 1.35L5.41 20z\"/>\n",
              "  </svg>\n",
              "      </button>\n",
              "      \n",
              "  <style>\n",
              "    .colab-df-container {\n",
              "      display:flex;\n",
              "      flex-wrap:wrap;\n",
              "      gap: 12px;\n",
              "    }\n",
              "\n",
              "    .colab-df-convert {\n",
              "      background-color: #E8F0FE;\n",
              "      border: none;\n",
              "      border-radius: 50%;\n",
              "      cursor: pointer;\n",
              "      display: none;\n",
              "      fill: #1967D2;\n",
              "      height: 32px;\n",
              "      padding: 0 0 0 0;\n",
              "      width: 32px;\n",
              "    }\n",
              "\n",
              "    .colab-df-convert:hover {\n",
              "      background-color: #E2EBFA;\n",
              "      box-shadow: 0px 1px 2px rgba(60, 64, 67, 0.3), 0px 1px 3px 1px rgba(60, 64, 67, 0.15);\n",
              "      fill: #174EA6;\n",
              "    }\n",
              "\n",
              "    [theme=dark] .colab-df-convert {\n",
              "      background-color: #3B4455;\n",
              "      fill: #D2E3FC;\n",
              "    }\n",
              "\n",
              "    [theme=dark] .colab-df-convert:hover {\n",
              "      background-color: #434B5C;\n",
              "      box-shadow: 0px 1px 3px 1px rgba(0, 0, 0, 0.15);\n",
              "      filter: drop-shadow(0px 1px 2px rgba(0, 0, 0, 0.3));\n",
              "      fill: #FFFFFF;\n",
              "    }\n",
              "  </style>\n",
              "\n",
              "      <script>\n",
              "        const buttonEl =\n",
              "          document.querySelector('#df-607aa736-f00c-4bbb-8bc0-a9ae3a5283ac button.colab-df-convert');\n",
              "        buttonEl.style.display =\n",
              "          google.colab.kernel.accessAllowed ? 'block' : 'none';\n",
              "\n",
              "        async function convertToInteractive(key) {\n",
              "          const element = document.querySelector('#df-607aa736-f00c-4bbb-8bc0-a9ae3a5283ac');\n",
              "          const dataTable =\n",
              "            await google.colab.kernel.invokeFunction('convertToInteractive',\n",
              "                                                     [key], {});\n",
              "          if (!dataTable) return;\n",
              "\n",
              "          const docLinkHtml = 'Like what you see? Visit the ' +\n",
              "            '<a target=\"_blank\" href=https://colab.research.google.com/notebooks/data_table.ipynb>data table notebook</a>'\n",
              "            + ' to learn more about interactive tables.';\n",
              "          element.innerHTML = '';\n",
              "          dataTable['output_type'] = 'display_data';\n",
              "          await google.colab.output.renderOutput(dataTable, element);\n",
              "          const docLink = document.createElement('div');\n",
              "          docLink.innerHTML = docLinkHtml;\n",
              "          element.appendChild(docLink);\n",
              "        }\n",
              "      </script>\n",
              "    </div>\n",
              "  </div>\n",
              "  "
            ]
          },
          "metadata": {},
          "execution_count": 6
        }
      ],
      "source": [
        "trainDataSource.pivot_table(index=['relation_type', 'T2_type','T1_type'], aggfunc='count')"
      ]
    },
    {
      "cell_type": "code",
      "execution_count": null,
      "metadata": {
        "id": "JhR6g0bscRnt"
      },
      "outputs": [],
      "source": [
        "cleanTrainDF = trainDataSource.dropna().reset_index()\n",
        "cleanDevDF = devDataSource.dropna().reset_index()"
      ]
    },
    {
      "cell_type": "code",
      "source": [
        "cleanTrainDF['fileName'] = cleanTrainDF['id'].apply(lambda x: x.split(\"_\")[0])\n",
        "cleanDevDF['fileName'] = cleanDevDF['id'].apply(lambda x: x.split(\"_\")[0])"
      ],
      "metadata": {
        "id": "32leSTEdTH6Q"
      },
      "execution_count": null,
      "outputs": []
    },
    {
      "cell_type": "code",
      "execution_count": null,
      "metadata": {
        "id": "pBVezliJcp9J"
      },
      "outputs": [],
      "source": [
        "for file in cleanTrainDF['fileName'].unique():\n",
        "  if(file in cleanDevDF['fileName']):\n",
        "    print(file, end = \" \")"
      ]
    },
    {
      "cell_type": "code",
      "execution_count": null,
      "metadata": {
        "colab": {
          "base_uri": "https://localhost:8080/"
        },
        "id": "x9s8wKi_cwvp",
        "outputId": "5efcbe37-435b-4417-cc11-a4f65d3d11a4"
      },
      "outputs": [
        {
          "output_type": "execute_result",
          "data": {
            "text/plain": [
              "array(['Status', 'Amount', 'Frequency', 'Type', 'Method', 'Duration',\n",
              "       'History', 'Type2', 'Type3', 'Amount2', 'Duration2', 'Frequency2',\n",
              "       'Status2', 'History2', 'Amount3', 'Method2'], dtype=object)"
            ]
          },
          "metadata": {},
          "execution_count": 10
        }
      ],
      "source": [
        "cleanTrainDF['relation_type'].unique()"
      ]
    },
    {
      "cell_type": "code",
      "execution_count": null,
      "metadata": {
        "colab": {
          "base_uri": "https://localhost:8080/"
        },
        "id": "5A8gU4Toc3fZ",
        "outputId": "665a87bf-4834-4858-a789-a61603516a39"
      },
      "outputs": [
        {
          "output_type": "execute_result",
          "data": {
            "text/plain": [
              "(10823, 14)"
            ]
          },
          "metadata": {},
          "execution_count": 11
        }
      ],
      "source": [
        "cleanTrainDF.shape"
      ]
    },
    {
      "cell_type": "code",
      "execution_count": null,
      "metadata": {
        "id": "GxyfIgBtc0HJ"
      },
      "outputs": [],
      "source": [
        "# extract only 'Amount' and 'History' relation type\n",
        "twoClassCleanTrainDF = cleanTrainDF[(cleanTrainDF['relation_type'] == 'Amount') | (cleanTrainDF['relation_type'] == 'History')]\n",
        "twoClassCleanDevDF = cleanDevDF[(cleanDevDF['relation_type'] == 'Amount') | (cleanDevDF['relation_type'] == 'History')]"
      ]
    },
    {
      "cell_type": "code",
      "source": [
        "twoClassCleanTrainDF.head()"
      ],
      "metadata": {
        "colab": {
          "base_uri": "https://localhost:8080/",
          "height": 617
        },
        "id": "HOs_idQG-geF",
        "outputId": "73403dfb-721a-40bf-f731-6336a9931256"
      },
      "execution_count": null,
      "outputs": [
        {
          "output_type": "execute_result",
          "data": {
            "text/plain": [
              "    index  Unnamed: 0            id  \\\n",
              "2       2           2  0101_E2 Tob    \n",
              "16     16          16  0104_E2 Curr   \n",
              "26     26          26  0104_E6 Smok   \n",
              "32     32          32  0105_E2 She    \n",
              "36     36          36  0106_E2  Liv   \n",
              "\n",
              "                                             sentence        T1  \\\n",
              "2    Tob (-), EtOH - a glass of wine 1-2x/month, I...     EtOH    \n",
              "16   Currently admits to five drinks of alcohol pe...  alcohol    \n",
              "26              Smokes 1-1.5 packs per day x20 years.   Smokes    \n",
              "32                     She quit smoking 30 years ago.  smoking    \n",
              "36    Lives with wife in [**Location (un) 538**], ...  smoking    \n",
              "\n",
              "    T1_starting_postion  T1_ending_position  T1_type             T2  \\\n",
              "2                    10                  13  Alcohol       a glass    \n",
              "16                   37                  43  Alcohol   five drinks    \n",
              "26                    2                   7  Tobacco   1-1.5 packs    \n",
              "32                   11                  17  Tobacco  30 years ago    \n",
              "36                   70                  76  Tobacco  60 pack year    \n",
              "\n",
              "    T2_starting_postion  T2_ending_position  T2_type relation_type fileName  \n",
              "2                    17                  23   Amount        Amount     0101  \n",
              "16                   22                  32   Amount        Amount     0104  \n",
              "26                    9                  19   Amount        Amount     0104  \n",
              "32                   19                  30  History       History     0105  \n",
              "36                   46                  57   Amount        Amount     0106  "
            ],
            "text/html": [
              "\n",
              "  <div id=\"df-f482051a-edc7-4818-a013-e0880190cf9f\">\n",
              "    <div class=\"colab-df-container\">\n",
              "      <div>\n",
              "<style scoped>\n",
              "    .dataframe tbody tr th:only-of-type {\n",
              "        vertical-align: middle;\n",
              "    }\n",
              "\n",
              "    .dataframe tbody tr th {\n",
              "        vertical-align: top;\n",
              "    }\n",
              "\n",
              "    .dataframe thead th {\n",
              "        text-align: right;\n",
              "    }\n",
              "</style>\n",
              "<table border=\"1\" class=\"dataframe\">\n",
              "  <thead>\n",
              "    <tr style=\"text-align: right;\">\n",
              "      <th></th>\n",
              "      <th>index</th>\n",
              "      <th>Unnamed: 0</th>\n",
              "      <th>id</th>\n",
              "      <th>sentence</th>\n",
              "      <th>T1</th>\n",
              "      <th>T1_starting_postion</th>\n",
              "      <th>T1_ending_position</th>\n",
              "      <th>T1_type</th>\n",
              "      <th>T2</th>\n",
              "      <th>T2_starting_postion</th>\n",
              "      <th>T2_ending_position</th>\n",
              "      <th>T2_type</th>\n",
              "      <th>relation_type</th>\n",
              "      <th>fileName</th>\n",
              "    </tr>\n",
              "  </thead>\n",
              "  <tbody>\n",
              "    <tr>\n",
              "      <th>2</th>\n",
              "      <td>2</td>\n",
              "      <td>2</td>\n",
              "      <td>0101_E2 Tob</td>\n",
              "      <td>Tob (-), EtOH - a glass of wine 1-2x/month, I...</td>\n",
              "      <td>EtOH</td>\n",
              "      <td>10</td>\n",
              "      <td>13</td>\n",
              "      <td>Alcohol</td>\n",
              "      <td>a glass</td>\n",
              "      <td>17</td>\n",
              "      <td>23</td>\n",
              "      <td>Amount</td>\n",
              "      <td>Amount</td>\n",
              "      <td>0101</td>\n",
              "    </tr>\n",
              "    <tr>\n",
              "      <th>16</th>\n",
              "      <td>16</td>\n",
              "      <td>16</td>\n",
              "      <td>0104_E2 Curr</td>\n",
              "      <td>Currently admits to five drinks of alcohol pe...</td>\n",
              "      <td>alcohol</td>\n",
              "      <td>37</td>\n",
              "      <td>43</td>\n",
              "      <td>Alcohol</td>\n",
              "      <td>five drinks</td>\n",
              "      <td>22</td>\n",
              "      <td>32</td>\n",
              "      <td>Amount</td>\n",
              "      <td>Amount</td>\n",
              "      <td>0104</td>\n",
              "    </tr>\n",
              "    <tr>\n",
              "      <th>26</th>\n",
              "      <td>26</td>\n",
              "      <td>26</td>\n",
              "      <td>0104_E6 Smok</td>\n",
              "      <td>Smokes 1-1.5 packs per day x20 years.</td>\n",
              "      <td>Smokes</td>\n",
              "      <td>2</td>\n",
              "      <td>7</td>\n",
              "      <td>Tobacco</td>\n",
              "      <td>1-1.5 packs</td>\n",
              "      <td>9</td>\n",
              "      <td>19</td>\n",
              "      <td>Amount</td>\n",
              "      <td>Amount</td>\n",
              "      <td>0104</td>\n",
              "    </tr>\n",
              "    <tr>\n",
              "      <th>32</th>\n",
              "      <td>32</td>\n",
              "      <td>32</td>\n",
              "      <td>0105_E2 She</td>\n",
              "      <td>She quit smoking 30 years ago.</td>\n",
              "      <td>smoking</td>\n",
              "      <td>11</td>\n",
              "      <td>17</td>\n",
              "      <td>Tobacco</td>\n",
              "      <td>30 years ago</td>\n",
              "      <td>19</td>\n",
              "      <td>30</td>\n",
              "      <td>History</td>\n",
              "      <td>History</td>\n",
              "      <td>0105</td>\n",
              "    </tr>\n",
              "    <tr>\n",
              "      <th>36</th>\n",
              "      <td>36</td>\n",
              "      <td>36</td>\n",
              "      <td>0106_E2  Liv</td>\n",
              "      <td>Lives with wife in [**Location (un) 538**], ...</td>\n",
              "      <td>smoking</td>\n",
              "      <td>70</td>\n",
              "      <td>76</td>\n",
              "      <td>Tobacco</td>\n",
              "      <td>60 pack year</td>\n",
              "      <td>46</td>\n",
              "      <td>57</td>\n",
              "      <td>Amount</td>\n",
              "      <td>Amount</td>\n",
              "      <td>0106</td>\n",
              "    </tr>\n",
              "  </tbody>\n",
              "</table>\n",
              "</div>\n",
              "      <button class=\"colab-df-convert\" onclick=\"convertToInteractive('df-f482051a-edc7-4818-a013-e0880190cf9f')\"\n",
              "              title=\"Convert this dataframe to an interactive table.\"\n",
              "              style=\"display:none;\">\n",
              "        \n",
              "  <svg xmlns=\"http://www.w3.org/2000/svg\" height=\"24px\"viewBox=\"0 0 24 24\"\n",
              "       width=\"24px\">\n",
              "    <path d=\"M0 0h24v24H0V0z\" fill=\"none\"/>\n",
              "    <path d=\"M18.56 5.44l.94 2.06.94-2.06 2.06-.94-2.06-.94-.94-2.06-.94 2.06-2.06.94zm-11 1L8.5 8.5l.94-2.06 2.06-.94-2.06-.94L8.5 2.5l-.94 2.06-2.06.94zm10 10l.94 2.06.94-2.06 2.06-.94-2.06-.94-.94-2.06-.94 2.06-2.06.94z\"/><path d=\"M17.41 7.96l-1.37-1.37c-.4-.4-.92-.59-1.43-.59-.52 0-1.04.2-1.43.59L10.3 9.45l-7.72 7.72c-.78.78-.78 2.05 0 2.83L4 21.41c.39.39.9.59 1.41.59.51 0 1.02-.2 1.41-.59l7.78-7.78 2.81-2.81c.8-.78.8-2.07 0-2.86zM5.41 20L4 18.59l7.72-7.72 1.47 1.35L5.41 20z\"/>\n",
              "  </svg>\n",
              "      </button>\n",
              "      \n",
              "  <style>\n",
              "    .colab-df-container {\n",
              "      display:flex;\n",
              "      flex-wrap:wrap;\n",
              "      gap: 12px;\n",
              "    }\n",
              "\n",
              "    .colab-df-convert {\n",
              "      background-color: #E8F0FE;\n",
              "      border: none;\n",
              "      border-radius: 50%;\n",
              "      cursor: pointer;\n",
              "      display: none;\n",
              "      fill: #1967D2;\n",
              "      height: 32px;\n",
              "      padding: 0 0 0 0;\n",
              "      width: 32px;\n",
              "    }\n",
              "\n",
              "    .colab-df-convert:hover {\n",
              "      background-color: #E2EBFA;\n",
              "      box-shadow: 0px 1px 2px rgba(60, 64, 67, 0.3), 0px 1px 3px 1px rgba(60, 64, 67, 0.15);\n",
              "      fill: #174EA6;\n",
              "    }\n",
              "\n",
              "    [theme=dark] .colab-df-convert {\n",
              "      background-color: #3B4455;\n",
              "      fill: #D2E3FC;\n",
              "    }\n",
              "\n",
              "    [theme=dark] .colab-df-convert:hover {\n",
              "      background-color: #434B5C;\n",
              "      box-shadow: 0px 1px 3px 1px rgba(0, 0, 0, 0.15);\n",
              "      filter: drop-shadow(0px 1px 2px rgba(0, 0, 0, 0.3));\n",
              "      fill: #FFFFFF;\n",
              "    }\n",
              "  </style>\n",
              "\n",
              "      <script>\n",
              "        const buttonEl =\n",
              "          document.querySelector('#df-f482051a-edc7-4818-a013-e0880190cf9f button.colab-df-convert');\n",
              "        buttonEl.style.display =\n",
              "          google.colab.kernel.accessAllowed ? 'block' : 'none';\n",
              "\n",
              "        async function convertToInteractive(key) {\n",
              "          const element = document.querySelector('#df-f482051a-edc7-4818-a013-e0880190cf9f');\n",
              "          const dataTable =\n",
              "            await google.colab.kernel.invokeFunction('convertToInteractive',\n",
              "                                                     [key], {});\n",
              "          if (!dataTable) return;\n",
              "\n",
              "          const docLinkHtml = 'Like what you see? Visit the ' +\n",
              "            '<a target=\"_blank\" href=https://colab.research.google.com/notebooks/data_table.ipynb>data table notebook</a>'\n",
              "            + ' to learn more about interactive tables.';\n",
              "          element.innerHTML = '';\n",
              "          dataTable['output_type'] = 'display_data';\n",
              "          await google.colab.output.renderOutput(dataTable, element);\n",
              "          const docLink = document.createElement('div');\n",
              "          docLink.innerHTML = docLinkHtml;\n",
              "          element.appendChild(docLink);\n",
              "        }\n",
              "      </script>\n",
              "    </div>\n",
              "  </div>\n",
              "  "
            ]
          },
          "metadata": {},
          "execution_count": 13
        }
      ]
    },
    {
      "cell_type": "code",
      "source": [
        "# combine Train and Dev data frame\n",
        "twoClassCompleteDF = pd.concat([twoClassCleanTrainDF, twoClassCleanDevDF])"
      ],
      "metadata": {
        "id": "jII1Do6uJioE"
      },
      "execution_count": null,
      "outputs": []
    },
    {
      "cell_type": "code",
      "source": [
        "def converter(relation):\n",
        "  # convert relation_type to binary\n",
        "    if relation == 'History':\n",
        "        return 1\n",
        "    elif relation == 'Amount':\n",
        "        return 0"
      ],
      "metadata": {
        "id": "oUjbN2bkWTql"
      },
      "execution_count": null,
      "outputs": []
    },
    {
      "cell_type": "code",
      "source": [
        "twoClassCompleteDF['relation_type'] = twoClassCompleteDF['relation_type'].apply(converter)"
      ],
      "metadata": {
        "id": "i8RrCGTtW2gc"
      },
      "execution_count": null,
      "outputs": []
    },
    {
      "cell_type": "code",
      "source": [
        "twoClassCompleteDF.head()"
      ],
      "metadata": {
        "colab": {
          "base_uri": "https://localhost:8080/",
          "height": 617
        },
        "id": "g7NOmRzwXlsx",
        "outputId": "f9ad52ac-1a41-40dc-d00e-95208f947880"
      },
      "execution_count": null,
      "outputs": [
        {
          "output_type": "execute_result",
          "data": {
            "text/plain": [
              "    index  Unnamed: 0            id  \\\n",
              "2       2           2  0101_E2 Tob    \n",
              "16     16          16  0104_E2 Curr   \n",
              "26     26          26  0104_E6 Smok   \n",
              "32     32          32  0105_E2 She    \n",
              "36     36          36  0106_E2  Liv   \n",
              "\n",
              "                                             sentence        T1  \\\n",
              "2    Tob (-), EtOH - a glass of wine 1-2x/month, I...     EtOH    \n",
              "16   Currently admits to five drinks of alcohol pe...  alcohol    \n",
              "26              Smokes 1-1.5 packs per day x20 years.   Smokes    \n",
              "32                     She quit smoking 30 years ago.  smoking    \n",
              "36    Lives with wife in [**Location (un) 538**], ...  smoking    \n",
              "\n",
              "    T1_starting_postion  T1_ending_position  T1_type             T2  \\\n",
              "2                    10                  13  Alcohol       a glass    \n",
              "16                   37                  43  Alcohol   five drinks    \n",
              "26                    2                   7  Tobacco   1-1.5 packs    \n",
              "32                   11                  17  Tobacco  30 years ago    \n",
              "36                   70                  76  Tobacco  60 pack year    \n",
              "\n",
              "    T2_starting_postion  T2_ending_position  T2_type  relation_type fileName  \n",
              "2                    17                  23   Amount              0     0101  \n",
              "16                   22                  32   Amount              0     0104  \n",
              "26                    9                  19   Amount              0     0104  \n",
              "32                   19                  30  History              1     0105  \n",
              "36                   46                  57   Amount              0     0106  "
            ],
            "text/html": [
              "\n",
              "  <div id=\"df-57dd73ae-eb0d-401a-9ed8-beee76508c39\">\n",
              "    <div class=\"colab-df-container\">\n",
              "      <div>\n",
              "<style scoped>\n",
              "    .dataframe tbody tr th:only-of-type {\n",
              "        vertical-align: middle;\n",
              "    }\n",
              "\n",
              "    .dataframe tbody tr th {\n",
              "        vertical-align: top;\n",
              "    }\n",
              "\n",
              "    .dataframe thead th {\n",
              "        text-align: right;\n",
              "    }\n",
              "</style>\n",
              "<table border=\"1\" class=\"dataframe\">\n",
              "  <thead>\n",
              "    <tr style=\"text-align: right;\">\n",
              "      <th></th>\n",
              "      <th>index</th>\n",
              "      <th>Unnamed: 0</th>\n",
              "      <th>id</th>\n",
              "      <th>sentence</th>\n",
              "      <th>T1</th>\n",
              "      <th>T1_starting_postion</th>\n",
              "      <th>T1_ending_position</th>\n",
              "      <th>T1_type</th>\n",
              "      <th>T2</th>\n",
              "      <th>T2_starting_postion</th>\n",
              "      <th>T2_ending_position</th>\n",
              "      <th>T2_type</th>\n",
              "      <th>relation_type</th>\n",
              "      <th>fileName</th>\n",
              "    </tr>\n",
              "  </thead>\n",
              "  <tbody>\n",
              "    <tr>\n",
              "      <th>2</th>\n",
              "      <td>2</td>\n",
              "      <td>2</td>\n",
              "      <td>0101_E2 Tob</td>\n",
              "      <td>Tob (-), EtOH - a glass of wine 1-2x/month, I...</td>\n",
              "      <td>EtOH</td>\n",
              "      <td>10</td>\n",
              "      <td>13</td>\n",
              "      <td>Alcohol</td>\n",
              "      <td>a glass</td>\n",
              "      <td>17</td>\n",
              "      <td>23</td>\n",
              "      <td>Amount</td>\n",
              "      <td>0</td>\n",
              "      <td>0101</td>\n",
              "    </tr>\n",
              "    <tr>\n",
              "      <th>16</th>\n",
              "      <td>16</td>\n",
              "      <td>16</td>\n",
              "      <td>0104_E2 Curr</td>\n",
              "      <td>Currently admits to five drinks of alcohol pe...</td>\n",
              "      <td>alcohol</td>\n",
              "      <td>37</td>\n",
              "      <td>43</td>\n",
              "      <td>Alcohol</td>\n",
              "      <td>five drinks</td>\n",
              "      <td>22</td>\n",
              "      <td>32</td>\n",
              "      <td>Amount</td>\n",
              "      <td>0</td>\n",
              "      <td>0104</td>\n",
              "    </tr>\n",
              "    <tr>\n",
              "      <th>26</th>\n",
              "      <td>26</td>\n",
              "      <td>26</td>\n",
              "      <td>0104_E6 Smok</td>\n",
              "      <td>Smokes 1-1.5 packs per day x20 years.</td>\n",
              "      <td>Smokes</td>\n",
              "      <td>2</td>\n",
              "      <td>7</td>\n",
              "      <td>Tobacco</td>\n",
              "      <td>1-1.5 packs</td>\n",
              "      <td>9</td>\n",
              "      <td>19</td>\n",
              "      <td>Amount</td>\n",
              "      <td>0</td>\n",
              "      <td>0104</td>\n",
              "    </tr>\n",
              "    <tr>\n",
              "      <th>32</th>\n",
              "      <td>32</td>\n",
              "      <td>32</td>\n",
              "      <td>0105_E2 She</td>\n",
              "      <td>She quit smoking 30 years ago.</td>\n",
              "      <td>smoking</td>\n",
              "      <td>11</td>\n",
              "      <td>17</td>\n",
              "      <td>Tobacco</td>\n",
              "      <td>30 years ago</td>\n",
              "      <td>19</td>\n",
              "      <td>30</td>\n",
              "      <td>History</td>\n",
              "      <td>1</td>\n",
              "      <td>0105</td>\n",
              "    </tr>\n",
              "    <tr>\n",
              "      <th>36</th>\n",
              "      <td>36</td>\n",
              "      <td>36</td>\n",
              "      <td>0106_E2  Liv</td>\n",
              "      <td>Lives with wife in [**Location (un) 538**], ...</td>\n",
              "      <td>smoking</td>\n",
              "      <td>70</td>\n",
              "      <td>76</td>\n",
              "      <td>Tobacco</td>\n",
              "      <td>60 pack year</td>\n",
              "      <td>46</td>\n",
              "      <td>57</td>\n",
              "      <td>Amount</td>\n",
              "      <td>0</td>\n",
              "      <td>0106</td>\n",
              "    </tr>\n",
              "  </tbody>\n",
              "</table>\n",
              "</div>\n",
              "      <button class=\"colab-df-convert\" onclick=\"convertToInteractive('df-57dd73ae-eb0d-401a-9ed8-beee76508c39')\"\n",
              "              title=\"Convert this dataframe to an interactive table.\"\n",
              "              style=\"display:none;\">\n",
              "        \n",
              "  <svg xmlns=\"http://www.w3.org/2000/svg\" height=\"24px\"viewBox=\"0 0 24 24\"\n",
              "       width=\"24px\">\n",
              "    <path d=\"M0 0h24v24H0V0z\" fill=\"none\"/>\n",
              "    <path d=\"M18.56 5.44l.94 2.06.94-2.06 2.06-.94-2.06-.94-.94-2.06-.94 2.06-2.06.94zm-11 1L8.5 8.5l.94-2.06 2.06-.94-2.06-.94L8.5 2.5l-.94 2.06-2.06.94zm10 10l.94 2.06.94-2.06 2.06-.94-2.06-.94-.94-2.06-.94 2.06-2.06.94z\"/><path d=\"M17.41 7.96l-1.37-1.37c-.4-.4-.92-.59-1.43-.59-.52 0-1.04.2-1.43.59L10.3 9.45l-7.72 7.72c-.78.78-.78 2.05 0 2.83L4 21.41c.39.39.9.59 1.41.59.51 0 1.02-.2 1.41-.59l7.78-7.78 2.81-2.81c.8-.78.8-2.07 0-2.86zM5.41 20L4 18.59l7.72-7.72 1.47 1.35L5.41 20z\"/>\n",
              "  </svg>\n",
              "      </button>\n",
              "      \n",
              "  <style>\n",
              "    .colab-df-container {\n",
              "      display:flex;\n",
              "      flex-wrap:wrap;\n",
              "      gap: 12px;\n",
              "    }\n",
              "\n",
              "    .colab-df-convert {\n",
              "      background-color: #E8F0FE;\n",
              "      border: none;\n",
              "      border-radius: 50%;\n",
              "      cursor: pointer;\n",
              "      display: none;\n",
              "      fill: #1967D2;\n",
              "      height: 32px;\n",
              "      padding: 0 0 0 0;\n",
              "      width: 32px;\n",
              "    }\n",
              "\n",
              "    .colab-df-convert:hover {\n",
              "      background-color: #E2EBFA;\n",
              "      box-shadow: 0px 1px 2px rgba(60, 64, 67, 0.3), 0px 1px 3px 1px rgba(60, 64, 67, 0.15);\n",
              "      fill: #174EA6;\n",
              "    }\n",
              "\n",
              "    [theme=dark] .colab-df-convert {\n",
              "      background-color: #3B4455;\n",
              "      fill: #D2E3FC;\n",
              "    }\n",
              "\n",
              "    [theme=dark] .colab-df-convert:hover {\n",
              "      background-color: #434B5C;\n",
              "      box-shadow: 0px 1px 3px 1px rgba(0, 0, 0, 0.15);\n",
              "      filter: drop-shadow(0px 1px 2px rgba(0, 0, 0, 0.3));\n",
              "      fill: #FFFFFF;\n",
              "    }\n",
              "  </style>\n",
              "\n",
              "      <script>\n",
              "        const buttonEl =\n",
              "          document.querySelector('#df-57dd73ae-eb0d-401a-9ed8-beee76508c39 button.colab-df-convert');\n",
              "        buttonEl.style.display =\n",
              "          google.colab.kernel.accessAllowed ? 'block' : 'none';\n",
              "\n",
              "        async function convertToInteractive(key) {\n",
              "          const element = document.querySelector('#df-57dd73ae-eb0d-401a-9ed8-beee76508c39');\n",
              "          const dataTable =\n",
              "            await google.colab.kernel.invokeFunction('convertToInteractive',\n",
              "                                                     [key], {});\n",
              "          if (!dataTable) return;\n",
              "\n",
              "          const docLinkHtml = 'Like what you see? Visit the ' +\n",
              "            '<a target=\"_blank\" href=https://colab.research.google.com/notebooks/data_table.ipynb>data table notebook</a>'\n",
              "            + ' to learn more about interactive tables.';\n",
              "          element.innerHTML = '';\n",
              "          dataTable['output_type'] = 'display_data';\n",
              "          await google.colab.output.renderOutput(dataTable, element);\n",
              "          const docLink = document.createElement('div');\n",
              "          docLink.innerHTML = docLinkHtml;\n",
              "          element.appendChild(docLink);\n",
              "        }\n",
              "      </script>\n",
              "    </div>\n",
              "  </div>\n",
              "  "
            ]
          },
          "metadata": {},
          "execution_count": 17
        }
      ]
    },
    {
      "cell_type": "code",
      "source": [
        "print('Number of \"History\" samples:', (twoClassCompleteDF.relation_type == 1).sum())\n",
        "print('Number of \"Amount\" samples:',  (twoClassCompleteDF.relation_type == 0).sum())\n",
        "print('Total samples:', len(twoClassCompleteDF))"
      ],
      "metadata": {
        "colab": {
          "base_uri": "https://localhost:8080/"
        },
        "id": "MKsBgzy4WG7y",
        "outputId": "e19c2e23-9ae3-4575-e6ce-63acf3856c85"
      },
      "execution_count": null,
      "outputs": [
        {
          "output_type": "stream",
          "name": "stdout",
          "text": [
            "Number of \"History\" samples: 670\n",
            "Number of \"Amount\" samples: 949\n",
            "Total samples: 1619\n"
          ]
        }
      ]
    },
    {
      "cell_type": "code",
      "source": [
        "# split the training data into positive and negative\n",
        "rows_his = twoClassCompleteDF.relation_type == 1\n",
        "df_his = twoClassCompleteDF.loc[rows_his]\n",
        "df_amt = twoClassCompleteDF.loc[~rows_his]\n",
        "\n",
        "# merge the balanced data\n",
        "df = pd.concat([df_his, df_amt.sample(n = len(df_his), random_state = 42)],axis = 0)\n",
        "\n",
        "# shuffle the order of training samples \n",
        "df = df.sample(n = len(df), random_state = 42).reset_index(drop = True)"
      ],
      "metadata": {
        "id": "ecxCkbXshq0i"
      },
      "execution_count": null,
      "outputs": []
    },
    {
      "cell_type": "code",
      "source": [
        "print('Number of \"History\" samples:', (df.relation_type == 1).sum())\n",
        "print('Number of \"Amount\" samples:',  (df.relation_type == 0).sum())\n",
        "print('Prevalence: (n = %d):'%len(df), df.relation_type.sum()/ len(df))"
      ],
      "metadata": {
        "colab": {
          "base_uri": "https://localhost:8080/"
        },
        "id": "KVtbOQmRT0Sv",
        "outputId": "306377af-b5d0-4a85-f6b1-b24f01ad90dd"
      },
      "execution_count": null,
      "outputs": [
        {
          "output_type": "stream",
          "name": "stdout",
          "text": [
            "Number of \"History\" samples: 670\n",
            "Number of \"Amount\" samples: 670\n",
            "Prevalence: (n = 1340): 0.5\n"
          ]
        }
      ]
    },
    {
      "cell_type": "code",
      "source": [
        "# for training the model we use sentence as features\n",
        "# and relation type as target\n",
        "twoclass_df = df[['sentence', 'relation_type']]\n",
        "twoclass_df.head()"
      ],
      "metadata": {
        "colab": {
          "base_uri": "https://localhost:8080/",
          "height": 206
        },
        "id": "Ql956ZWNjOFL",
        "outputId": "0f13aae6-6d77-404f-ef3f-00356057f788"
      },
      "execution_count": null,
      "outputs": [
        {
          "output_type": "execute_result",
          "data": {
            "text/plain": [
              "                                            sentence  relation_type\n",
              "0   Family from [**Male First Name (un) 1056**], ...              1\n",
              "1   Lived by himself since divorce in [**2159**];...              0\n",
              "2   He use to drink alcohol but has abstained for...              1\n",
              "3           Former heavy EtOH use, sober x 35 years.              1\n",
              "4   Prior to that he hadn't used any cocaine for ...              1"
            ],
            "text/html": [
              "\n",
              "  <div id=\"df-2fb65cd7-8c73-4be8-bf46-c3d1ce0b096f\">\n",
              "    <div class=\"colab-df-container\">\n",
              "      <div>\n",
              "<style scoped>\n",
              "    .dataframe tbody tr th:only-of-type {\n",
              "        vertical-align: middle;\n",
              "    }\n",
              "\n",
              "    .dataframe tbody tr th {\n",
              "        vertical-align: top;\n",
              "    }\n",
              "\n",
              "    .dataframe thead th {\n",
              "        text-align: right;\n",
              "    }\n",
              "</style>\n",
              "<table border=\"1\" class=\"dataframe\">\n",
              "  <thead>\n",
              "    <tr style=\"text-align: right;\">\n",
              "      <th></th>\n",
              "      <th>sentence</th>\n",
              "      <th>relation_type</th>\n",
              "    </tr>\n",
              "  </thead>\n",
              "  <tbody>\n",
              "    <tr>\n",
              "      <th>0</th>\n",
              "      <td>Family from [**Male First Name (un) 1056**], ...</td>\n",
              "      <td>1</td>\n",
              "    </tr>\n",
              "    <tr>\n",
              "      <th>1</th>\n",
              "      <td>Lived by himself since divorce in [**2159**];...</td>\n",
              "      <td>0</td>\n",
              "    </tr>\n",
              "    <tr>\n",
              "      <th>2</th>\n",
              "      <td>He use to drink alcohol but has abstained for...</td>\n",
              "      <td>1</td>\n",
              "    </tr>\n",
              "    <tr>\n",
              "      <th>3</th>\n",
              "      <td>Former heavy EtOH use, sober x 35 years.</td>\n",
              "      <td>1</td>\n",
              "    </tr>\n",
              "    <tr>\n",
              "      <th>4</th>\n",
              "      <td>Prior to that he hadn't used any cocaine for ...</td>\n",
              "      <td>1</td>\n",
              "    </tr>\n",
              "  </tbody>\n",
              "</table>\n",
              "</div>\n",
              "      <button class=\"colab-df-convert\" onclick=\"convertToInteractive('df-2fb65cd7-8c73-4be8-bf46-c3d1ce0b096f')\"\n",
              "              title=\"Convert this dataframe to an interactive table.\"\n",
              "              style=\"display:none;\">\n",
              "        \n",
              "  <svg xmlns=\"http://www.w3.org/2000/svg\" height=\"24px\"viewBox=\"0 0 24 24\"\n",
              "       width=\"24px\">\n",
              "    <path d=\"M0 0h24v24H0V0z\" fill=\"none\"/>\n",
              "    <path d=\"M18.56 5.44l.94 2.06.94-2.06 2.06-.94-2.06-.94-.94-2.06-.94 2.06-2.06.94zm-11 1L8.5 8.5l.94-2.06 2.06-.94-2.06-.94L8.5 2.5l-.94 2.06-2.06.94zm10 10l.94 2.06.94-2.06 2.06-.94-2.06-.94-.94-2.06-.94 2.06-2.06.94z\"/><path d=\"M17.41 7.96l-1.37-1.37c-.4-.4-.92-.59-1.43-.59-.52 0-1.04.2-1.43.59L10.3 9.45l-7.72 7.72c-.78.78-.78 2.05 0 2.83L4 21.41c.39.39.9.59 1.41.59.51 0 1.02-.2 1.41-.59l7.78-7.78 2.81-2.81c.8-.78.8-2.07 0-2.86zM5.41 20L4 18.59l7.72-7.72 1.47 1.35L5.41 20z\"/>\n",
              "  </svg>\n",
              "      </button>\n",
              "      \n",
              "  <style>\n",
              "    .colab-df-container {\n",
              "      display:flex;\n",
              "      flex-wrap:wrap;\n",
              "      gap: 12px;\n",
              "    }\n",
              "\n",
              "    .colab-df-convert {\n",
              "      background-color: #E8F0FE;\n",
              "      border: none;\n",
              "      border-radius: 50%;\n",
              "      cursor: pointer;\n",
              "      display: none;\n",
              "      fill: #1967D2;\n",
              "      height: 32px;\n",
              "      padding: 0 0 0 0;\n",
              "      width: 32px;\n",
              "    }\n",
              "\n",
              "    .colab-df-convert:hover {\n",
              "      background-color: #E2EBFA;\n",
              "      box-shadow: 0px 1px 2px rgba(60, 64, 67, 0.3), 0px 1px 3px 1px rgba(60, 64, 67, 0.15);\n",
              "      fill: #174EA6;\n",
              "    }\n",
              "\n",
              "    [theme=dark] .colab-df-convert {\n",
              "      background-color: #3B4455;\n",
              "      fill: #D2E3FC;\n",
              "    }\n",
              "\n",
              "    [theme=dark] .colab-df-convert:hover {\n",
              "      background-color: #434B5C;\n",
              "      box-shadow: 0px 1px 3px 1px rgba(0, 0, 0, 0.15);\n",
              "      filter: drop-shadow(0px 1px 2px rgba(0, 0, 0, 0.3));\n",
              "      fill: #FFFFFF;\n",
              "    }\n",
              "  </style>\n",
              "\n",
              "      <script>\n",
              "        const buttonEl =\n",
              "          document.querySelector('#df-2fb65cd7-8c73-4be8-bf46-c3d1ce0b096f button.colab-df-convert');\n",
              "        buttonEl.style.display =\n",
              "          google.colab.kernel.accessAllowed ? 'block' : 'none';\n",
              "\n",
              "        async function convertToInteractive(key) {\n",
              "          const element = document.querySelector('#df-2fb65cd7-8c73-4be8-bf46-c3d1ce0b096f');\n",
              "          const dataTable =\n",
              "            await google.colab.kernel.invokeFunction('convertToInteractive',\n",
              "                                                     [key], {});\n",
              "          if (!dataTable) return;\n",
              "\n",
              "          const docLinkHtml = 'Like what you see? Visit the ' +\n",
              "            '<a target=\"_blank\" href=https://colab.research.google.com/notebooks/data_table.ipynb>data table notebook</a>'\n",
              "            + ' to learn more about interactive tables.';\n",
              "          element.innerHTML = '';\n",
              "          dataTable['output_type'] = 'display_data';\n",
              "          await google.colab.output.renderOutput(dataTable, element);\n",
              "          const docLink = document.createElement('div');\n",
              "          docLink.innerHTML = docLinkHtml;\n",
              "          element.appendChild(docLink);\n",
              "        }\n",
              "      </script>\n",
              "    </div>\n",
              "  </div>\n",
              "  "
            ]
          },
          "metadata": {},
          "execution_count": 21
        }
      ]
    },
    {
      "cell_type": "code",
      "source": [
        "twoclass_df.shape"
      ],
      "metadata": {
        "colab": {
          "base_uri": "https://localhost:8080/"
        },
        "id": "ARKvnvykUhQ3",
        "outputId": "ebaf80fb-45fb-4be1-c91c-0c03a143e8fa"
      },
      "execution_count": null,
      "outputs": [
        {
          "output_type": "execute_result",
          "data": {
            "text/plain": [
              "(1340, 2)"
            ]
          },
          "metadata": {},
          "execution_count": 22
        }
      ]
    },
    {
      "cell_type": "markdown",
      "source": [
        "### Using Tfidf approach to train models"
      ],
      "metadata": {
        "id": "fdmEKi9XyOYW"
      }
    },
    {
      "cell_type": "code",
      "execution_count": null,
      "metadata": {
        "id": "bdCxb9-6gQDt"
      },
      "outputs": [],
      "source": [
        "lemmatizer = WordNetLemmatizer()\n",
        "\n",
        "def customtokenize(str):\n",
        "    tokens=nltk.word_tokenize(str)\n",
        "    ntokens = nltk.RegexpTokenizer(r\"\\w+\")\n",
        "    words = ntokens.tokenize(str)\n",
        "    nostop = list(filter(lambda token: token not in stopwords.words('english'), words))\n",
        "    lemmatized=[lemmatizer.lemmatize(word) for word in nostop ]\n",
        "    return lemmatized\n",
        "\n",
        "def getTFIDFMatrix(df):\n",
        "  vectorizer = TfidfVectorizer(tokenizer=customtokenize)\n",
        "  tfidf_data = vectorizer.fit_transform(df['sentence'])\n",
        "  return pd.DataFrame(tfidf_data.toarray(),columns=vectorizer.get_feature_names_out())"
      ]
    },
    {
      "cell_type": "code",
      "source": [
        "tfidf_df = getTFIDFMatrix(twoclass_df)"
      ],
      "metadata": {
        "id": "k7xJNuy1xClf"
      },
      "execution_count": null,
      "outputs": []
    },
    {
      "cell_type": "code",
      "source": [
        "tfidf_df.shape"
      ],
      "metadata": {
        "colab": {
          "base_uri": "https://localhost:8080/"
        },
        "id": "_fj5wLq9xT4a",
        "outputId": "df9e38d4-0663-408e-a892-4874eb902386"
      },
      "execution_count": null,
      "outputs": [
        {
          "output_type": "execute_result",
          "data": {
            "text/plain": [
              "(1340, 1726)"
            ]
          },
          "metadata": {},
          "execution_count": 25
        }
      ]
    },
    {
      "cell_type": "code",
      "source": [
        "tfidf_df"
      ],
      "metadata": {
        "colab": {
          "base_uri": "https://localhost:8080/",
          "height": 488
        },
        "id": "DtcyqHSfx-9b",
        "outputId": "1b3e0634-dcbc-468a-a120-735d690095fa"
      },
      "execution_count": null,
      "outputs": [
        {
          "output_type": "execute_result",
          "data": {
            "text/plain": [
              "        0   03   08         1   10       100  100054  100py  102899  102900  \\\n",
              "0     0.0  0.0  0.0  0.057394  0.0  0.117966     0.0    0.0     0.0     0.0   \n",
              "1     0.0  0.0  0.0  0.000000  0.0  0.000000     0.0    0.0     0.0     0.0   \n",
              "2     0.0  0.0  0.0  0.000000  0.0  0.000000     0.0    0.0     0.0     0.0   \n",
              "3     0.0  0.0  0.0  0.000000  0.0  0.000000     0.0    0.0     0.0     0.0   \n",
              "4     0.0  0.0  0.0  0.000000  0.0  0.000000     0.0    0.0     0.0     0.0   \n",
              "...   ...  ...  ...       ...  ...       ...     ...    ...     ...     ...   \n",
              "1335  0.0  0.0  0.0  0.119862  0.0  0.000000     0.0    0.0     0.0     0.0   \n",
              "1336  0.0  0.0  0.0  0.000000  0.0  0.000000     0.0    0.0     0.0     0.0   \n",
              "1337  0.0  0.0  0.0  0.000000  0.0  0.000000     0.0    0.0     0.0     0.0   \n",
              "1338  0.0  0.0  0.0  0.000000  0.0  0.000000     0.0    0.0     0.0     0.0   \n",
              "1339  0.0  0.0  0.0  0.000000  0.0  0.000000     0.0    0.0     0.0     0.0   \n",
              "\n",
              "      ...      year  yes  yesterday  yet   yo  young  younger  youth   yr  \\\n",
              "0     ...  0.037102  0.0        0.0  0.0  0.0    0.0      0.0    0.0  0.0   \n",
              "1     ...  0.194795  0.0        0.0  0.0  0.0    0.0      0.0    0.0  0.0   \n",
              "2     ...  0.136196  0.0        0.0  0.0  0.0    0.0      0.0    0.0  0.0   \n",
              "3     ...  0.158556  0.0        0.0  0.0  0.0    0.0      0.0    0.0  0.0   \n",
              "4     ...  0.263835  0.0        0.0  0.0  0.0    0.0      0.0    0.0  0.0   \n",
              "...   ...       ...  ...        ...  ...  ...    ...      ...    ...  ...   \n",
              "1335  ...  0.000000  0.0        0.0  0.0  0.0    0.0      0.0    0.0  0.0   \n",
              "1336  ...  0.112214  0.0        0.0  0.0  0.0    0.0      0.0    0.0  0.0   \n",
              "1337  ...  0.270103  0.0        0.0  0.0  0.0    0.0      0.0    0.0  0.0   \n",
              "1338  ...  0.286673  0.0        0.0  0.0  0.0    0.0      0.0    0.0  0.0   \n",
              "1339  ...  0.208370  0.0        0.0  0.0  0.0    0.0      0.0    0.0  0.0   \n",
              "\n",
              "      yres  \n",
              "0      0.0  \n",
              "1      0.0  \n",
              "2      0.0  \n",
              "3      0.0  \n",
              "4      0.0  \n",
              "...    ...  \n",
              "1335   0.0  \n",
              "1336   0.0  \n",
              "1337   0.0  \n",
              "1338   0.0  \n",
              "1339   0.0  \n",
              "\n",
              "[1340 rows x 1726 columns]"
            ],
            "text/html": [
              "\n",
              "  <div id=\"df-1d36d969-4243-4823-bbd6-6f0c7e06ace5\">\n",
              "    <div class=\"colab-df-container\">\n",
              "      <div>\n",
              "<style scoped>\n",
              "    .dataframe tbody tr th:only-of-type {\n",
              "        vertical-align: middle;\n",
              "    }\n",
              "\n",
              "    .dataframe tbody tr th {\n",
              "        vertical-align: top;\n",
              "    }\n",
              "\n",
              "    .dataframe thead th {\n",
              "        text-align: right;\n",
              "    }\n",
              "</style>\n",
              "<table border=\"1\" class=\"dataframe\">\n",
              "  <thead>\n",
              "    <tr style=\"text-align: right;\">\n",
              "      <th></th>\n",
              "      <th>0</th>\n",
              "      <th>03</th>\n",
              "      <th>08</th>\n",
              "      <th>1</th>\n",
              "      <th>10</th>\n",
              "      <th>100</th>\n",
              "      <th>100054</th>\n",
              "      <th>100py</th>\n",
              "      <th>102899</th>\n",
              "      <th>102900</th>\n",
              "      <th>...</th>\n",
              "      <th>year</th>\n",
              "      <th>yes</th>\n",
              "      <th>yesterday</th>\n",
              "      <th>yet</th>\n",
              "      <th>yo</th>\n",
              "      <th>young</th>\n",
              "      <th>younger</th>\n",
              "      <th>youth</th>\n",
              "      <th>yr</th>\n",
              "      <th>yres</th>\n",
              "    </tr>\n",
              "  </thead>\n",
              "  <tbody>\n",
              "    <tr>\n",
              "      <th>0</th>\n",
              "      <td>0.0</td>\n",
              "      <td>0.0</td>\n",
              "      <td>0.0</td>\n",
              "      <td>0.057394</td>\n",
              "      <td>0.0</td>\n",
              "      <td>0.117966</td>\n",
              "      <td>0.0</td>\n",
              "      <td>0.0</td>\n",
              "      <td>0.0</td>\n",
              "      <td>0.0</td>\n",
              "      <td>...</td>\n",
              "      <td>0.037102</td>\n",
              "      <td>0.0</td>\n",
              "      <td>0.0</td>\n",
              "      <td>0.0</td>\n",
              "      <td>0.0</td>\n",
              "      <td>0.0</td>\n",
              "      <td>0.0</td>\n",
              "      <td>0.0</td>\n",
              "      <td>0.0</td>\n",
              "      <td>0.0</td>\n",
              "    </tr>\n",
              "    <tr>\n",
              "      <th>1</th>\n",
              "      <td>0.0</td>\n",
              "      <td>0.0</td>\n",
              "      <td>0.0</td>\n",
              "      <td>0.000000</td>\n",
              "      <td>0.0</td>\n",
              "      <td>0.000000</td>\n",
              "      <td>0.0</td>\n",
              "      <td>0.0</td>\n",
              "      <td>0.0</td>\n",
              "      <td>0.0</td>\n",
              "      <td>...</td>\n",
              "      <td>0.194795</td>\n",
              "      <td>0.0</td>\n",
              "      <td>0.0</td>\n",
              "      <td>0.0</td>\n",
              "      <td>0.0</td>\n",
              "      <td>0.0</td>\n",
              "      <td>0.0</td>\n",
              "      <td>0.0</td>\n",
              "      <td>0.0</td>\n",
              "      <td>0.0</td>\n",
              "    </tr>\n",
              "    <tr>\n",
              "      <th>2</th>\n",
              "      <td>0.0</td>\n",
              "      <td>0.0</td>\n",
              "      <td>0.0</td>\n",
              "      <td>0.000000</td>\n",
              "      <td>0.0</td>\n",
              "      <td>0.000000</td>\n",
              "      <td>0.0</td>\n",
              "      <td>0.0</td>\n",
              "      <td>0.0</td>\n",
              "      <td>0.0</td>\n",
              "      <td>...</td>\n",
              "      <td>0.136196</td>\n",
              "      <td>0.0</td>\n",
              "      <td>0.0</td>\n",
              "      <td>0.0</td>\n",
              "      <td>0.0</td>\n",
              "      <td>0.0</td>\n",
              "      <td>0.0</td>\n",
              "      <td>0.0</td>\n",
              "      <td>0.0</td>\n",
              "      <td>0.0</td>\n",
              "    </tr>\n",
              "    <tr>\n",
              "      <th>3</th>\n",
              "      <td>0.0</td>\n",
              "      <td>0.0</td>\n",
              "      <td>0.0</td>\n",
              "      <td>0.000000</td>\n",
              "      <td>0.0</td>\n",
              "      <td>0.000000</td>\n",
              "      <td>0.0</td>\n",
              "      <td>0.0</td>\n",
              "      <td>0.0</td>\n",
              "      <td>0.0</td>\n",
              "      <td>...</td>\n",
              "      <td>0.158556</td>\n",
              "      <td>0.0</td>\n",
              "      <td>0.0</td>\n",
              "      <td>0.0</td>\n",
              "      <td>0.0</td>\n",
              "      <td>0.0</td>\n",
              "      <td>0.0</td>\n",
              "      <td>0.0</td>\n",
              "      <td>0.0</td>\n",
              "      <td>0.0</td>\n",
              "    </tr>\n",
              "    <tr>\n",
              "      <th>4</th>\n",
              "      <td>0.0</td>\n",
              "      <td>0.0</td>\n",
              "      <td>0.0</td>\n",
              "      <td>0.000000</td>\n",
              "      <td>0.0</td>\n",
              "      <td>0.000000</td>\n",
              "      <td>0.0</td>\n",
              "      <td>0.0</td>\n",
              "      <td>0.0</td>\n",
              "      <td>0.0</td>\n",
              "      <td>...</td>\n",
              "      <td>0.263835</td>\n",
              "      <td>0.0</td>\n",
              "      <td>0.0</td>\n",
              "      <td>0.0</td>\n",
              "      <td>0.0</td>\n",
              "      <td>0.0</td>\n",
              "      <td>0.0</td>\n",
              "      <td>0.0</td>\n",
              "      <td>0.0</td>\n",
              "      <td>0.0</td>\n",
              "    </tr>\n",
              "    <tr>\n",
              "      <th>...</th>\n",
              "      <td>...</td>\n",
              "      <td>...</td>\n",
              "      <td>...</td>\n",
              "      <td>...</td>\n",
              "      <td>...</td>\n",
              "      <td>...</td>\n",
              "      <td>...</td>\n",
              "      <td>...</td>\n",
              "      <td>...</td>\n",
              "      <td>...</td>\n",
              "      <td>...</td>\n",
              "      <td>...</td>\n",
              "      <td>...</td>\n",
              "      <td>...</td>\n",
              "      <td>...</td>\n",
              "      <td>...</td>\n",
              "      <td>...</td>\n",
              "      <td>...</td>\n",
              "      <td>...</td>\n",
              "      <td>...</td>\n",
              "      <td>...</td>\n",
              "    </tr>\n",
              "    <tr>\n",
              "      <th>1335</th>\n",
              "      <td>0.0</td>\n",
              "      <td>0.0</td>\n",
              "      <td>0.0</td>\n",
              "      <td>0.119862</td>\n",
              "      <td>0.0</td>\n",
              "      <td>0.000000</td>\n",
              "      <td>0.0</td>\n",
              "      <td>0.0</td>\n",
              "      <td>0.0</td>\n",
              "      <td>0.0</td>\n",
              "      <td>...</td>\n",
              "      <td>0.000000</td>\n",
              "      <td>0.0</td>\n",
              "      <td>0.0</td>\n",
              "      <td>0.0</td>\n",
              "      <td>0.0</td>\n",
              "      <td>0.0</td>\n",
              "      <td>0.0</td>\n",
              "      <td>0.0</td>\n",
              "      <td>0.0</td>\n",
              "      <td>0.0</td>\n",
              "    </tr>\n",
              "    <tr>\n",
              "      <th>1336</th>\n",
              "      <td>0.0</td>\n",
              "      <td>0.0</td>\n",
              "      <td>0.0</td>\n",
              "      <td>0.000000</td>\n",
              "      <td>0.0</td>\n",
              "      <td>0.000000</td>\n",
              "      <td>0.0</td>\n",
              "      <td>0.0</td>\n",
              "      <td>0.0</td>\n",
              "      <td>0.0</td>\n",
              "      <td>...</td>\n",
              "      <td>0.112214</td>\n",
              "      <td>0.0</td>\n",
              "      <td>0.0</td>\n",
              "      <td>0.0</td>\n",
              "      <td>0.0</td>\n",
              "      <td>0.0</td>\n",
              "      <td>0.0</td>\n",
              "      <td>0.0</td>\n",
              "      <td>0.0</td>\n",
              "      <td>0.0</td>\n",
              "    </tr>\n",
              "    <tr>\n",
              "      <th>1337</th>\n",
              "      <td>0.0</td>\n",
              "      <td>0.0</td>\n",
              "      <td>0.0</td>\n",
              "      <td>0.000000</td>\n",
              "      <td>0.0</td>\n",
              "      <td>0.000000</td>\n",
              "      <td>0.0</td>\n",
              "      <td>0.0</td>\n",
              "      <td>0.0</td>\n",
              "      <td>0.0</td>\n",
              "      <td>...</td>\n",
              "      <td>0.270103</td>\n",
              "      <td>0.0</td>\n",
              "      <td>0.0</td>\n",
              "      <td>0.0</td>\n",
              "      <td>0.0</td>\n",
              "      <td>0.0</td>\n",
              "      <td>0.0</td>\n",
              "      <td>0.0</td>\n",
              "      <td>0.0</td>\n",
              "      <td>0.0</td>\n",
              "    </tr>\n",
              "    <tr>\n",
              "      <th>1338</th>\n",
              "      <td>0.0</td>\n",
              "      <td>0.0</td>\n",
              "      <td>0.0</td>\n",
              "      <td>0.000000</td>\n",
              "      <td>0.0</td>\n",
              "      <td>0.000000</td>\n",
              "      <td>0.0</td>\n",
              "      <td>0.0</td>\n",
              "      <td>0.0</td>\n",
              "      <td>0.0</td>\n",
              "      <td>...</td>\n",
              "      <td>0.286673</td>\n",
              "      <td>0.0</td>\n",
              "      <td>0.0</td>\n",
              "      <td>0.0</td>\n",
              "      <td>0.0</td>\n",
              "      <td>0.0</td>\n",
              "      <td>0.0</td>\n",
              "      <td>0.0</td>\n",
              "      <td>0.0</td>\n",
              "      <td>0.0</td>\n",
              "    </tr>\n",
              "    <tr>\n",
              "      <th>1339</th>\n",
              "      <td>0.0</td>\n",
              "      <td>0.0</td>\n",
              "      <td>0.0</td>\n",
              "      <td>0.000000</td>\n",
              "      <td>0.0</td>\n",
              "      <td>0.000000</td>\n",
              "      <td>0.0</td>\n",
              "      <td>0.0</td>\n",
              "      <td>0.0</td>\n",
              "      <td>0.0</td>\n",
              "      <td>...</td>\n",
              "      <td>0.208370</td>\n",
              "      <td>0.0</td>\n",
              "      <td>0.0</td>\n",
              "      <td>0.0</td>\n",
              "      <td>0.0</td>\n",
              "      <td>0.0</td>\n",
              "      <td>0.0</td>\n",
              "      <td>0.0</td>\n",
              "      <td>0.0</td>\n",
              "      <td>0.0</td>\n",
              "    </tr>\n",
              "  </tbody>\n",
              "</table>\n",
              "<p>1340 rows × 1726 columns</p>\n",
              "</div>\n",
              "      <button class=\"colab-df-convert\" onclick=\"convertToInteractive('df-1d36d969-4243-4823-bbd6-6f0c7e06ace5')\"\n",
              "              title=\"Convert this dataframe to an interactive table.\"\n",
              "              style=\"display:none;\">\n",
              "        \n",
              "  <svg xmlns=\"http://www.w3.org/2000/svg\" height=\"24px\"viewBox=\"0 0 24 24\"\n",
              "       width=\"24px\">\n",
              "    <path d=\"M0 0h24v24H0V0z\" fill=\"none\"/>\n",
              "    <path d=\"M18.56 5.44l.94 2.06.94-2.06 2.06-.94-2.06-.94-.94-2.06-.94 2.06-2.06.94zm-11 1L8.5 8.5l.94-2.06 2.06-.94-2.06-.94L8.5 2.5l-.94 2.06-2.06.94zm10 10l.94 2.06.94-2.06 2.06-.94-2.06-.94-.94-2.06-.94 2.06-2.06.94z\"/><path d=\"M17.41 7.96l-1.37-1.37c-.4-.4-.92-.59-1.43-.59-.52 0-1.04.2-1.43.59L10.3 9.45l-7.72 7.72c-.78.78-.78 2.05 0 2.83L4 21.41c.39.39.9.59 1.41.59.51 0 1.02-.2 1.41-.59l7.78-7.78 2.81-2.81c.8-.78.8-2.07 0-2.86zM5.41 20L4 18.59l7.72-7.72 1.47 1.35L5.41 20z\"/>\n",
              "  </svg>\n",
              "      </button>\n",
              "      \n",
              "  <style>\n",
              "    .colab-df-container {\n",
              "      display:flex;\n",
              "      flex-wrap:wrap;\n",
              "      gap: 12px;\n",
              "    }\n",
              "\n",
              "    .colab-df-convert {\n",
              "      background-color: #E8F0FE;\n",
              "      border: none;\n",
              "      border-radius: 50%;\n",
              "      cursor: pointer;\n",
              "      display: none;\n",
              "      fill: #1967D2;\n",
              "      height: 32px;\n",
              "      padding: 0 0 0 0;\n",
              "      width: 32px;\n",
              "    }\n",
              "\n",
              "    .colab-df-convert:hover {\n",
              "      background-color: #E2EBFA;\n",
              "      box-shadow: 0px 1px 2px rgba(60, 64, 67, 0.3), 0px 1px 3px 1px rgba(60, 64, 67, 0.15);\n",
              "      fill: #174EA6;\n",
              "    }\n",
              "\n",
              "    [theme=dark] .colab-df-convert {\n",
              "      background-color: #3B4455;\n",
              "      fill: #D2E3FC;\n",
              "    }\n",
              "\n",
              "    [theme=dark] .colab-df-convert:hover {\n",
              "      background-color: #434B5C;\n",
              "      box-shadow: 0px 1px 3px 1px rgba(0, 0, 0, 0.15);\n",
              "      filter: drop-shadow(0px 1px 2px rgba(0, 0, 0, 0.3));\n",
              "      fill: #FFFFFF;\n",
              "    }\n",
              "  </style>\n",
              "\n",
              "      <script>\n",
              "        const buttonEl =\n",
              "          document.querySelector('#df-1d36d969-4243-4823-bbd6-6f0c7e06ace5 button.colab-df-convert');\n",
              "        buttonEl.style.display =\n",
              "          google.colab.kernel.accessAllowed ? 'block' : 'none';\n",
              "\n",
              "        async function convertToInteractive(key) {\n",
              "          const element = document.querySelector('#df-1d36d969-4243-4823-bbd6-6f0c7e06ace5');\n",
              "          const dataTable =\n",
              "            await google.colab.kernel.invokeFunction('convertToInteractive',\n",
              "                                                     [key], {});\n",
              "          if (!dataTable) return;\n",
              "\n",
              "          const docLinkHtml = 'Like what you see? Visit the ' +\n",
              "            '<a target=\"_blank\" href=https://colab.research.google.com/notebooks/data_table.ipynb>data table notebook</a>'\n",
              "            + ' to learn more about interactive tables.';\n",
              "          element.innerHTML = '';\n",
              "          dataTable['output_type'] = 'display_data';\n",
              "          await google.colab.output.renderOutput(dataTable, element);\n",
              "          const docLink = document.createElement('div');\n",
              "          docLink.innerHTML = docLinkHtml;\n",
              "          element.appendChild(docLink);\n",
              "        }\n",
              "      </script>\n",
              "    </div>\n",
              "  </div>\n",
              "  "
            ]
          },
          "metadata": {},
          "execution_count": 26
        }
      ]
    },
    {
      "cell_type": "code",
      "source": [
        "from sklearn.model_selection import train_test_split\n",
        "X_train, X_test, y_train, y_test = train_test_split(tfidf_df, twoclass_df['relation_type'], test_size=0.30, random_state=111)"
      ],
      "metadata": {
        "id": "edsUyIgwyX7b"
      },
      "execution_count": null,
      "outputs": []
    },
    {
      "cell_type": "code",
      "source": [
        "# logistic regression\n",
        "from sklearn.linear_model import LogisticRegression\n",
        "clf=LogisticRegression(C = 0.0001, penalty = 'l2', random_state = 42)\n",
        "clf.fit(X_train, y_train)"
      ],
      "metadata": {
        "colab": {
          "base_uri": "https://localhost:8080/"
        },
        "outputId": "38556f72-a3d8-435d-c583-d1a0cf2d5476",
        "id": "-5SWIOueynou"
      },
      "execution_count": null,
      "outputs": [
        {
          "output_type": "execute_result",
          "data": {
            "text/plain": [
              "LogisticRegression(C=0.0001, random_state=42)"
            ]
          },
          "metadata": {},
          "execution_count": 28
        }
      ]
    },
    {
      "cell_type": "code",
      "source": [
        "model = clf\n",
        "y_lr_preds = model.predict(X_test)"
      ],
      "metadata": {
        "id": "9hFo7MVyynov"
      },
      "execution_count": null,
      "outputs": []
    },
    {
      "cell_type": "code",
      "source": [
        "# Visualize confusion matrix for logistic regression\n",
        "from sklearn.metrics import classification_report,confusion_matrix \n",
        "import seaborn as sns\n",
        "\n",
        "lr_mat = confusion_matrix(y_lr_preds, y_test)\n",
        "\n",
        "sns.heatmap(lr_mat.T, square=True, annot=True, fmt='d', cbar=False)\n",
        "plt.xlabel('True label')\n",
        "plt.ylabel('Predicted label')\n",
        "plt.title('Logistic regression confusion matrix using TFIDF')\n",
        "plt.show()\n",
        "\n",
        "print (\"\\nAccuracy of prediction:\",round((lr_mat[0,0]+lr_mat[1,1])/lr_mat.sum(),3))"
      ],
      "metadata": {
        "colab": {
          "base_uri": "https://localhost:8080/",
          "height": 331
        },
        "outputId": "42adab41-3e8f-471e-a16d-ce668e0e6325",
        "id": "IxTVGxLFynov"
      },
      "execution_count": null,
      "outputs": [
        {
          "output_type": "display_data",
          "data": {
            "text/plain": [
              "<Figure size 432x288 with 1 Axes>"
            ],
            "image/png": "[encoded data removed]"
          },
          "metadata": {
            "needs_background": "light"
          }
        },
        {
          "output_type": "stream",
          "name": "stdout",
          "text": [
            "\n",
            "Accuracy of prediction: 0.485\n"
          ]
        }
      ]
    },
    {
      "cell_type": "code",
      "source": [
        "print(\"classification report for logistic regression using TFIDF\\n\")\n",
        "print(classification_report(y_test,y_lr_preds))"
      ],
      "metadata": {
        "colab": {
          "base_uri": "https://localhost:8080/"
        },
        "outputId": "2f668f89-d545-4a37-8eac-982bc5da6db9",
        "id": "fJL26eTKynov"
      },
      "execution_count": null,
      "outputs": [
        {
          "output_type": "stream",
          "name": "stdout",
          "text": [
            "classification report for logistic regression using TFIDF\n",
            "\n",
            "              precision    recall  f1-score   support\n",
            "\n",
            "           0       0.00      0.00      0.00       207\n",
            "           1       0.49      1.00      0.65       195\n",
            "\n",
            "    accuracy                           0.49       402\n",
            "   macro avg       0.24      0.50      0.33       402\n",
            "weighted avg       0.24      0.49      0.32       402\n",
            "\n"
          ]
        },
        {
          "output_type": "stream",
          "name": "stderr",
          "text": [
            "/usr/local/lib/python3.7/dist-packages/sklearn/metrics/_classification.py:1318: UndefinedMetricWarning: Precision and F-score are ill-defined and being set to 0.0 in labels with no predicted samples. Use `zero_division` parameter to control this behavior.\n",
            "  _warn_prf(average, modifier, msg_start, len(result))\n",
            "/usr/local/lib/python3.7/dist-packages/sklearn/metrics/_classification.py:1318: UndefinedMetricWarning: Precision and F-score are ill-defined and being set to 0.0 in labels with no predicted samples. Use `zero_division` parameter to control this behavior.\n",
            "  _warn_prf(average, modifier, msg_start, len(result))\n",
            "/usr/local/lib/python3.7/dist-packages/sklearn/metrics/_classification.py:1318: UndefinedMetricWarning: Precision and F-score are ill-defined and being set to 0.0 in labels with no predicted samples. Use `zero_division` parameter to control this behavior.\n",
            "  _warn_prf(average, modifier, msg_start, len(result))\n"
          ]
        }
      ]
    },
    {
      "cell_type": "code",
      "source": [
        "# Train a decision tree model\n",
        "from sklearn.tree import DecisionTreeClassifier \n",
        "\n",
        "trees_giniIndex = DecisionTreeClassifier()\n",
        "trees_giniIndex.fit(X_train, y_train)\n",
        "\n",
        "tree_entropy = DecisionTreeClassifier(criterion='entropy')\n",
        "tree_entropy.fit(X_train, y_train)"
      ],
      "metadata": {
        "colab": {
          "base_uri": "https://localhost:8080/"
        },
        "outputId": "805ddafd-d00f-4c3a-f42a-ab0f4cca8cb8",
        "id": "HRpKVCzyynow"
      },
      "execution_count": null,
      "outputs": [
        {
          "output_type": "execute_result",
          "data": {
            "text/plain": [
              "DecisionTreeClassifier(criterion='entropy')"
            ]
          },
          "metadata": {},
          "execution_count": 32
        }
      ]
    },
    {
      "cell_type": "code",
      "source": [
        "# Predict using the decision tree models\n",
        "y_pred_ent = tree_entropy.predict(X_test)\n",
        "\n",
        "y_pred_gini = trees_giniIndex.predict(X_test)"
      ],
      "metadata": {
        "id": "NIlocSLWynow"
      },
      "execution_count": null,
      "outputs": []
    },
    {
      "cell_type": "code",
      "source": [
        "# Evaluate confusion matrix for decision tree using Gini\n",
        "from sklearn.metrics import classification_report,confusion_matrix \n",
        "import seaborn as sns\n",
        "\n",
        "lr_mat = confusion_matrix(y_pred_gini, y_test)\n",
        "\n",
        "sns.heatmap(lr_mat.T, square=True, annot=True, fmt='d', cbar=False)\n",
        "plt.xlabel('True label')\n",
        "plt.ylabel('Predicted label')\n",
        "plt.title('Decision Tree (Gini Index) confusion matrix using TFIDF')\n",
        "plt.show()\n",
        "\n",
        "print (\"\\nAccuracy of prediction:\",round((lr_mat[0,0]+lr_mat[1,1])/lr_mat.sum(),3))"
      ],
      "metadata": {
        "colab": {
          "base_uri": "https://localhost:8080/",
          "height": 331
        },
        "outputId": "8ec94786-e984-4569-e9b7-255e4ec5dde4",
        "id": "ywfdYS2Synow"
      },
      "execution_count": null,
      "outputs": [
        {
          "output_type": "display_data",
          "data": {
            "text/plain": [
              "<Figure size 432x288 with 1 Axes>"
            ],
            "image/png": "[encoded data removed]"
          },
          "metadata": {
            "needs_background": "light"
          }
        },
        {
          "output_type": "stream",
          "name": "stdout",
          "text": [
            "\n",
            "Accuracy of prediction: 0.582\n"
          ]
        }
      ]
    },
    {
      "cell_type": "code",
      "source": [
        "print(\"classification report for Decision Tree (Gini Index) using TFIDF\\n\")\n",
        "print(classification_report(y_test,y_pred_gini))"
      ],
      "metadata": {
        "colab": {
          "base_uri": "https://localhost:8080/"
        },
        "outputId": "f5aaa6a3-8068-47fa-d118-1959b0ddaf20",
        "id": "jgY0NBSqynow"
      },
      "execution_count": null,
      "outputs": [
        {
          "output_type": "stream",
          "name": "stdout",
          "text": [
            "classification report for Decision Tree (Gini Index) using TFIDF\n",
            "\n",
            "              precision    recall  f1-score   support\n",
            "\n",
            "           0       0.58      0.65      0.62       207\n",
            "           1       0.58      0.51      0.54       195\n",
            "\n",
            "    accuracy                           0.58       402\n",
            "   macro avg       0.58      0.58      0.58       402\n",
            "weighted avg       0.58      0.58      0.58       402\n",
            "\n"
          ]
        }
      ]
    },
    {
      "cell_type": "code",
      "source": [
        "# Evaluate confusion matrix for decision tree using Entropy\n",
        "from sklearn.metrics import classification_report,confusion_matrix \n",
        "import seaborn as sns\n",
        "\n",
        "lr_mat = confusion_matrix(y_pred_ent, y_test)\n",
        "\n",
        "sns.heatmap(lr_mat.T, square=True, annot=True, fmt='d', cbar=False)\n",
        "plt.xlabel('True label')\n",
        "plt.ylabel('Predicted label')\n",
        "plt.title('Decision Tree (Entropy) confusion matrix using TFIDF')\n",
        "plt.show()\n",
        "\n",
        "print (\"\\nAccuracy of prediction:\",round((lr_mat[0,0]+lr_mat[1,1])/lr_mat.sum(),3))"
      ],
      "metadata": {
        "colab": {
          "base_uri": "https://localhost:8080/",
          "height": 331
        },
        "outputId": "63ab179d-952e-4b35-eeef-bbbc21d2021a",
        "id": "J4xZb_Bvynox"
      },
      "execution_count": null,
      "outputs": [
        {
          "output_type": "display_data",
          "data": {
            "text/plain": [
              "<Figure size 432x288 with 1 Axes>"
            ],
            "image/png": "[encoded data removed]"
          },
          "metadata": {
            "needs_background": "light"
          }
        },
        {
          "output_type": "stream",
          "name": "stdout",
          "text": [
            "\n",
            "Accuracy of prediction: 0.575\n"
          ]
        }
      ]
    },
    {
      "cell_type": "code",
      "source": [
        "print(\"classification report for Decision Tree (Entropy) using TFIDF\\n\")\n",
        "print(classification_report(y_test,y_pred_ent))"
      ],
      "metadata": {
        "colab": {
          "base_uri": "https://localhost:8080/"
        },
        "outputId": "6945cd9a-86fc-4647-dfd4-d4df4ee29e6b",
        "id": "sRj5Pb9Nynox"
      },
      "execution_count": null,
      "outputs": [
        {
          "output_type": "stream",
          "name": "stdout",
          "text": [
            "classification report for Decision Tree (Entropy) using TFIDF\n",
            "\n",
            "              precision    recall  f1-score   support\n",
            "\n",
            "           0       0.58      0.64      0.61       207\n",
            "           1       0.57      0.50      0.53       195\n",
            "\n",
            "    accuracy                           0.57       402\n",
            "   macro avg       0.57      0.57      0.57       402\n",
            "weighted avg       0.57      0.57      0.57       402\n",
            "\n"
          ]
        }
      ]
    },
    {
      "cell_type": "code",
      "source": [
        "from sklearn.svm import SVC\n",
        "svc = SVC(kernel=\"poly\", degree=1, C=0.1, gamma=0.1)\n",
        "svc.fit(X_train, y_train)\n",
        "y_pred_svc = svc.predict(X_test)"
      ],
      "metadata": {
        "id": "AkhdlHbtysFq"
      },
      "execution_count": null,
      "outputs": []
    },
    {
      "cell_type": "code",
      "source": [
        "# Evaluate confusion matrix for decision tree using Entropy\n",
        "from sklearn.metrics import classification_report,confusion_matrix \n",
        "import seaborn as sns\n",
        "\n",
        "lr_mat = confusion_matrix(y_pred_svc, y_test)\n",
        "\n",
        "sns.heatmap(lr_mat.T, square=True, annot=True, fmt='d', cbar=False)\n",
        "plt.xlabel('True label')\n",
        "plt.ylabel('Predicted label')\n",
        "plt.title('SVM confusion matrix using TFIDF')\n",
        "plt.show()\n",
        "\n",
        "print (\"\\nAccuracy of prediction:\",round((lr_mat[0,0]+lr_mat[1,1])/lr_mat.sum(),3))"
      ],
      "metadata": {
        "colab": {
          "base_uri": "https://localhost:8080/",
          "height": 331
        },
        "id": "SnN44agEyznj",
        "outputId": "6978042b-eb75-4052-f644-3be92dba34b4"
      },
      "execution_count": null,
      "outputs": [
        {
          "output_type": "display_data",
          "data": {
            "text/plain": [
              "<Figure size 432x288 with 1 Axes>"
            ],
            "image/png": "[encoded data removed]"
          },
          "metadata": {
            "needs_background": "light"
          }
        },
        {
          "output_type": "stream",
          "name": "stdout",
          "text": [
            "\n",
            "Accuracy of prediction: 0.485\n"
          ]
        }
      ]
    },
    {
      "cell_type": "code",
      "source": [
        "print(\"classification report for SVM using TFIDF\\n\")\n",
        "print(classification_report(y_test,y_pred_svc))"
      ],
      "metadata": {
        "colab": {
          "base_uri": "https://localhost:8080/"
        },
        "id": "eLA4m8oQyzqd",
        "outputId": "51fd8669-f624-4209-c46e-d95d7421c2c4"
      },
      "execution_count": null,
      "outputs": [
        {
          "output_type": "stream",
          "name": "stdout",
          "text": [
            "classification report for SVM using TFIDF\n",
            "\n",
            "              precision    recall  f1-score   support\n",
            "\n",
            "           0       0.00      0.00      0.00       207\n",
            "           1       0.49      1.00      0.65       195\n",
            "\n",
            "    accuracy                           0.49       402\n",
            "   macro avg       0.24      0.50      0.33       402\n",
            "weighted avg       0.24      0.49      0.32       402\n",
            "\n"
          ]
        },
        {
          "output_type": "stream",
          "name": "stderr",
          "text": [
            "/usr/local/lib/python3.7/dist-packages/sklearn/metrics/_classification.py:1318: UndefinedMetricWarning: Precision and F-score are ill-defined and being set to 0.0 in labels with no predicted samples. Use `zero_division` parameter to control this behavior.\n",
            "  _warn_prf(average, modifier, msg_start, len(result))\n",
            "/usr/local/lib/python3.7/dist-packages/sklearn/metrics/_classification.py:1318: UndefinedMetricWarning: Precision and F-score are ill-defined and being set to 0.0 in labels with no predicted samples. Use `zero_division` parameter to control this behavior.\n",
            "  _warn_prf(average, modifier, msg_start, len(result))\n",
            "/usr/local/lib/python3.7/dist-packages/sklearn/metrics/_classification.py:1318: UndefinedMetricWarning: Precision and F-score are ill-defined and being set to 0.0 in labels with no predicted samples. Use `zero_division` parameter to control this behavior.\n",
            "  _warn_prf(average, modifier, msg_start, len(result))\n"
          ]
        }
      ]
    },
    {
      "cell_type": "code",
      "source": [
        "from sklearn.ensemble import RandomForestClassifier\n",
        "from sklearn import metrics\n",
        "\n",
        "rfc = RandomForestClassifier(max_depth=10, random_state=42)\n",
        "rfc.fit(X_train, y_train)\n",
        "y_pred_rfc = rfc.predict(X_test)"
      ],
      "metadata": {
        "id": "C1fNmqsgyztN"
      },
      "execution_count": null,
      "outputs": []
    },
    {
      "cell_type": "code",
      "source": [
        "# Evaluate confusion matrix for decision tree using Entropy\n",
        "from sklearn.metrics import classification_report,confusion_matrix \n",
        "import seaborn as sns\n",
        "\n",
        "lr_mat = confusion_matrix(y_pred_rfc, y_test)\n",
        "\n",
        "sns.heatmap(lr_mat.T, square=True, annot=True, fmt='d', cbar=False)\n",
        "plt.xlabel('True label')\n",
        "plt.ylabel('Predicted label')\n",
        "plt.title('Random Forest confusion matrix')\n",
        "plt.show()\n",
        "\n",
        "print (\"\\nAccuracy of prediction:\",round((lr_mat[0,0]+lr_mat[1,1])/lr_mat.sum(),3))"
      ],
      "metadata": {
        "colab": {
          "base_uri": "https://localhost:8080/",
          "height": 331
        },
        "id": "NPbBRW1Vy_Fz",
        "outputId": "39b3a10f-7b3f-43df-e2ba-00bad7ca992d"
      },
      "execution_count": null,
      "outputs": [
        {
          "output_type": "display_data",
          "data": {
            "text/plain": [
              "<Figure size 432x288 with 1 Axes>"
            ],
            "image/png": "[encoded data removed]"
          },
          "metadata": {
            "needs_background": "light"
          }
        },
        {
          "output_type": "stream",
          "name": "stdout",
          "text": [
            "\n",
            "Accuracy of prediction: 0.692\n"
          ]
        }
      ]
    },
    {
      "cell_type": "code",
      "source": [
        "print(\"classification report for Random Forest using TFIDF\\n\")\n",
        "print(classification_report(y_test,y_pred_svc))"
      ],
      "metadata": {
        "colab": {
          "base_uri": "https://localhost:8080/"
        },
        "id": "zEa2F4Nry_bL",
        "outputId": "1d24aa2d-e3fc-4586-962b-ecd15354d756"
      },
      "execution_count": null,
      "outputs": [
        {
          "output_type": "stream",
          "name": "stdout",
          "text": [
            "classification report for Random Forest using TFIDF\n",
            "\n",
            "              precision    recall  f1-score   support\n",
            "\n",
            "           0       0.00      0.00      0.00       207\n",
            "           1       0.49      1.00      0.65       195\n",
            "\n",
            "    accuracy                           0.49       402\n",
            "   macro avg       0.24      0.50      0.33       402\n",
            "weighted avg       0.24      0.49      0.32       402\n",
            "\n"
          ]
        },
        {
          "output_type": "stream",
          "name": "stderr",
          "text": [
            "/usr/local/lib/python3.7/dist-packages/sklearn/metrics/_classification.py:1318: UndefinedMetricWarning: Precision and F-score are ill-defined and being set to 0.0 in labels with no predicted samples. Use `zero_division` parameter to control this behavior.\n",
            "  _warn_prf(average, modifier, msg_start, len(result))\n",
            "/usr/local/lib/python3.7/dist-packages/sklearn/metrics/_classification.py:1318: UndefinedMetricWarning: Precision and F-score are ill-defined and being set to 0.0 in labels with no predicted samples. Use `zero_division` parameter to control this behavior.\n",
            "  _warn_prf(average, modifier, msg_start, len(result))\n",
            "/usr/local/lib/python3.7/dist-packages/sklearn/metrics/_classification.py:1318: UndefinedMetricWarning: Precision and F-score are ill-defined and being set to 0.0 in labels with no predicted samples. Use `zero_division` parameter to control this behavior.\n",
            "  _warn_prf(average, modifier, msg_start, len(result))\n"
          ]
        }
      ]
    },
    {
      "cell_type": "code",
      "source": [
        "from sklearn.naive_bayes import GaussianNB\n",
        "\n",
        "gaussian = GaussianNB()\n",
        "gaussian.fit(X_train, y_train)\n",
        "y_pred_nb = gaussian.predict(X_test)"
      ],
      "metadata": {
        "id": "oKEvRER8y_gP"
      },
      "execution_count": null,
      "outputs": []
    },
    {
      "cell_type": "code",
      "source": [
        "# Evaluate confusion matrix for decision tree using Entropy\n",
        "from sklearn.metrics import classification_report,confusion_matrix \n",
        "import seaborn as sns\n",
        "\n",
        "lr_mat = confusion_matrix(y_pred_nb, y_test)\n",
        "\n",
        "sns.heatmap(lr_mat.T, square=True, annot=True, fmt='d', cbar=False)\n",
        "plt.xlabel('True label')\n",
        "plt.ylabel('Predicted label')\n",
        "plt.title('GaussianNB confusion matrix using TFIDF')\n",
        "plt.show()\n",
        "\n",
        "print (\"\\nAccuracy of prediction:\",round((lr_mat[0,0]+lr_mat[1,1])/lr_mat.sum(),3))"
      ],
      "metadata": {
        "colab": {
          "base_uri": "https://localhost:8080/",
          "height": 331
        },
        "id": "Zl_u2gOD03EA",
        "outputId": "99a572ba-66c5-4402-d0d9-4379e2bd3611"
      },
      "execution_count": null,
      "outputs": [
        {
          "output_type": "display_data",
          "data": {
            "text/plain": [
              "<Figure size 432x288 with 1 Axes>"
            ],
            "image/png": "[encoded data removed]"
          },
          "metadata": {
            "needs_background": "light"
          }
        },
        {
          "output_type": "stream",
          "name": "stdout",
          "text": [
            "\n",
            "Accuracy of prediction: 0.49\n"
          ]
        }
      ]
    },
    {
      "cell_type": "code",
      "source": [
        "print(\"classification report for GaussianNB using TFIDF\\n\")\n",
        "print(classification_report(y_test,y_pred_nb))"
      ],
      "metadata": {
        "colab": {
          "base_uri": "https://localhost:8080/"
        },
        "id": "G8xskrRay_s4",
        "outputId": "657c264d-37b9-41af-c929-7eba2921c20c"
      },
      "execution_count": null,
      "outputs": [
        {
          "output_type": "stream",
          "name": "stdout",
          "text": [
            "classification report for GaussianNB using TFIDF\n",
            "\n",
            "              precision    recall  f1-score   support\n",
            "\n",
            "           0       0.50      0.71      0.59       207\n",
            "           1       0.45      0.25      0.32       195\n",
            "\n",
            "    accuracy                           0.49       402\n",
            "   macro avg       0.48      0.48      0.46       402\n",
            "weighted avg       0.48      0.49      0.46       402\n",
            "\n"
          ]
        }
      ]
    },
    {
      "cell_type": "markdown",
      "source": [
        "### Using bag of words approach to train models"
      ],
      "metadata": {
        "id": "DDFkcer5yGbS"
      }
    },
    {
      "cell_type": "code",
      "execution_count": null,
      "metadata": {
        "id": "poN2fmKhhlEm"
      },
      "outputs": [],
      "source": [
        "lemmatizer = WordNetLemmatizer()\n",
        "\n",
        "def customtokenize(str):\n",
        "    tokens=nltk.word_tokenize(str)\n",
        "    ntokens = nltk.RegexpTokenizer(r\"\\w+\")\n",
        "    words = ntokens.tokenize(str)\n",
        "    nostop = list(filter(lambda token: token not in stopwords.words('english'), words))\n",
        "    lemmatized=[lemmatizer.lemmatize(word) for word in nostop ]\n",
        "    return lemmatized\n",
        "\n",
        "def getBagOfWords(df):\n",
        "  CountVec = CountVectorizer(ngram_range=(1,1), stop_words='english')\n",
        "  Count_data = CountVec.fit_transform(df['sentence'])\n",
        "  return pd.DataFrame(Count_data.toarray(),columns=CountVec.get_feature_names_out())"
      ]
    },
    {
      "cell_type": "code",
      "execution_count": null,
      "metadata": {
        "id": "GWbltE2YiEM7"
      },
      "outputs": [],
      "source": [
        "BOW_df = getBagOfWords(twoclass_df)"
      ]
    },
    {
      "cell_type": "code",
      "source": [
        "BOW_df.shape"
      ],
      "metadata": {
        "colab": {
          "base_uri": "https://localhost:8080/"
        },
        "id": "E_ZoXzEuxHHF",
        "outputId": "88c92391-a2c4-4ab5-daf8-709be070bbdd"
      },
      "execution_count": null,
      "outputs": [
        {
          "output_type": "execute_result",
          "data": {
            "text/plain": [
              "(1340, 1725)"
            ]
          },
          "metadata": {},
          "execution_count": 49
        }
      ]
    },
    {
      "cell_type": "code",
      "source": [
        "BOW_df"
      ],
      "metadata": {
        "colab": {
          "base_uri": "https://localhost:8080/",
          "height": 488
        },
        "id": "sN5IPYjXVXjl",
        "outputId": "c9bd9c45-f30b-41d1-f5ce-9b309aaf4657"
      },
      "execution_count": null,
      "outputs": [
        {
          "output_type": "execute_result",
          "data": {
            "text/plain": [
              "      03  08  10  100  100054  100py  102899  102900  102901  102902  ...  \\\n",
              "0      0   0   0    1       0      0       0       0       0       0  ...   \n",
              "1      0   0   0    0       0      0       0       0       0       0  ...   \n",
              "2      0   0   0    0       0      0       0       0       0       0  ...   \n",
              "3      0   0   0    0       0      0       0       0       0       0  ...   \n",
              "4      0   0   0    0       0      0       0       0       0       0  ...   \n",
              "...   ..  ..  ..  ...     ...    ...     ...     ...     ...     ...  ...   \n",
              "1335   0   0   0    0       0      0       0       0       0       0  ...   \n",
              "1336   0   0   0    0       0      0       0       0       0       0  ...   \n",
              "1337   0   0   0    0       0      0       0       0       0       0  ...   \n",
              "1338   0   0   0    0       0      0       0       0       0       0  ...   \n",
              "1339   0   0   0    0       0      0       0       0       0       0  ...   \n",
              "\n",
              "      years  yes  yesterday  yo  young  younger  youth  yr  yres  yrs  \n",
              "0         1    0          0   0      0        0      0   0     0    0  \n",
              "1         4    0          0   0      0        0      0   0     0    0  \n",
              "2         0    0          0   0      0        0      0   0     0    0  \n",
              "3         1    0          0   0      0        0      0   0     0    0  \n",
              "4         2    0          0   0      0        0      0   0     0    0  \n",
              "...     ...  ...        ...  ..    ...      ...    ...  ..   ...  ...  \n",
              "1335      0    0          0   0      0        0      0   0     0    0  \n",
              "1336      1    0          0   0      0        0      0   0     0    0  \n",
              "1337      1    0          0   0      0        0      0   0     0    0  \n",
              "1338      1    0          0   0      0        0      0   0     0    0  \n",
              "1339      2    0          0   0      0        0      0   0     0    0  \n",
              "\n",
              "[1340 rows x 1725 columns]"
            ],
            "text/html": [
              "\n",
              "  <div id=\"df-cd155306-39be-4ef2-99ef-30bb704b88c5\">\n",
              "    <div class=\"colab-df-container\">\n",
              "      <div>\n",
              "<style scoped>\n",
              "    .dataframe tbody tr th:only-of-type {\n",
              "        vertical-align: middle;\n",
              "    }\n",
              "\n",
              "    .dataframe tbody tr th {\n",
              "        vertical-align: top;\n",
              "    }\n",
              "\n",
              "    .dataframe thead th {\n",
              "        text-align: right;\n",
              "    }\n",
              "</style>\n",
              "<table border=\"1\" class=\"dataframe\">\n",
              "  <thead>\n",
              "    <tr style=\"text-align: right;\">\n",
              "      <th></th>\n",
              "      <th>03</th>\n",
              "      <th>08</th>\n",
              "      <th>10</th>\n",
              "      <th>100</th>\n",
              "      <th>100054</th>\n",
              "      <th>100py</th>\n",
              "      <th>102899</th>\n",
              "      <th>102900</th>\n",
              "      <th>102901</th>\n",
              "      <th>102902</th>\n",
              "      <th>...</th>\n",
              "      <th>years</th>\n",
              "      <th>yes</th>\n",
              "      <th>yesterday</th>\n",
              "      <th>yo</th>\n",
              "      <th>young</th>\n",
              "      <th>younger</th>\n",
              "      <th>youth</th>\n",
              "      <th>yr</th>\n",
              "      <th>yres</th>\n",
              "      <th>yrs</th>\n",
              "    </tr>\n",
              "  </thead>\n",
              "  <tbody>\n",
              "    <tr>\n",
              "      <th>0</th>\n",
              "      <td>0</td>\n",
              "      <td>0</td>\n",
              "      <td>0</td>\n",
              "      <td>1</td>\n",
              "      <td>0</td>\n",
              "      <td>0</td>\n",
              "      <td>0</td>\n",
              "      <td>0</td>\n",
              "      <td>0</td>\n",
              "      <td>0</td>\n",
              "      <td>...</td>\n",
              "      <td>1</td>\n",
              "      <td>0</td>\n",
              "      <td>0</td>\n",
              "      <td>0</td>\n",
              "      <td>0</td>\n",
              "      <td>0</td>\n",
              "      <td>0</td>\n",
              "      <td>0</td>\n",
              "      <td>0</td>\n",
              "      <td>0</td>\n",
              "    </tr>\n",
              "    <tr>\n",
              "      <th>1</th>\n",
              "      <td>0</td>\n",
              "      <td>0</td>\n",
              "      <td>0</td>\n",
              "      <td>0</td>\n",
              "      <td>0</td>\n",
              "      <td>0</td>\n",
              "      <td>0</td>\n",
              "      <td>0</td>\n",
              "      <td>0</td>\n",
              "      <td>0</td>\n",
              "      <td>...</td>\n",
              "      <td>4</td>\n",
              "      <td>0</td>\n",
              "      <td>0</td>\n",
              "      <td>0</td>\n",
              "      <td>0</td>\n",
              "      <td>0</td>\n",
              "      <td>0</td>\n",
              "      <td>0</td>\n",
              "      <td>0</td>\n",
              "      <td>0</td>\n",
              "    </tr>\n",
              "    <tr>\n",
              "      <th>2</th>\n",
              "      <td>0</td>\n",
              "      <td>0</td>\n",
              "      <td>0</td>\n",
              "      <td>0</td>\n",
              "      <td>0</td>\n",
              "      <td>0</td>\n",
              "      <td>0</td>\n",
              "      <td>0</td>\n",
              "      <td>0</td>\n",
              "      <td>0</td>\n",
              "      <td>...</td>\n",
              "      <td>0</td>\n",
              "      <td>0</td>\n",
              "      <td>0</td>\n",
              "      <td>0</td>\n",
              "      <td>0</td>\n",
              "      <td>0</td>\n",
              "      <td>0</td>\n",
              "      <td>0</td>\n",
              "      <td>0</td>\n",
              "      <td>0</td>\n",
              "    </tr>\n",
              "    <tr>\n",
              "      <th>3</th>\n",
              "      <td>0</td>\n",
              "      <td>0</td>\n",
              "      <td>0</td>\n",
              "      <td>0</td>\n",
              "      <td>0</td>\n",
              "      <td>0</td>\n",
              "      <td>0</td>\n",
              "      <td>0</td>\n",
              "      <td>0</td>\n",
              "      <td>0</td>\n",
              "      <td>...</td>\n",
              "      <td>1</td>\n",
              "      <td>0</td>\n",
              "      <td>0</td>\n",
              "      <td>0</td>\n",
              "      <td>0</td>\n",
              "      <td>0</td>\n",
              "      <td>0</td>\n",
              "      <td>0</td>\n",
              "      <td>0</td>\n",
              "      <td>0</td>\n",
              "    </tr>\n",
              "    <tr>\n",
              "      <th>4</th>\n",
              "      <td>0</td>\n",
              "      <td>0</td>\n",
              "      <td>0</td>\n",
              "      <td>0</td>\n",
              "      <td>0</td>\n",
              "      <td>0</td>\n",
              "      <td>0</td>\n",
              "      <td>0</td>\n",
              "      <td>0</td>\n",
              "      <td>0</td>\n",
              "      <td>...</td>\n",
              "      <td>2</td>\n",
              "      <td>0</td>\n",
              "      <td>0</td>\n",
              "      <td>0</td>\n",
              "      <td>0</td>\n",
              "      <td>0</td>\n",
              "      <td>0</td>\n",
              "      <td>0</td>\n",
              "      <td>0</td>\n",
              "      <td>0</td>\n",
              "    </tr>\n",
              "    <tr>\n",
              "      <th>...</th>\n",
              "      <td>...</td>\n",
              "      <td>...</td>\n",
              "      <td>...</td>\n",
              "      <td>...</td>\n",
              "      <td>...</td>\n",
              "      <td>...</td>\n",
              "      <td>...</td>\n",
              "      <td>...</td>\n",
              "      <td>...</td>\n",
              "      <td>...</td>\n",
              "      <td>...</td>\n",
              "      <td>...</td>\n",
              "      <td>...</td>\n",
              "      <td>...</td>\n",
              "      <td>...</td>\n",
              "      <td>...</td>\n",
              "      <td>...</td>\n",
              "      <td>...</td>\n",
              "      <td>...</td>\n",
              "      <td>...</td>\n",
              "      <td>...</td>\n",
              "    </tr>\n",
              "    <tr>\n",
              "      <th>1335</th>\n",
              "      <td>0</td>\n",
              "      <td>0</td>\n",
              "      <td>0</td>\n",
              "      <td>0</td>\n",
              "      <td>0</td>\n",
              "      <td>0</td>\n",
              "      <td>0</td>\n",
              "      <td>0</td>\n",
              "      <td>0</td>\n",
              "      <td>0</td>\n",
              "      <td>...</td>\n",
              "      <td>0</td>\n",
              "      <td>0</td>\n",
              "      <td>0</td>\n",
              "      <td>0</td>\n",
              "      <td>0</td>\n",
              "      <td>0</td>\n",
              "      <td>0</td>\n",
              "      <td>0</td>\n",
              "      <td>0</td>\n",
              "      <td>0</td>\n",
              "    </tr>\n",
              "    <tr>\n",
              "      <th>1336</th>\n",
              "      <td>0</td>\n",
              "      <td>0</td>\n",
              "      <td>0</td>\n",
              "      <td>0</td>\n",
              "      <td>0</td>\n",
              "      <td>0</td>\n",
              "      <td>0</td>\n",
              "      <td>0</td>\n",
              "      <td>0</td>\n",
              "      <td>0</td>\n",
              "      <td>...</td>\n",
              "      <td>1</td>\n",
              "      <td>0</td>\n",
              "      <td>0</td>\n",
              "      <td>0</td>\n",
              "      <td>0</td>\n",
              "      <td>0</td>\n",
              "      <td>0</td>\n",
              "      <td>0</td>\n",
              "      <td>0</td>\n",
              "      <td>0</td>\n",
              "    </tr>\n",
              "    <tr>\n",
              "      <th>1337</th>\n",
              "      <td>0</td>\n",
              "      <td>0</td>\n",
              "      <td>0</td>\n",
              "      <td>0</td>\n",
              "      <td>0</td>\n",
              "      <td>0</td>\n",
              "      <td>0</td>\n",
              "      <td>0</td>\n",
              "      <td>0</td>\n",
              "      <td>0</td>\n",
              "      <td>...</td>\n",
              "      <td>1</td>\n",
              "      <td>0</td>\n",
              "      <td>0</td>\n",
              "      <td>0</td>\n",
              "      <td>0</td>\n",
              "      <td>0</td>\n",
              "      <td>0</td>\n",
              "      <td>0</td>\n",
              "      <td>0</td>\n",
              "      <td>0</td>\n",
              "    </tr>\n",
              "    <tr>\n",
              "      <th>1338</th>\n",
              "      <td>0</td>\n",
              "      <td>0</td>\n",
              "      <td>0</td>\n",
              "      <td>0</td>\n",
              "      <td>0</td>\n",
              "      <td>0</td>\n",
              "      <td>0</td>\n",
              "      <td>0</td>\n",
              "      <td>0</td>\n",
              "      <td>0</td>\n",
              "      <td>...</td>\n",
              "      <td>1</td>\n",
              "      <td>0</td>\n",
              "      <td>0</td>\n",
              "      <td>0</td>\n",
              "      <td>0</td>\n",
              "      <td>0</td>\n",
              "      <td>0</td>\n",
              "      <td>0</td>\n",
              "      <td>0</td>\n",
              "      <td>0</td>\n",
              "    </tr>\n",
              "    <tr>\n",
              "      <th>1339</th>\n",
              "      <td>0</td>\n",
              "      <td>0</td>\n",
              "      <td>0</td>\n",
              "      <td>0</td>\n",
              "      <td>0</td>\n",
              "      <td>0</td>\n",
              "      <td>0</td>\n",
              "      <td>0</td>\n",
              "      <td>0</td>\n",
              "      <td>0</td>\n",
              "      <td>...</td>\n",
              "      <td>2</td>\n",
              "      <td>0</td>\n",
              "      <td>0</td>\n",
              "      <td>0</td>\n",
              "      <td>0</td>\n",
              "      <td>0</td>\n",
              "      <td>0</td>\n",
              "      <td>0</td>\n",
              "      <td>0</td>\n",
              "      <td>0</td>\n",
              "    </tr>\n",
              "  </tbody>\n",
              "</table>\n",
              "<p>1340 rows × 1725 columns</p>\n",
              "</div>\n",
              "      <button class=\"colab-df-convert\" onclick=\"convertToInteractive('df-cd155306-39be-4ef2-99ef-30bb704b88c5')\"\n",
              "              title=\"Convert this dataframe to an interactive table.\"\n",
              "              style=\"display:none;\">\n",
              "        \n",
              "  <svg xmlns=\"http://www.w3.org/2000/svg\" height=\"24px\"viewBox=\"0 0 24 24\"\n",
              "       width=\"24px\">\n",
              "    <path d=\"M0 0h24v24H0V0z\" fill=\"none\"/>\n",
              "    <path d=\"M18.56 5.44l.94 2.06.94-2.06 2.06-.94-2.06-.94-.94-2.06-.94 2.06-2.06.94zm-11 1L8.5 8.5l.94-2.06 2.06-.94-2.06-.94L8.5 2.5l-.94 2.06-2.06.94zm10 10l.94 2.06.94-2.06 2.06-.94-2.06-.94-.94-2.06-.94 2.06-2.06.94z\"/><path d=\"M17.41 7.96l-1.37-1.37c-.4-.4-.92-.59-1.43-.59-.52 0-1.04.2-1.43.59L10.3 9.45l-7.72 7.72c-.78.78-.78 2.05 0 2.83L4 21.41c.39.39.9.59 1.41.59.51 0 1.02-.2 1.41-.59l7.78-7.78 2.81-2.81c.8-.78.8-2.07 0-2.86zM5.41 20L4 18.59l7.72-7.72 1.47 1.35L5.41 20z\"/>\n",
              "  </svg>\n",
              "      </button>\n",
              "      \n",
              "  <style>\n",
              "    .colab-df-container {\n",
              "      display:flex;\n",
              "      flex-wrap:wrap;\n",
              "      gap: 12px;\n",
              "    }\n",
              "\n",
              "    .colab-df-convert {\n",
              "      background-color: #E8F0FE;\n",
              "      border: none;\n",
              "      border-radius: 50%;\n",
              "      cursor: pointer;\n",
              "      display: none;\n",
              "      fill: #1967D2;\n",
              "      height: 32px;\n",
              "      padding: 0 0 0 0;\n",
              "      width: 32px;\n",
              "    }\n",
              "\n",
              "    .colab-df-convert:hover {\n",
              "      background-color: #E2EBFA;\n",
              "      box-shadow: 0px 1px 2px rgba(60, 64, 67, 0.3), 0px 1px 3px 1px rgba(60, 64, 67, 0.15);\n",
              "      fill: #174EA6;\n",
              "    }\n",
              "\n",
              "    [theme=dark] .colab-df-convert {\n",
              "      background-color: #3B4455;\n",
              "      fill: #D2E3FC;\n",
              "    }\n",
              "\n",
              "    [theme=dark] .colab-df-convert:hover {\n",
              "      background-color: #434B5C;\n",
              "      box-shadow: 0px 1px 3px 1px rgba(0, 0, 0, 0.15);\n",
              "      filter: drop-shadow(0px 1px 2px rgba(0, 0, 0, 0.3));\n",
              "      fill: #FFFFFF;\n",
              "    }\n",
              "  </style>\n",
              "\n",
              "      <script>\n",
              "        const buttonEl =\n",
              "          document.querySelector('#df-cd155306-39be-4ef2-99ef-30bb704b88c5 button.colab-df-convert');\n",
              "        buttonEl.style.display =\n",
              "          google.colab.kernel.accessAllowed ? 'block' : 'none';\n",
              "\n",
              "        async function convertToInteractive(key) {\n",
              "          const element = document.querySelector('#df-cd155306-39be-4ef2-99ef-30bb704b88c5');\n",
              "          const dataTable =\n",
              "            await google.colab.kernel.invokeFunction('convertToInteractive',\n",
              "                                                     [key], {});\n",
              "          if (!dataTable) return;\n",
              "\n",
              "          const docLinkHtml = 'Like what you see? Visit the ' +\n",
              "            '<a target=\"_blank\" href=https://colab.research.google.com/notebooks/data_table.ipynb>data table notebook</a>'\n",
              "            + ' to learn more about interactive tables.';\n",
              "          element.innerHTML = '';\n",
              "          dataTable['output_type'] = 'display_data';\n",
              "          await google.colab.output.renderOutput(dataTable, element);\n",
              "          const docLink = document.createElement('div');\n",
              "          docLink.innerHTML = docLinkHtml;\n",
              "          element.appendChild(docLink);\n",
              "        }\n",
              "      </script>\n",
              "    </div>\n",
              "  </div>\n",
              "  "
            ]
          },
          "metadata": {},
          "execution_count": 50
        }
      ]
    },
    {
      "cell_type": "code",
      "source": [
        "from sklearn.model_selection import train_test_split\n",
        "X_train, X_test, y_train, y_test = train_test_split(BOW_df, twoclass_df['relation_type'], test_size=0.30, random_state=111)"
      ],
      "metadata": {
        "id": "yY9r2NtSiWe2"
      },
      "execution_count": null,
      "outputs": []
    },
    {
      "cell_type": "code",
      "source": [
        "# logistic regression\n",
        "from sklearn.linear_model import LogisticRegression\n",
        "clf=LogisticRegression(C = 0.0001, penalty = 'l2', random_state = 42)\n",
        "clf.fit(X_train, y_train)"
      ],
      "metadata": {
        "colab": {
          "base_uri": "https://localhost:8080/"
        },
        "id": "BfKVPikEGWqr",
        "outputId": "5963317f-0bf0-4fd7-9507-cdd618187158"
      },
      "execution_count": null,
      "outputs": [
        {
          "output_type": "execute_result",
          "data": {
            "text/plain": [
              "LogisticRegression(C=0.0001, random_state=42)"
            ]
          },
          "metadata": {},
          "execution_count": 52
        }
      ]
    },
    {
      "cell_type": "code",
      "source": [
        "model = clf\n",
        "y_lr_preds = model.predict(X_test)"
      ],
      "metadata": {
        "id": "0bsKOrgjGrDg"
      },
      "execution_count": null,
      "outputs": []
    },
    {
      "cell_type": "code",
      "source": [
        "# Visualize confusion matrix for logistic regression\n",
        "from sklearn.metrics import classification_report,confusion_matrix \n",
        "import seaborn as sns\n",
        "\n",
        "lr_mat = confusion_matrix(y_lr_preds, y_test)\n",
        "\n",
        "sns.heatmap(lr_mat.T, square=True, annot=True, fmt='d', cbar=False)\n",
        "plt.xlabel('True label')\n",
        "plt.ylabel('Predicted label')\n",
        "plt.title('Logistic regression confusion matrix using Bag of Words')\n",
        "plt.show()\n",
        "\n",
        "print (\"\\nAccuracy of prediction:\",round((lr_mat[0,0]+lr_mat[1,1])/lr_mat.sum(),3))"
      ],
      "metadata": {
        "colab": {
          "base_uri": "https://localhost:8080/",
          "height": 331
        },
        "id": "ZVR7RA3PZPZq",
        "outputId": "b637c2b0-456e-4d98-a413-ba7a0ea32686"
      },
      "execution_count": null,
      "outputs": [
        {
          "output_type": "display_data",
          "data": {
            "text/plain": [
              "<Figure size 432x288 with 1 Axes>"
            ],
            "image/png": "[encoded data removed]"
          },
          "metadata": {
            "needs_background": "light"
          }
        },
        {
          "output_type": "stream",
          "name": "stdout",
          "text": [
            "\n",
            "Accuracy of prediction: 0.485\n"
          ]
        }
      ]
    },
    {
      "cell_type": "code",
      "source": [
        "print(\"classification report for logistic regression using Bag of Words\\n\")\n",
        "print(classification_report(y_test,y_lr_preds))"
      ],
      "metadata": {
        "colab": {
          "base_uri": "https://localhost:8080/"
        },
        "id": "JX7epbNiZP-0",
        "outputId": "ad91b107-4111-4e0c-85b2-3ab6f85561d4"
      },
      "execution_count": null,
      "outputs": [
        {
          "output_type": "stream",
          "name": "stdout",
          "text": [
            "classification report for logistic regression using Bag of Words\n",
            "\n",
            "              precision    recall  f1-score   support\n",
            "\n",
            "           0       0.50      0.01      0.02       207\n",
            "           1       0.48      0.99      0.65       195\n",
            "\n",
            "    accuracy                           0.49       402\n",
            "   macro avg       0.49      0.50      0.33       402\n",
            "weighted avg       0.49      0.49      0.33       402\n",
            "\n"
          ]
        }
      ]
    },
    {
      "cell_type": "code",
      "source": [
        "# Train a decision tree model\n",
        "from sklearn.tree import DecisionTreeClassifier \n",
        "\n",
        "trees_giniIndex = DecisionTreeClassifier()\n",
        "trees_giniIndex.fit(X_train, y_train)\n",
        "\n",
        "tree_entropy = DecisionTreeClassifier(criterion='entropy')\n",
        "tree_entropy.fit(X_train, y_train)"
      ],
      "metadata": {
        "colab": {
          "base_uri": "https://localhost:8080/"
        },
        "id": "Y6zkQL-8dyNT",
        "outputId": "7e645894-4ce0-4dc7-9a56-682d4760462b"
      },
      "execution_count": null,
      "outputs": [
        {
          "output_type": "execute_result",
          "data": {
            "text/plain": [
              "DecisionTreeClassifier(criterion='entropy')"
            ]
          },
          "metadata": {},
          "execution_count": 56
        }
      ]
    },
    {
      "cell_type": "code",
      "source": [
        "# Predict using the decision tree models\n",
        "y_pred_ent = tree_entropy.predict(X_test)\n",
        "\n",
        "y_pred_gini = trees_giniIndex.predict(X_test)"
      ],
      "metadata": {
        "id": "HoZsxT_Sl7mN"
      },
      "execution_count": null,
      "outputs": []
    },
    {
      "cell_type": "code",
      "source": [
        "# Evaluate confusion matrix for decision tree using Gini\n",
        "from sklearn.metrics import classification_report,confusion_matrix \n",
        "import seaborn as sns\n",
        "\n",
        "lr_mat = confusion_matrix(y_pred_gini, y_test)\n",
        "\n",
        "sns.heatmap(lr_mat.T, square=True, annot=True, fmt='d', cbar=False)\n",
        "plt.xlabel('True label')\n",
        "plt.ylabel('Predicted label')\n",
        "plt.title('Decision Tree (Gini Index) confusion matrix using Bag of Words')\n",
        "plt.show()\n",
        "\n",
        "print (\"\\nAccuracy of prediction:\",round((lr_mat[0,0]+lr_mat[1,1])/lr_mat.sum(),3))"
      ],
      "metadata": {
        "colab": {
          "base_uri": "https://localhost:8080/",
          "height": 331
        },
        "id": "Mxy7kVWPbtWr",
        "outputId": "72f15405-048c-415f-bebd-bb5724f79b7c"
      },
      "execution_count": null,
      "outputs": [
        {
          "output_type": "display_data",
          "data": {
            "text/plain": [
              "<Figure size 432x288 with 1 Axes>"
            ],
            "image/png": "[encoded data removed]"
          },
          "metadata": {
            "needs_background": "light"
          }
        },
        {
          "output_type": "stream",
          "name": "stdout",
          "text": [
            "\n",
            "Accuracy of prediction: 0.602\n"
          ]
        }
      ]
    },
    {
      "cell_type": "code",
      "source": [
        "print(\"classification report for Decision Tree (Gini Index) using Bag of Words\\n\")\n",
        "print(classification_report(y_test,y_pred_gini))"
      ],
      "metadata": {
        "colab": {
          "base_uri": "https://localhost:8080/"
        },
        "id": "QjK0FNXrcYGz",
        "outputId": "2bc81c9c-3995-429a-9b61-3ff214804596"
      },
      "execution_count": null,
      "outputs": [
        {
          "output_type": "stream",
          "name": "stdout",
          "text": [
            "classification report for Decision Tree (Gini Index) using Bag of Words\n",
            "\n",
            "              precision    recall  f1-score   support\n",
            "\n",
            "           0       0.60      0.68      0.64       207\n",
            "           1       0.60      0.52      0.56       195\n",
            "\n",
            "    accuracy                           0.60       402\n",
            "   macro avg       0.60      0.60      0.60       402\n",
            "weighted avg       0.60      0.60      0.60       402\n",
            "\n"
          ]
        }
      ]
    },
    {
      "cell_type": "code",
      "source": [
        "# Evaluate confusion matrix for decision tree using Entropy\n",
        "from sklearn.metrics import classification_report,confusion_matrix \n",
        "import seaborn as sns\n",
        "\n",
        "lr_mat = confusion_matrix(y_pred_ent, y_test)\n",
        "\n",
        "sns.heatmap(lr_mat.T, square=True, annot=True, fmt='d', cbar=False)\n",
        "plt.xlabel('True label')\n",
        "plt.ylabel('Predicted label')\n",
        "plt.title('Decision Tree (Entropy) confusion matrix using Bag of Words')\n",
        "plt.show()\n",
        "\n",
        "print (\"\\nAccuracy of prediction:\",round((lr_mat[0,0]+lr_mat[1,1])/lr_mat.sum(),3))"
      ],
      "metadata": {
        "colab": {
          "base_uri": "https://localhost:8080/",
          "height": 331
        },
        "id": "4NaQJOLZb6PB",
        "outputId": "2fcd059b-d83e-47a5-8742-f958ba53b46e"
      },
      "execution_count": null,
      "outputs": [
        {
          "output_type": "display_data",
          "data": {
            "text/plain": [
              "<Figure size 432x288 with 1 Axes>"
            ],
            "image/png": "[encoded data removed]"
          },
          "metadata": {
            "needs_background": "light"
          }
        },
        {
          "output_type": "stream",
          "name": "stdout",
          "text": [
            "\n",
            "Accuracy of prediction: 0.59\n"
          ]
        }
      ]
    },
    {
      "cell_type": "code",
      "source": [
        "print(\"classification report for Decision Tree (Entropy) using Bag of Words\\n\")\n",
        "print(classification_report(y_test,y_pred_ent))"
      ],
      "metadata": {
        "colab": {
          "base_uri": "https://localhost:8080/"
        },
        "id": "LQujtakyclD4",
        "outputId": "34fef7ba-cb0c-4706-ea07-e2742c06e989"
      },
      "execution_count": null,
      "outputs": [
        {
          "output_type": "stream",
          "name": "stdout",
          "text": [
            "classification report for Decision Tree (Entropy) using Bag of Words\n",
            "\n",
            "              precision    recall  f1-score   support\n",
            "\n",
            "           0       0.59      0.66      0.62       207\n",
            "           1       0.59      0.51      0.55       195\n",
            "\n",
            "    accuracy                           0.59       402\n",
            "   macro avg       0.59      0.59      0.59       402\n",
            "weighted avg       0.59      0.59      0.59       402\n",
            "\n"
          ]
        }
      ]
    },
    {
      "cell_type": "code",
      "source": [
        "from sklearn.svm import SVC\n",
        "svc = SVC(kernel=\"poly\", degree=1, C=0.1, gamma=0.1)\n",
        "svc.fit(X_train, y_train)\n",
        "y_pred_svc = svc.predict(X_test)"
      ],
      "metadata": {
        "id": "B-CzcsiSxr0Q"
      },
      "execution_count": null,
      "outputs": []
    },
    {
      "cell_type": "code",
      "source": [
        "# Evaluate confusion matrix for decision tree using Entropy\n",
        "from sklearn.metrics import classification_report,confusion_matrix \n",
        "import seaborn as sns\n",
        "\n",
        "lr_mat = confusion_matrix(y_pred_svc, y_test)\n",
        "\n",
        "sns.heatmap(lr_mat.T, square=True, annot=True, fmt='d', cbar=False)\n",
        "plt.xlabel('True label')\n",
        "plt.ylabel('Predicted label')\n",
        "plt.title('SVM confusion matrix using Bag of Words')\n",
        "plt.show()\n",
        "\n",
        "print (\"\\nAccuracy of prediction:\",round((lr_mat[0,0]+lr_mat[1,1])/lr_mat.sum(),3))"
      ],
      "metadata": {
        "colab": {
          "base_uri": "https://localhost:8080/",
          "height": 331
        },
        "id": "rL2wvMfTx894",
        "outputId": "9904dd4b-624a-464d-b61a-d53d1844a946"
      },
      "execution_count": null,
      "outputs": [
        {
          "output_type": "display_data",
          "data": {
            "text/plain": [
              "<Figure size 432x288 with 1 Axes>"
            ],
            "image/png": "[encoded data removed]"
          },
          "metadata": {
            "needs_background": "light"
          }
        },
        {
          "output_type": "stream",
          "name": "stdout",
          "text": [
            "\n",
            "Accuracy of prediction: 0.739\n"
          ]
        }
      ]
    },
    {
      "cell_type": "code",
      "source": [
        "print(\"classification report for SVM using Bag of Words\\n\")\n",
        "print(classification_report(y_test,y_pred_svc))"
      ],
      "metadata": {
        "colab": {
          "base_uri": "https://localhost:8080/"
        },
        "id": "DA3MfgoWyCyD",
        "outputId": "160847a9-1bbc-45b1-ea20-8e678db48e87"
      },
      "execution_count": null,
      "outputs": [
        {
          "output_type": "stream",
          "name": "stdout",
          "text": [
            "classification report for SVM using Bag of Words\n",
            "\n",
            "              precision    recall  f1-score   support\n",
            "\n",
            "           0       0.77      0.71      0.74       207\n",
            "           1       0.71      0.77      0.74       195\n",
            "\n",
            "    accuracy                           0.74       402\n",
            "   macro avg       0.74      0.74      0.74       402\n",
            "weighted avg       0.74      0.74      0.74       402\n",
            "\n"
          ]
        }
      ]
    },
    {
      "cell_type": "code",
      "source": [
        "from sklearn.ensemble import RandomForestClassifier\n",
        "from sklearn import metrics\n",
        "\n",
        "rfc = RandomForestClassifier(max_depth=10, random_state=42)\n",
        "rfc.fit(X_train, y_train)\n",
        "y_pred_rfc = rfc.predict(X_test)"
      ],
      "metadata": {
        "id": "6rHEYABN0Z8b"
      },
      "execution_count": null,
      "outputs": []
    },
    {
      "cell_type": "code",
      "source": [
        "# Evaluate confusion matrix for decision tree using Entropy\n",
        "from sklearn.metrics import classification_report,confusion_matrix \n",
        "import seaborn as sns\n",
        "\n",
        "lr_mat = confusion_matrix(y_pred_rfc, y_test)\n",
        "\n",
        "sns.heatmap(lr_mat.T, square=True, annot=True, fmt='d', cbar=False)\n",
        "plt.xlabel('True label')\n",
        "plt.ylabel('Predicted label')\n",
        "plt.title('Random forest confusion matrix using Bag of Words')\n",
        "plt.show()\n",
        "\n",
        "print (\"\\nAccuracy of prediction:\",round((lr_mat[0,0]+lr_mat[1,1])/lr_mat.sum(),3))"
      ],
      "metadata": {
        "colab": {
          "base_uri": "https://localhost:8080/",
          "height": 331
        },
        "id": "G2EDmuKh0Z_Z",
        "outputId": "0dc64a92-c278-4c9d-8e74-46177def4f4b"
      },
      "execution_count": null,
      "outputs": [
        {
          "output_type": "display_data",
          "data": {
            "text/plain": [
              "<Figure size 432x288 with 1 Axes>"
            ],
            "image/png": "[encoded data removed]"
          },
          "metadata": {
            "needs_background": "light"
          }
        },
        {
          "output_type": "stream",
          "name": "stdout",
          "text": [
            "\n",
            "Accuracy of prediction: 0.711\n"
          ]
        }
      ]
    },
    {
      "cell_type": "code",
      "source": [
        "print(\"classification report for Random Forest using Bag of Words\\n\")\n",
        "print(classification_report(y_test,y_pred_rfc))"
      ],
      "metadata": {
        "colab": {
          "base_uri": "https://localhost:8080/"
        },
        "id": "bYZ8whrv0jIX",
        "outputId": "20de03a0-e625-4332-98e0-fe1467d8025f"
      },
      "execution_count": null,
      "outputs": [
        {
          "output_type": "stream",
          "name": "stdout",
          "text": [
            "classification report for Random Forest using Bag of Words\n",
            "\n",
            "              precision    recall  f1-score   support\n",
            "\n",
            "           0       0.74      0.67      0.71       207\n",
            "           1       0.68      0.75      0.72       195\n",
            "\n",
            "    accuracy                           0.71       402\n",
            "   macro avg       0.71      0.71      0.71       402\n",
            "weighted avg       0.71      0.71      0.71       402\n",
            "\n"
          ]
        }
      ]
    },
    {
      "cell_type": "code",
      "source": [
        "from sklearn.naive_bayes import GaussianNB\n",
        "\n",
        "gaussian = GaussianNB()\n",
        "gaussian.fit(X_train, y_train)\n",
        "y_pred_nb = gaussian.predict(X_test)"
      ],
      "metadata": {
        "id": "ZAmkImf80aCC"
      },
      "execution_count": null,
      "outputs": []
    },
    {
      "cell_type": "code",
      "source": [
        "# Evaluate confusion matrix for decision tree using Entropy\n",
        "from sklearn.metrics import classification_report,confusion_matrix \n",
        "import seaborn as sns\n",
        "\n",
        "lr_mat = confusion_matrix(y_pred_nb, y_test)\n",
        "\n",
        "sns.heatmap(lr_mat.T, square=True, annot=True, fmt='d', cbar=False)\n",
        "plt.xlabel('True label')\n",
        "plt.ylabel('Predicted label')\n",
        "plt.title('GaussianNB confusion matrix using Bag of Words')\n",
        "plt.show()\n",
        "\n",
        "print (\"\\nAccuracy of prediction:\",round((lr_mat[0,0]+lr_mat[1,1])/lr_mat.sum(),3))"
      ],
      "metadata": {
        "colab": {
          "base_uri": "https://localhost:8080/",
          "height": 331
        },
        "id": "TYl46vtz1nVl",
        "outputId": "b03cec06-2c3f-4d2e-f270-1d3b245a8479"
      },
      "execution_count": null,
      "outputs": [
        {
          "output_type": "display_data",
          "data": {
            "text/plain": [
              "<Figure size 432x288 with 1 Axes>"
            ],
            "image/png": "[encoded data removed]"
          },
          "metadata": {
            "needs_background": "light"
          }
        },
        {
          "output_type": "stream",
          "name": "stdout",
          "text": [
            "\n",
            "Accuracy of prediction: 0.493\n"
          ]
        }
      ]
    },
    {
      "cell_type": "code",
      "source": [
        "print(\"classification report for GaussianNB using Bag of Words\\n\")\n",
        "print(classification_report(y_test,y_pred_nb))"
      ],
      "metadata": {
        "colab": {
          "base_uri": "https://localhost:8080/"
        },
        "id": "SF5XOhtg1nYl",
        "outputId": "3bbcfe7d-2041-4b2e-b82d-1eef62c71d0b"
      },
      "execution_count": null,
      "outputs": [
        {
          "output_type": "stream",
          "name": "stdout",
          "text": [
            "classification report for GaussianNB using Bag of Words\n",
            "\n",
            "              precision    recall  f1-score   support\n",
            "\n",
            "           0       0.50      0.73      0.60       207\n",
            "           1       0.46      0.24      0.31       195\n",
            "\n",
            "    accuracy                           0.49       402\n",
            "   macro avg       0.48      0.49      0.45       402\n",
            "weighted avg       0.48      0.49      0.46       402\n",
            "\n"
          ]
        }
      ]
    },
    {
      "cell_type": "markdown",
      "source": [
        "### Spacy"
      ],
      "metadata": {
        "id": "w_CpqzAcyg2f"
      }
    },
    {
      "cell_type": "code",
      "source": [],
      "metadata": {
        "id": "GDoTm-WWyftC"
      },
      "execution_count": null,
      "outputs": []
    },
    {
      "cell_type": "code",
      "execution_count": null,
      "metadata": {
        "id": "FjQSkWTcgSfW"
      },
      "outputs": [],
      "source": [
        "!pip install spacy\n",
        "!pip install spacy_sentence_bert"
      ]
    },
    {
      "cell_type": "code",
      "execution_count": null,
      "metadata": {
        "id": "cURmXIm5gw0M"
      },
      "outputs": [],
      "source": [
        "! pip install -U pip setuptools wheel\n",
        "! pip install -U spacy\n",
        "! python -m spacy download en_core_web_sm"
      ]
    },
    {
      "cell_type": "code",
      "execution_count": null,
      "metadata": {
        "id": "Sz9fOw53etjl"
      },
      "outputs": [],
      "source": [
        "import spacy\n",
        "\n",
        "nlp = spacy.load('en_core_web_sm')\n",
        "def getCorpus(sentences):\n",
        "  corpus = []\n",
        "  for row in range(0, len(sentences)):\n",
        "    str_tokens=[]\n",
        "    tokens= nlp(sentences[row]).ents\n",
        "    for i in range(0, len(tokens)):\n",
        "      str_tokens.append(tokens[i].text)\n",
        "    corpus.append(list(str_tokens))\n",
        "  return corpus"
      ]
    },
    {
      "cell_type": "code",
      "source": [
        "corpus=getCorpus(twoclass_df['sentence'])"
      ],
      "metadata": {
        "id": "qfeUnUc550C6"
      },
      "execution_count": null,
      "outputs": []
    },
    {
      "cell_type": "code",
      "source": [
        "from gensim.models import Word2Vec\n",
        "word2vec = Word2Vec(corpus, min_count=1, size=100)"
      ],
      "metadata": {
        "id": "J2aQgoMo6Geh"
      },
      "execution_count": null,
      "outputs": []
    },
    {
      "cell_type": "code",
      "source": [
        "vocabulary = word2vec.wv.vocab\n",
        "print(vocabulary)"
      ],
      "metadata": {
        "colab": {
          "base_uri": "https://localhost:8080/"
        },
        "id": "t40vEWma6eOj",
        "outputId": "9358a086-cb54-4d87-e566-ee2ca146859a"
      },
      "execution_count": null,
      "outputs": [
        {
          "output_type": "stream",
          "name": "stdout",
          "text": [
            "{'First': <gensim.models.keyedvectors.Vocab object at 0x7eff1cce0f10>, 'un': <gensim.models.keyedvectors.Vocab object at 0x7eff1cce0110>, '1056': <gensim.models.keyedvectors.Vocab object at 0x7eff1ccd0f90>, '531': <gensim.models.keyedvectors.Vocab object at 0x7eff1ccd09d0>, 'age 6 Live': <gensim.models.keyedvectors.Vocab object at 0x7eff1ccd0610>, '100%': <gensim.models.keyedvectors.Vocab object at 0x7eff1cd28310>, '3 months': <gensim.models.keyedvectors.Vocab object at 0x7eff1cd28890>, '+Tobacco - 2': <gensim.models.keyedvectors.Vocab object at 0x7eff1cd28ed0>, '20+ years': <gensim.models.keyedvectors.Vocab object at 0x7eff1ccd0c90>, '2100': <gensim.models.keyedvectors.Vocab object at 0x7eff1cd3bf10>, '2113': <gensim.models.keyedvectors.Vocab object at 0x7eff1cd28cd0>, 'Pine': <gensim.models.keyedvectors.Vocab object at 0x7eff1cd28690>, '3 months ago': <gensim.models.keyedvectors.Vocab object at 0x7eff1cd28650>, '2159': <gensim.models.keyedvectors.Vocab object at 0x7eff1cd28390>, 'approximately 2 years ago': <gensim.models.keyedvectors.Vocab object at 0x7eff1cd28f90>, 'Two': <gensim.models.keyedvectors.Vocab object at 0x7eff1cd28490>, '1258': <gensim.models.keyedvectors.Vocab object at 0x7eff1cd28d50>, '30 years': <gensim.models.keyedvectors.Vocab object at 0x7eff1cd28810>, 'six': <gensim.models.keyedvectors.Vocab object at 0x7eff1cd28790>, 'the past two years': <gensim.models.keyedvectors.Vocab object at 0x7eff1cd28a50>, 'at least one year': <gensim.models.keyedvectors.Vocab object at 0x7eff1cd28110>, '35 years': <gensim.models.keyedvectors.Vocab object at 0x7eff1cd28190>, 'years': <gensim.models.keyedvectors.Vocab object at 0x7eff1cd28250>, '12 years': <gensim.models.keyedvectors.Vocab object at 0x7eff1cd28290>, '1': <gensim.models.keyedvectors.Vocab object at 0x7eff1cd28550>, '20 years': <gensim.models.keyedvectors.Vocab object at 0x7eff1cd28c90>, '25 years': <gensim.models.keyedvectors.Vocab object at 0x7eff1cd28e10>, '8': <gensim.models.keyedvectors.Vocab object at 0x7eff1cd287d0>, 'IVDA': <gensim.models.keyedvectors.Vocab object at 0x7eff1cd282d0>, 'H': <gensim.models.keyedvectors.Vocab object at 0x7eff1cd28710>, 'ETOH': <gensim.models.keyedvectors.Vocab object at 0x7eff1cd28910>, 'h': <gensim.models.keyedvectors.Vocab object at 0x7eff1cd28450>, 'marijuana': <gensim.models.keyedvectors.Vocab object at 0x7eff1cd28150>, 'age 16': <gensim.models.keyedvectors.Vocab object at 0x7eff1cd28210>, '2 months ago': <gensim.models.keyedvectors.Vocab object at 0x7eff1cd28f50>, 'at least 1': <gensim.models.keyedvectors.Vocab object at 0x7eff1cccc990>, 'the years': <gensim.models.keyedvectors.Vocab object at 0x7eff1cccc150>, 'the last month': <gensim.models.keyedvectors.Vocab object at 0x7eff1cccc9d0>, '13622': <gensim.models.keyedvectors.Vocab object at 0x7eff1cccc4d0>, '11 years ago': <gensim.models.keyedvectors.Vocab object at 0x7eff1cccc2d0>, '77142': <gensim.models.keyedvectors.Vocab object at 0x7eff1ccccc50>, '7': <gensim.models.keyedvectors.Vocab object at 0x7eff1cccc610>, '2x': <gensim.models.keyedvectors.Vocab object at 0x7eff1cccca90>, 'a week': <gensim.models.keyedvectors.Vocab object at 0x7eff1cccc510>, '15': <gensim.models.keyedvectors.Vocab object at 0x7eff1cccc950>, 'IVDU': <gensim.models.keyedvectors.Vocab object at 0x7eff1cccc450>, '1 \"many years ago': <gensim.models.keyedvectors.Vocab object at 0x7eff1cccc710>, '3 days ago': <gensim.models.keyedvectors.Vocab object at 0x7eff1cccc750>, '3/5s': <gensim.models.keyedvectors.Vocab object at 0x7eff1cccc190>, '2 weeks ago': <gensim.models.keyedvectors.Vocab object at 0x7eff1cccc910>, '35 years ago': <gensim.models.keyedvectors.Vocab object at 0x7eff1ccccf10>, '25': <gensim.models.keyedvectors.Vocab object at 0x7eff1cccc790>, '1 year ago': <gensim.models.keyedvectors.Vocab object at 0x7eff1cd591d0>, 'US': <gensim.models.keyedvectors.Vocab object at 0x7eff1cd59cd0>, '12-20': <gensim.models.keyedvectors.Vocab object at 0x7eff1cd59bd0>, '40pack-year': <gensim.models.keyedvectors.Vocab object at 0x7eff1cd59a90>, 'three': <gensim.models.keyedvectors.Vocab object at 0x7eff1cd59910>, '1-2': <gensim.models.keyedvectors.Vocab object at 0x7eff1cd59e10>, 'age 17': <gensim.models.keyedvectors.Vocab object at 0x7eff1ccc5690>, '6': <gensim.models.keyedvectors.Vocab object at 0x7eff1ccc5550>, '46': <gensim.models.keyedvectors.Vocab object at 0x7eff1ccc5c10>, '8-19': <gensim.models.keyedvectors.Vocab object at 0x7eff1ccc5f10>, 'two': <gensim.models.keyedvectors.Vocab object at 0x7eff1ccc50d0>, '20': <gensim.models.keyedvectors.Vocab object at 0x7eff1ccc5150>, 'at least 0.5': <gensim.models.keyedvectors.Vocab object at 0x7eff1ccc5e90>, 'today': <gensim.models.keyedvectors.Vocab object at 0x7eff1ccc5210>, '56yrs ago': <gensim.models.keyedvectors.Vocab object at 0x7eff1ccc5490>, '18 years': <gensim.models.keyedvectors.Vocab object at 0x7eff1ccea890>, 'the past few years': <gensim.models.keyedvectors.Vocab object at 0x7eff1cceaad0>, '24H': <gensim.models.keyedvectors.Vocab object at 0x7eff1ccead50>, 'HHA': <gensim.models.keyedvectors.Vocab object at 0x7eff1cceacd0>, '#': <gensim.models.keyedvectors.Vocab object at 0x7eff1ccea950>, '10 years': <gensim.models.keyedvectors.Vocab object at 0x7eff1ccea150>, '2': <gensim.models.keyedvectors.Vocab object at 0x7eff1ccead90>, '5 years ago': <gensim.models.keyedvectors.Vocab object at 0x7eff1ccea190>, '10 pack year': <gensim.models.keyedvectors.Vocab object at 0x7eff1ccea7d0>, '15-20 years': <gensim.models.keyedvectors.Vocab object at 0x7eff1cceabd0>, 'two weeks ago': <gensim.models.keyedvectors.Vocab object at 0x7eff1ccea690>, '10 years ago': <gensim.models.keyedvectors.Vocab object at 0x7eff1cceaf50>, '20-30': <gensim.models.keyedvectors.Vocab object at 0x7eff1ccea410>, 'four years ago': <gensim.models.keyedvectors.Vocab object at 0x7eff1ccea990>, 'yesterday': <gensim.models.keyedvectors.Vocab object at 0x7eff1ccea790>, '1ppd': <gensim.models.keyedvectors.Vocab object at 0x7eff1ccea910>, 'University/College 5130': <gensim.models.keyedvectors.Vocab object at 0x7eff1cceac50>, 'many years': <gensim.models.keyedvectors.Vocab object at 0x7eff1ccea290>, '12': <gensim.models.keyedvectors.Vocab object at 0x7eff1ccea450>, '18': <gensim.models.keyedvectors.Vocab object at 0x7eff1ccea5d0>, 'Holiday Inn': <gensim.models.keyedvectors.Vocab object at 0x7eff1ccea0d0>, 'a fifth': <gensim.models.keyedvectors.Vocab object at 0x7eff1cceaf90>, 'daily': <gensim.models.keyedvectors.Vocab object at 0x7eff1ccea750>, 'the last 16 years': <gensim.models.keyedvectors.Vocab object at 0x7eff1ccea090>, 'NA': <gensim.models.keyedvectors.Vocab object at 0x7eff1ccea050>, '6 weeks ago': <gensim.models.keyedvectors.Vocab object at 0x7eff1cceaa50>, 'One': <gensim.models.keyedvectors.Vocab object at 0x7eff1cceae90>, 'three years': <gensim.models.keyedvectors.Vocab object at 0x7eff1ccea210>, '79107': <gensim.models.keyedvectors.Vocab object at 0x7eff1ccea310>, 'age 15': <gensim.models.keyedvectors.Vocab object at 0x7eff1cceadd0>, 'sober house': <gensim.models.keyedvectors.Vocab object at 0x7eff1ccea610>, 'Cocaine x': <gensim.models.keyedvectors.Vocab object at 0x7eff1ccea550>, '3-4 years': <gensim.models.keyedvectors.Vocab object at 0x7eff1ccea2d0>, '60-90': <gensim.models.keyedvectors.Vocab object at 0x7eff1ccea110>, 'pack-year': <gensim.models.keyedvectors.Vocab object at 0x7eff1cceaed0>, '15 years ago': <gensim.models.keyedvectors.Vocab object at 0x7eff1ccea590>, '2187': <gensim.models.keyedvectors.Vocab object at 0x7eff1ccea4d0>, '30pyh': <gensim.models.keyedvectors.Vocab object at 0x7eff1cceab90>, '5yrs ago': <gensim.models.keyedvectors.Vocab object at 0x7eff1cceaa90>, '36358': <gensim.models.keyedvectors.Vocab object at 0x7eff1ccea390>, 'Cigarettes': <gensim.models.keyedvectors.Vocab object at 0x7eff1ccea250>, '28 years ago': <gensim.models.keyedvectors.Vocab object at 0x7eff1ccead10>, '1818': <gensim.models.keyedvectors.Vocab object at 0x7eff1cceafd0>, '15 yrs ago': <gensim.models.keyedvectors.Vocab object at 0x7eff1ccea650>, '3ppd': <gensim.models.keyedvectors.Vocab object at 0x7eff1ccea810>, 'age 51': <gensim.models.keyedvectors.Vocab object at 0x7eff1ccea6d0>, 'NI': <gensim.models.keyedvectors.Vocab object at 0x7eff1ccea350>, '583': <gensim.models.keyedvectors.Vocab object at 0x7eff1cceae50>, '3': <gensim.models.keyedvectors.Vocab object at 0x7eff1ccea9d0>, '3 weeks ago': <gensim.models.keyedvectors.Vocab object at 0x7eff1ccea710>, '19417': <gensim.models.keyedvectors.Vocab object at 0x7eff1ccea3d0>, '5263': <gensim.models.keyedvectors.Vocab object at 0x7eff1ccea850>, '50923': <gensim.models.keyedvectors.Vocab object at 0x7eff1ccea8d0>, '2ppd': <gensim.models.keyedvectors.Vocab object at 0x7eff1ccea1d0>, '40 years ago': <gensim.models.keyedvectors.Vocab object at 0x7eff1ccea490>, '26': <gensim.models.keyedvectors.Vocab object at 0x7eff1cceaf10>, 'approximately 1 year ago': <gensim.models.keyedvectors.Vocab object at 0x7eff1cc80d90>, 'Quit': <gensim.models.keyedvectors.Vocab object at 0x7eff1cc80f50>, '30': <gensim.models.keyedvectors.Vocab object at 0x7eff1cc80190>, 'months ago': <gensim.models.keyedvectors.Vocab object at 0x7eff1cc80450>, '100': <gensim.models.keyedvectors.Vocab object at 0x7eff1cc80890>, '22 years ago': <gensim.models.keyedvectors.Vocab object at 0x7eff1cc80b90>, 'one': <gensim.models.keyedvectors.Vocab object at 0x7eff1cc80350>, '1 month ago': <gensim.models.keyedvectors.Vocab object at 0x7eff1cc80910>, 'about a week and': <gensim.models.keyedvectors.Vocab object at 0x7eff1cc80d10>, 'six years': <gensim.models.keyedvectors.Vocab object at 0x7eff1cc80c10>, '2193-10-12': <gensim.models.keyedvectors.Vocab object at 0x7eff1cc808d0>, '9': <gensim.models.keyedvectors.Vocab object at 0x7eff1cc806d0>, 'about 50 years': <gensim.models.keyedvectors.Vocab object at 0x7eff1cc80110>, 'day': <gensim.models.keyedvectors.Vocab object at 0x7eff1cc80390>, '2136-4-7': <gensim.models.keyedvectors.Vocab object at 0x7eff1cc800d0>, '2107': <gensim.models.keyedvectors.Vocab object at 0x7eff1cc80610>, 'some weeks': <gensim.models.keyedvectors.Vocab object at 0x7eff1cc80650>, '1.5': <gensim.models.keyedvectors.Vocab object at 0x7eff1cc80b10>, '50 years': <gensim.models.keyedvectors.Vocab object at 0x7eff1cc80a90>, '2162-12-31': <gensim.models.keyedvectors.Vocab object at 0x7eff1cc80510>, 'Etoh >10 yrs ago': <gensim.models.keyedvectors.Vocab object at 0x7eff1cc80a10>, '65076': <gensim.models.keyedvectors.Vocab object at 0x7eff1cc80e50>, 'EtOH': <gensim.models.keyedvectors.Vocab object at 0x7eff1cc80490>, 'MVC': <gensim.models.keyedvectors.Vocab object at 0x7eff1cc80950>, 'Month': <gensim.models.keyedvectors.Vocab object at 0x7eff1cc80550>, '1096': <gensim.models.keyedvectors.Vocab object at 0x7eff1cc80a50>, 'eight years': <gensim.models.keyedvectors.Vocab object at 0x7eff1cc80050>, '3rd': <gensim.models.keyedvectors.Vocab object at 0x7eff1cc80b50>, '39': <gensim.models.keyedvectors.Vocab object at 0x7eff1cc80310>, '2139': <gensim.models.keyedvectors.Vocab object at 0x7eff1cc80090>, '2318': <gensim.models.keyedvectors.Vocab object at 0x7eff1cc80990>, 'weekly': <gensim.models.keyedvectors.Vocab object at 0x7eff1cc80fd0>, 'At least 25 years': <gensim.models.keyedvectors.Vocab object at 0x7eff1cc80ed0>, '11 years old': <gensim.models.keyedvectors.Vocab object at 0x7eff1cc807d0>, '18 years old': <gensim.models.keyedvectors.Vocab object at 0x7eff1cc803d0>, '15 years': <gensim.models.keyedvectors.Vocab object at 0x7eff1cc80150>, 'Oxycontin': <gensim.models.keyedvectors.Vocab object at 0x7eff1cc80cd0>, '4 years': <gensim.models.keyedvectors.Vocab object at 0x7eff1cc80590>, 'Methadone': <gensim.models.keyedvectors.Vocab object at 0x7eff1cc809d0>, 'Roughly 50': <gensim.models.keyedvectors.Vocab object at 0x7eff1cc80690>, '2160': <gensim.models.keyedvectors.Vocab object at 0x7eff1cc80710>, '40': <gensim.models.keyedvectors.Vocab object at 0x7eff1cc80250>, '25 years ago': <gensim.models.keyedvectors.Vocab object at 0x7eff1cc80850>, 'about 7': <gensim.models.keyedvectors.Vocab object at 0x7eff1cc80750>, '2129-12-8': <gensim.models.keyedvectors.Vocab object at 0x7eff1cc804d0>, '1 liter': <gensim.models.keyedvectors.Vocab object at 0x7eff1cc80790>, '2/3': <gensim.models.keyedvectors.Vocab object at 0x7eff1cc80c50>, 'Drinks': <gensim.models.keyedvectors.Vocab object at 0x7eff1cc80e90>, 'about one': <gensim.models.keyedvectors.Vocab object at 0x7eff1cc80290>, 'Social Hx': <gensim.models.keyedvectors.Vocab object at 0x7eff1cc801d0>, '25 yrs': <gensim.models.keyedvectors.Vocab object at 0x7eff1cc80bd0>, 'social EtOH': <gensim.models.keyedvectors.Vocab object at 0x7eff1cc80c90>, '2-3': <gensim.models.keyedvectors.Vocab object at 0x7eff1cc80d50>, '2166': <gensim.models.keyedvectors.Vocab object at 0x7eff1cc80ad0>, '2196-3-24': <gensim.models.keyedvectors.Vocab object at 0x7eff1cc80dd0>, 'Situate pipe Co.': <gensim.models.keyedvectors.Vocab object at 0x7eff1cc80e10>, '18 years ago': <gensim.models.keyedvectors.Vocab object at 0x7eff1cc80f10>, '40 pk year smoker-': <gensim.models.keyedvectors.Vocab object at 0x7eff1cc805d0>, '8 mos ago': <gensim.models.keyedvectors.Vocab object at 0x7eff1cc80210>, '41 years ago': <gensim.models.keyedvectors.Vocab object at 0x7eff1cc80410>, 'thirty years ago': <gensim.models.keyedvectors.Vocab object at 0x7eff1cc80f90>, '760': <gensim.models.keyedvectors.Vocab object at 0x7eff1cc802d0>, '6687': <gensim.models.keyedvectors.Vocab object at 0x7eff1ccecfd0>, '2140': <gensim.models.keyedvectors.Vocab object at 0x7eff1ccec310>, 'six beers': <gensim.models.keyedvectors.Vocab object at 0x7eff1ccec090>, 'over a year': <gensim.models.keyedvectors.Vocab object at 0x7eff1ccec9d0>, 'ten years ago': <gensim.models.keyedvectors.Vocab object at 0x7eff1ccece50>, '3992': <gensim.models.keyedvectors.Vocab object at 0x7eff1ccec6d0>, 'decades ago': <gensim.models.keyedvectors.Vocab object at 0x7eff1cceccd0>, 'many decades ago': <gensim.models.keyedvectors.Vocab object at 0x7eff1ccec290>, 'four years': <gensim.models.keyedvectors.Vocab object at 0x7eff1ccec710>, '10-19': <gensim.models.keyedvectors.Vocab object at 0x7eff1ccec210>, '91320': <gensim.models.keyedvectors.Vocab object at 0x7eff1ccec4d0>, 'first': <gensim.models.keyedvectors.Vocab object at 0x7eff1ccec510>, 'Poland': <gensim.models.keyedvectors.Vocab object at 0x7eff1ccecb90>, '2162': <gensim.models.keyedvectors.Vocab object at 0x7eff1ccec0d0>, 'Drinks 12': <gensim.models.keyedvectors.Vocab object at 0x7eff1ccece90>, 'years ago': <gensim.models.keyedvectors.Vocab object at 0x7eff1ccec590>, '3-5': <gensim.models.keyedvectors.Vocab object at 0x7eff1ccec050>, '~1 week ago': <gensim.models.keyedvectors.Vocab object at 0x7eff1ccec390>, '2176-1-10': <gensim.models.keyedvectors.Vocab object at 0x7eff1ccecd50>, 'VNA': <gensim.models.keyedvectors.Vocab object at 0x7eff1ccec490>, 'the past 3weeks': <gensim.models.keyedvectors.Vocab object at 0x7eff1ccecb50>, '1403': <gensim.models.keyedvectors.Vocab object at 0x7eff1ccec690>, '404': <gensim.models.keyedvectors.Vocab object at 0x7eff1ccecc10>, '958': <gensim.models.keyedvectors.Vocab object at 0x7eff1ccec190>, '20 yrs ago': <gensim.models.keyedvectors.Vocab object at 0x7eff1ccd0ad0>, 'one week': <gensim.models.keyedvectors.Vocab object at 0x7eff1ccd06d0>, '-Tobacco': <gensim.models.keyedvectors.Vocab object at 0x7eff1ccd0750>, '9yr': <gensim.models.keyedvectors.Vocab object at 0x7eff1ccd0b50>, '4 yrs ago': <gensim.models.keyedvectors.Vocab object at 0x7eff1ccd0a10>, '30 pack year': <gensim.models.keyedvectors.Vocab object at 0x7eff1ccd0c50>, 'twenty pack year': <gensim.models.keyedvectors.Vocab object at 0x7eff1ccd0c10>, 'the past three years': <gensim.models.keyedvectors.Vocab object at 0x7eff1ccd0cd0>, '4': <gensim.models.keyedvectors.Vocab object at 0x7eff1ccd0110>, '30+ years': <gensim.models.keyedvectors.Vocab object at 0x7eff1ccd05d0>, '45 years ago': <gensim.models.keyedvectors.Vocab object at 0x7eff1ccd0ed0>, 'CABG': <gensim.models.keyedvectors.Vocab object at 0x7eff1ccd0d90>, 'EtOH > 16 years': <gensim.models.keyedvectors.Vocab object at 0x7eff1ccd0dd0>, 'smokes marijuana regularly': <gensim.models.keyedvectors.Vocab object at 0x7eff1ccd0d10>, '31653': <gensim.models.keyedvectors.Vocab object at 0x7eff1cd28350>, '45': <gensim.models.keyedvectors.Vocab object at 0x7eff1cd28a10>, '669': <gensim.models.keyedvectors.Vocab object at 0x7eff1cd285d0>, '2135': <gensim.models.keyedvectors.Vocab object at 0x7eff1cd28e90>, '2100**]-93': <gensim.models.keyedvectors.Vocab object at 0x7eff1cd28b10>, '2114**]-walks': <gensim.models.keyedvectors.Vocab object at 0x7eff1cd28d90>, 'approximately 7': <gensim.models.keyedvectors.Vocab object at 0x7eff1cd28b90>, 'about 30 years': <gensim.models.keyedvectors.Vocab object at 0x7eff1cd28e50>, 'less than one': <gensim.models.keyedvectors.Vocab object at 0x7eff1cd28c50>, 'Four to five': <gensim.models.keyedvectors.Vocab object at 0x7eff1cd28090>, 'EtOH x years': <gensim.models.keyedvectors.Vocab object at 0x7eff1cd28d10>, '39 years': <gensim.models.keyedvectors.Vocab object at 0x7eff1cd28410>, 'x5 years': <gensim.models.keyedvectors.Vocab object at 0x7eff1cd289d0>, 'past 2 years': <gensim.models.keyedvectors.Vocab object at 0x7eff1f0254d0>, '4 weeks ago': <gensim.models.keyedvectors.Vocab object at 0x7eff1ccccc90>, 'nine years ago': <gensim.models.keyedvectors.Vocab object at 0x7eff1ccccc10>, '2 days ago': <gensim.models.keyedvectors.Vocab object at 0x7eff1ccccd50>, 'VA': <gensim.models.keyedvectors.Vocab object at 0x7eff1cccc290>, '20 years ago': <gensim.models.keyedvectors.Vocab object at 0x7eff1cccc110>, '2-3pk': <gensim.models.keyedvectors.Vocab object at 0x7eff1cccc310>, '5 yrs ago': <gensim.models.keyedvectors.Vocab object at 0x7eff1cccc890>, 'weekends': <gensim.models.keyedvectors.Vocab object at 0x7eff1ccccb50>, '2 weeks': <gensim.models.keyedvectors.Vocab object at 0x7eff1cccc050>, 'several years ago': <gensim.models.keyedvectors.Vocab object at 0x7eff1cccc690>, '1474': <gensim.models.keyedvectors.Vocab object at 0x7eff1cccce90>, '2 yrs ago': <gensim.models.keyedvectors.Vocab object at 0x7eff1cccca10>, 'OMR': <gensim.models.keyedvectors.Vocab object at 0x7eff1ccccdd0>, '12 years - ETOH': <gensim.models.keyedvectors.Vocab object at 0x7eff1cccc6d0>, '6.5 years': <gensim.models.keyedvectors.Vocab object at 0x7eff1cccc7d0>, 'Titles': <gensim.models.keyedvectors.Vocab object at 0x7eff1cccc8d0>, '767': <gensim.models.keyedvectors.Vocab object at 0x7eff1ccccb90>, 'University/College *': <gensim.models.keyedvectors.Vocab object at 0x7eff1ccccd90>, '-ETOH': <gensim.models.keyedvectors.Vocab object at 0x7eff1cd5a6d0>, 'approximately 2': <gensim.models.keyedvectors.Vocab object at 0x7eff1cd5a410>, '40 years': <gensim.models.keyedvectors.Vocab object at 0x7eff1cd5a450>, '116': <gensim.models.keyedvectors.Vocab object at 0x7eff1cd5a990>, 'this year': <gensim.models.keyedvectors.Vocab object at 0x7eff1cd5a2d0>, '50': <gensim.models.keyedvectors.Vocab object at 0x7eff1cd5ad90>, '5': <gensim.models.keyedvectors.Vocab object at 0x7eff1cd5a090>, '35': <gensim.models.keyedvectors.Vocab object at 0x7eff1cd5a490>, '11': <gensim.models.keyedvectors.Vocab object at 0x7eff1cd5a550>, 'sunday': <gensim.models.keyedvectors.Vocab object at 0x7eff1cd5a7d0>, '2188': <gensim.models.keyedvectors.Vocab object at 0x7eff1cd5aad0>, '44': <gensim.models.keyedvectors.Vocab object at 0x7eff1cd5a290>, '14 years ago': <gensim.models.keyedvectors.Vocab object at 0x7eff1cd5aa10>, '1-30': <gensim.models.keyedvectors.Vocab object at 0x7eff1cd5a9d0>, 'fifth': <gensim.models.keyedvectors.Vocab object at 0x7eff1cd5abd0>, '2 years': <gensim.models.keyedvectors.Vocab object at 0x7eff1cd5a690>, 'Tob - 40': <gensim.models.keyedvectors.Vocab object at 0x7eff1cd5aa50>, '2088': <gensim.models.keyedvectors.Vocab object at 0x7eff1cd5a650>, 'approximately one year ago': <gensim.models.keyedvectors.Vocab object at 0x7eff1cd5ae10>, '2077': <gensim.models.keyedvectors.Vocab object at 0x7eff1cd5a350>, '1pk': <gensim.models.keyedvectors.Vocab object at 0x7eff1cd5a510>, '2186': <gensim.models.keyedvectors.Vocab object at 0x7eff1cce1850>, '20s': <gensim.models.keyedvectors.Vocab object at 0x7eff1cce1b10>, '1186': <gensim.models.keyedvectors.Vocab object at 0x7eff1cce1a10>, '13': <gensim.models.keyedvectors.Vocab object at 0x7eff1cce1d90>, '2061': <gensim.models.keyedvectors.Vocab object at 0x7eff1cce1d10>, '116**]/[**2136': <gensim.models.keyedvectors.Vocab object at 0x7eff1cce1a50>, '30 years ago': <gensim.models.keyedvectors.Vocab object at 0x7eff1cce1c90>, '34': <gensim.models.keyedvectors.Vocab object at 0x7eff1cce1ad0>, '36pack-years': <gensim.models.keyedvectors.Vocab object at 0x7eff1cce1a90>, '1139': <gensim.models.keyedvectors.Vocab object at 0x7eff1cce1990>, 'each night': <gensim.models.keyedvectors.Vocab object at 0x7eff1cce1950>, 'every 3 days': <gensim.models.keyedvectors.Vocab object at 0x7eff1cce1e90>, '20+ years ago': <gensim.models.keyedvectors.Vocab object at 0x7eff1cce1710>, 'past year': <gensim.models.keyedvectors.Vocab object at 0x7eff1cce1910>, '2-3 years': <gensim.models.keyedvectors.Vocab object at 0x7eff1cce1c10>, '2117': <gensim.models.keyedvectors.Vocab object at 0x7eff1cce1890>, 'Redcab': <gensim.models.keyedvectors.Vocab object at 0x7eff1cce1f90>, '2-20': <gensim.models.keyedvectors.Vocab object at 0x7eff1cce18d0>, '40 days': <gensim.models.keyedvectors.Vocab object at 0x7eff1cce19d0>, 'Crack Cocaine': <gensim.models.keyedvectors.Vocab object at 0x7eff1cce1bd0>, '60': <gensim.models.keyedvectors.Vocab object at 0x7eff1cce1c50>, '2151': <gensim.models.keyedvectors.Vocab object at 0x7eff1cce1810>, 'approximately seven years ago': <gensim.models.keyedvectors.Vocab object at 0x7eff1cce1ed0>, '2-28': <gensim.models.keyedvectors.Vocab object at 0x7eff1cce1b90>, 'roughly 30': <gensim.models.keyedvectors.Vocab object at 0x7eff1cce1f10>, 'Occ ETOH': <gensim.models.keyedvectors.Vocab object at 0x7eff1cce1790>, 'many years ago': <gensim.models.keyedvectors.Vocab object at 0x7eff1cce1750>, '60+': <gensim.models.keyedvectors.Vocab object at 0x7eff1cce1e50>, '4 beers': <gensim.models.keyedvectors.Vocab object at 0x7eff1cce1f50>, 'every 2 days': <gensim.models.keyedvectors.Vocab object at 0x7eff1cce16d0>, '6-12': <gensim.models.keyedvectors.Vocab object at 0x7eff1cce1690>, '2855': <gensim.models.keyedvectors.Vocab object at 0x7eff1cce1d50>, '511': <gensim.models.keyedvectors.Vocab object at 0x7eff1cce17d0>, 'q2 weeks': <gensim.models.keyedvectors.Vocab object at 0x7eff1cce1fd0>, '2174': <gensim.models.keyedvectors.Vocab object at 0x7eff1cce1dd0>, '2182': <gensim.models.keyedvectors.Vocab object at 0x7eff1cce1e10>, '4th': <gensim.models.keyedvectors.Vocab object at 0x7eff1cce1cd0>, '56920': <gensim.models.keyedvectors.Vocab object at 0x7eff1cce0650>, 'None - Alcohol': <gensim.models.keyedvectors.Vocab object at 0x7eff1cce0690>, '7 years': <gensim.models.keyedvectors.Vocab object at 0x7eff1cce0710>, '2165': <gensim.models.keyedvectors.Vocab object at 0x7eff1cce0290>, '9 Liters': <gensim.models.keyedvectors.Vocab object at 0x7eff1cce0c50>, 'last week': <gensim.models.keyedvectors.Vocab object at 0x7eff1cce0050>, 'English': <gensim.models.keyedvectors.Vocab object at 0x7eff1cce0890>, 'twenty years': <gensim.models.keyedvectors.Vocab object at 0x7eff1cce0750>, 'early 20s': <gensim.models.keyedvectors.Vocab object at 0x7eff1cce0790>, 'several years': <gensim.models.keyedvectors.Vocab object at 0x7eff1cce0590>, '2189-11-29': <gensim.models.keyedvectors.Vocab object at 0x7eff1cce0ed0>, '2189': <gensim.models.keyedvectors.Vocab object at 0x7eff1cce0410>, 'up to a fifth': <gensim.models.keyedvectors.Vocab object at 0x7eff1cce0390>, '2105': <gensim.models.keyedvectors.Vocab object at 0x7eff1cce0b90>, 'approx': <gensim.models.keyedvectors.Vocab object at 0x7eff1cce0510>, '30 years -Illicit': <gensim.models.keyedvectors.Vocab object at 0x7eff1cce0990>, '32 years': <gensim.models.keyedvectors.Vocab object at 0x7eff1cce0850>, '50 years ago': <gensim.models.keyedvectors.Vocab object at 0x7eff1cce0dd0>, '20-30 years ago': <gensim.models.keyedvectors.Vocab object at 0x7eff1cce0350>, 'x30 years': <gensim.models.keyedvectors.Vocab object at 0x7eff1cce0bd0>, 'Marijuana': <gensim.models.keyedvectors.Vocab object at 0x7eff1cce0b50>, 'the past 40 years': <gensim.models.keyedvectors.Vocab object at 0x7eff1cce0950>, '1 1/2': <gensim.models.keyedvectors.Vocab object at 0x7eff1cce0cd0>, 'two days': <gensim.models.keyedvectors.Vocab object at 0x7eff1cce0190>, '> 20 years': <gensim.models.keyedvectors.Vocab object at 0x7eff1cce0b10>, '22 years': <gensim.models.keyedvectors.Vocab object at 0x7eff1cce0d90>, '13 years': <gensim.models.keyedvectors.Vocab object at 0x7eff1cce0a50>, '2082': <gensim.models.keyedvectors.Vocab object at 0x7eff1cce0610>, '-Illicit': <gensim.models.keyedvectors.Vocab object at 0x7eff1cce0a90>, 'a day': <gensim.models.keyedvectors.Vocab object at 0x7eff1cce0d50>, '3 years ago': <gensim.models.keyedvectors.Vocab object at 0x7eff1ccec410>, '2 days': <gensim.models.keyedvectors.Vocab object at 0x7eff1ccecf90>, '12-23': <gensim.models.keyedvectors.Vocab object at 0x7eff1ccecc90>, '4 days ago': <gensim.models.keyedvectors.Vocab object at 0x7eff1ccece10>, '4-5': <gensim.models.keyedvectors.Vocab object at 0x7eff1ccec790>, 'the last year': <gensim.models.keyedvectors.Vocab object at 0x7eff1ccec610>, '6 months ago': <gensim.models.keyedvectors.Vocab object at 0x7eff1ccec150>, 'Laid': <gensim.models.keyedvectors.Vocab object at 0x7eff1ccecf10>, 'year': <gensim.models.keyedvectors.Vocab object at 0x7eff1ccec8d0>, 'this past week': <gensim.models.keyedvectors.Vocab object at 0x7eff1ccec5d0>, 'approximately 10 years ago': <gensim.models.keyedvectors.Vocab object at 0x7eff1ccecb10>, 'at least one': <gensim.models.keyedvectors.Vocab object at 0x7eff1ccec550>, 'the day': <gensim.models.keyedvectors.Vocab object at 0x7eff1ccec250>, '2103': <gensim.models.keyedvectors.Vocab object at 0x7eff1ccec2d0>, '15yrs': <gensim.models.keyedvectors.Vocab object at 0x7eff1ccec890>, '28447': <gensim.models.keyedvectors.Vocab object at 0x7eff1ccecd10>, '30 yrs ago': <gensim.models.keyedvectors.Vocab object at 0x7eff1ccecbd0>, '1pd': <gensim.models.keyedvectors.Vocab object at 0x7eff1ccecad0>, '10': <gensim.models.keyedvectors.Vocab object at 0x7eff1ccecdd0>, '2108': <gensim.models.keyedvectors.Vocab object at 0x7eff1ccec1d0>, 'GE': <gensim.models.keyedvectors.Vocab object at 0x7eff1ccec7d0>, '2098': <gensim.models.keyedvectors.Vocab object at 0x7eff1ccec350>, 'about 17 years': <gensim.models.keyedvectors.Vocab object at 0x7eff1ccec850>, 'age 29': <gensim.models.keyedvectors.Vocab object at 0x7eff1ccecd90>, '2175': <gensim.models.keyedvectors.Vocab object at 0x7eff1ccecf50>, '4 years - Former': <gensim.models.keyedvectors.Vocab object at 0x7eff1cceca10>, 'the Air Force  Occupation:': <gensim.models.keyedvectors.Vocab object at 0x7eff1ccec910>, '1ppd x20 years': <gensim.models.keyedvectors.Vocab object at 0x7eff1ccec110>, '100054': <gensim.models.keyedvectors.Vocab object at 0x7eff1ccec3d0>, '27': <gensim.models.keyedvectors.Vocab object at 0x7eff1ccec990>, '20 pack years': <gensim.models.keyedvectors.Vocab object at 0x7eff1ccec450>, '24hrs': <gensim.models.keyedvectors.Vocab object at 0x7eff1cceca50>, 'O2': <gensim.models.keyedvectors.Vocab object at 0x7eff1ccec810>, '91-95%': <gensim.models.keyedvectors.Vocab object at 0x7eff1cceca90>, 'CPAP': <gensim.models.keyedvectors.Vocab object at 0x7eff1ccec650>, 'overnight': <gensim.models.keyedvectors.Vocab object at 0x7eff1cceced0>, 'approximately 10': <gensim.models.keyedvectors.Vocab object at 0x7eff1ccec950>, 'approximately three years ago': <gensim.models.keyedvectors.Vocab object at 0x7eff1cc8b6d0>, 'Quit alcohol': <gensim.models.keyedvectors.Vocab object at 0x7eff1cc8b550>, '24 years ago': <gensim.models.keyedvectors.Vocab object at 0x7eff1cc8b490>, 'last year': <gensim.models.keyedvectors.Vocab object at 0x7eff1cc8bd10>, 'Occupation': <gensim.models.keyedvectors.Vocab object at 0x7eff1cc8b190>, '1-28': <gensim.models.keyedvectors.Vocab object at 0x7eff1cc8b150>, '24537': <gensim.models.keyedvectors.Vocab object at 0x7eff1cc8b710>, '29 years': <gensim.models.keyedvectors.Vocab object at 0x7eff1cc8b9d0>, 'about ten years ago': <gensim.models.keyedvectors.Vocab object at 0x7eff1cc8bed0>, '745': <gensim.models.keyedvectors.Vocab object at 0x7eff1cc8b8d0>, '7 1/2 years': <gensim.models.keyedvectors.Vocab object at 0x7eff1cc8bdd0>, '13 years ago': <gensim.models.keyedvectors.Vocab object at 0x7eff1cc8bb50>, 'ten pack year': <gensim.models.keyedvectors.Vocab object at 0x7eff1cc8b450>, '2091': <gensim.models.keyedvectors.Vocab object at 0x7eff1cc8be90>, 'teenage years': <gensim.models.keyedvectors.Vocab object at 0x7eff1cc8b110>, '2.5 PPD x': <gensim.models.keyedvectors.Vocab object at 0x7eff1cc8b810>, '36 years': <gensim.models.keyedvectors.Vocab object at 0x7eff1cc8b3d0>, '2121': <gensim.models.keyedvectors.Vocab object at 0x7eff1cc8bf90>, 'OSH DC': <gensim.models.keyedvectors.Vocab object at 0x7eff1cc8bb10>, 'ivdu': <gensim.models.keyedvectors.Vocab object at 0x7eff1cc8b590>, '30PYH': <gensim.models.keyedvectors.Vocab object at 0x7eff1cc8b050>, 'past 15 years': <gensim.models.keyedvectors.Vocab object at 0x7eff1cc8bc90>, 'Grad': <gensim.models.keyedvectors.Vocab object at 0x7eff1cc8bcd0>, 'BC': <gensim.models.keyedvectors.Vocab object at 0x7eff1cc8b750>, 'Brown': <gensim.models.keyedvectors.Vocab object at 0x7eff1cc8b650>, '2130': <gensim.models.keyedvectors.Vocab object at 0x7eff1cc8b7d0>, '12 years ago': <gensim.models.keyedvectors.Vocab object at 0x7eff1cc8bc10>, '2 drinks/ week': <gensim.models.keyedvectors.Vocab object at 0x7eff1cc8b310>, '1-23': <gensim.models.keyedvectors.Vocab object at 0x7eff1cc8ba50>, '+THC': <gensim.models.keyedvectors.Vocab object at 0x7eff1cc8b1d0>, 'the past few months': <gensim.models.keyedvectors.Vocab object at 0x7eff1cc8bf50>, '5 years': <gensim.models.keyedvectors.Vocab object at 0x7eff1cc8be10>, 'last 3 years ago': <gensim.models.keyedvectors.Vocab object at 0x7eff1cc8bf10>, '25 yres ago': <gensim.models.keyedvectors.Vocab object at 0x7eff1cc8b850>, '3307': <gensim.models.keyedvectors.Vocab object at 0x7eff1cc8b4d0>, '08': <gensim.models.keyedvectors.Vocab object at 0x7eff1cc8bad0>, 'about 10 years': <gensim.models.keyedvectors.Vocab object at 0x7eff1cc8b210>, 'Month/Day': <gensim.models.keyedvectors.Vocab object at 0x7eff1cc8bc50>, '17963': <gensim.models.keyedvectors.Vocab object at 0x7eff1cc8b510>, '60y': <gensim.models.keyedvectors.Vocab object at 0x7eff1cc8b090>, '>50y ago': <gensim.models.keyedvectors.Vocab object at 0x7eff1cc8b950>, '59': <gensim.models.keyedvectors.Vocab object at 0x7eff1cc8bb90>, 'approximately 1': <gensim.models.keyedvectors.Vocab object at 0x7eff1cc8b990>, 'two years ago': <gensim.models.keyedvectors.Vocab object at 0x7eff1cc8b5d0>, '3wks ago': <gensim.models.keyedvectors.Vocab object at 0x7eff1cc8b910>, '15y ago': <gensim.models.keyedvectors.Vocab object at 0x7eff1cc8bd90>, '8yr ago': <gensim.models.keyedvectors.Vocab object at 0x7eff1cc8ba10>, '2132': <gensim.models.keyedvectors.Vocab object at 0x7eff1cc8bd50>, '1pack/week': <gensim.models.keyedvectors.Vocab object at 0x7eff1cc8b250>, 'about two months': <gensim.models.keyedvectors.Vocab object at 0x7eff1cc8b890>, '37 years': <gensim.models.keyedvectors.Vocab object at 0x7eff1cc8b390>, 'TN': <gensim.models.keyedvectors.Vocab object at 0x7eff1cc8b290>, 'about 30': <gensim.models.keyedvectors.Vocab object at 0x7eff1cc8b350>, '2055': <gensim.models.keyedvectors.Vocab object at 0x7eff1cc8bfd0>, '2149': <gensim.models.keyedvectors.Vocab object at 0x7eff1cc8b2d0>, 'NO Drug': <gensim.models.keyedvectors.Vocab object at 0x7eff1cc8b690>, 'Tob': <gensim.models.keyedvectors.Vocab object at 0x7eff1cc8be50>, '30+': <gensim.models.keyedvectors.Vocab object at 0x7eff1cc8ba90>, '6 years': <gensim.models.keyedvectors.Vocab object at 0x7eff1cc8b0d0>, 'CVS': <gensim.models.keyedvectors.Vocab object at 0x7eff1cc8b790>, '547': <gensim.models.keyedvectors.Vocab object at 0x7eff1cc8b610>, 'up to 1': <gensim.models.keyedvectors.Vocab object at 0x7eff1cc8bbd0>, 'two in a night': <gensim.models.keyedvectors.Vocab object at 0x7eff1ccfbe90>, '26 year old': <gensim.models.keyedvectors.Vocab object at 0x7eff1ccfb690>, '10 year old': <gensim.models.keyedvectors.Vocab object at 0x7eff1ccfbd50>, '23 year old': <gensim.models.keyedvectors.Vocab object at 0x7eff1ccfb110>, '17 year old': <gensim.models.keyedvectors.Vocab object at 0x7eff1ccfb9d0>, '2 years ago': <gensim.models.keyedvectors.Vocab object at 0x7eff1ccfba10>, 'ETOH w/drawal': <gensim.models.keyedvectors.Vocab object at 0x7eff1ccfb350>, '> 30 years': <gensim.models.keyedvectors.Vocab object at 0x7eff1ccfb250>, '86': <gensim.models.keyedvectors.Vocab object at 0x7eff1ccfb090>, 'a few years ago': <gensim.models.keyedvectors.Vocab object at 0x7eff1ccfb7d0>, '2115': <gensim.models.keyedvectors.Vocab object at 0x7eff1ccfbc50>, '2102': <gensim.models.keyedvectors.Vocab object at 0x7eff1ccfb890>, '2.5ppd x 40 years': <gensim.models.keyedvectors.Vocab object at 0x7eff1ccfb650>, '1drink/6 months': <gensim.models.keyedvectors.Vocab object at 0x7eff1ccfb490>, 'RN': <gensim.models.keyedvectors.Vocab object at 0x7eff1ccfb8d0>, '40+': <gensim.models.keyedvectors.Vocab object at 0x7eff1ccfbdd0>, 'the last few 3-4 days': <gensim.models.keyedvectors.Vocab object at 0x7eff1ccfb190>, 'the prior 10 months': <gensim.models.keyedvectors.Vocab object at 0x7eff1ccfb850>, 'one year ago': <gensim.models.keyedvectors.Vocab object at 0x7eff1ccfbf10>, '16662': <gensim.models.keyedvectors.Vocab object at 0x7eff1ccfb910>, 'ED': <gensim.models.keyedvectors.Vocab object at 0x7eff1ccfb2d0>, '1PPD': <gensim.models.keyedvectors.Vocab object at 0x7eff1ccfb510>, 'about half a gallon': <gensim.models.keyedvectors.Vocab object at 0x7eff1ccfb450>, '35 years + ETOH': <gensim.models.keyedvectors.Vocab object at 0x7eff1ccfbb90>, '1ppd for ~20 years': <gensim.models.keyedvectors.Vocab object at 0x7eff1ccfbcd0>, 'over 10 years': <gensim.models.keyedvectors.Vocab object at 0x7eff1ccfb1d0>, '2116': <gensim.models.keyedvectors.Vocab object at 0x7eff1ccfb550>, 'half': <gensim.models.keyedvectors.Vocab object at 0x7eff1ccfb0d0>, 'the last 20 years': <gensim.models.keyedvectors.Vocab object at 0x7eff1ccfb4d0>, 'age 13': <gensim.models.keyedvectors.Vocab object at 0x7eff1ccfb410>, 'the last 30 years': <gensim.models.keyedvectors.Vocab object at 0x7eff1ccfb150>, '1 PPD x': <gensim.models.keyedvectors.Vocab object at 0x7eff1ccfba90>, '8 months': <gensim.models.keyedvectors.Vocab object at 0x7eff1ccfb790>, '4 months ago': <gensim.models.keyedvectors.Vocab object at 0x7eff1ccfbc10>, '1pack per week': <gensim.models.keyedvectors.Vocab object at 0x7eff1ccfbf50>, '17 years ago': <gensim.models.keyedvectors.Vocab object at 0x7eff1ccfb290>, '2119': <gensim.models.keyedvectors.Vocab object at 0x7eff1ccfbad0>, 'CVA': <gensim.models.keyedvectors.Vocab object at 0x7eff1ccfb3d0>, 'past 10 years': <gensim.models.keyedvectors.Vocab object at 0x7eff1ccfbe10>, 'a thirty pack year': <gensim.models.keyedvectors.Vocab object at 0x7eff1ccfb310>, 'almost 30 yaers ago': <gensim.models.keyedvectors.Vocab object at 0x7eff1ccfbd10>, '6 tattoos': <gensim.models.keyedvectors.Vocab object at 0x7eff1ccfbed0>, '359': <gensim.models.keyedvectors.Vocab object at 0x7eff1ccfb710>, '1 week ago': <gensim.models.keyedvectors.Vocab object at 0x7eff1ccfbb50>, 'about three years': <gensim.models.keyedvectors.Vocab object at 0x7eff1ccfb6d0>, '35 years 3 drinks/ week': <gensim.models.keyedvectors.Vocab object at 0x7eff1ccfbfd0>, '2x week': <gensim.models.keyedvectors.Vocab object at 0x7eff1ccfbb10>, '233': <gensim.models.keyedvectors.Vocab object at 0x7eff1ccfb610>, 'last 6 months': <gensim.models.keyedvectors.Vocab object at 0x7eff1ccfb810>, 'one month ago': <gensim.models.keyedvectors.Vocab object at 0x7eff1ccfb390>, '1-17': <gensim.models.keyedvectors.Vocab object at 0x7eff1ccfb590>, '69987': <gensim.models.keyedvectors.Vocab object at 0x7eff1ccfb050>, '2153': <gensim.models.keyedvectors.Vocab object at 0x7eff1ccfb5d0>, '4 day': <gensim.models.keyedvectors.Vocab object at 0x7eff1ccfba50>, 'ER': <gensim.models.keyedvectors.Vocab object at 0x7eff1ccfb990>, '97-99': <gensim.models.keyedvectors.Vocab object at 0x7eff1ccfb210>, 'Drinks 5': <gensim.models.keyedvectors.Vocab object at 0x7eff1ccfb950>, 'nearly daily': <gensim.models.keyedvectors.Vocab object at 0x7eff1ccfb750>, 'Denies Tobacco': <gensim.models.keyedvectors.Vocab object at 0x7eff1ccfbe50>, 'DO': <gensim.models.keyedvectors.Vocab object at 0x7eff1ccfbc90>, 'marijuana no': <gensim.models.keyedvectors.Vocab object at 0x7eff1ccfbbd0>, 'Drinks ETOH': <gensim.models.keyedvectors.Vocab object at 0x7eff1ccfbd90>, '30+ yrs ago': <gensim.models.keyedvectors.Vocab object at 0x7eff1ccef050>, '7 years ago -Illicit': <gensim.models.keyedvectors.Vocab object at 0x7eff1ccef090>, 'greater than 12 ounces': <gensim.models.keyedvectors.Vocab object at 0x7eff1ccef0d0>, '1 yar ago': <gensim.models.keyedvectors.Vocab object at 0x7eff1ccef110>, 'Marijuana Tobacco': <gensim.models.keyedvectors.Vocab object at 0x7eff1ccef150>, 'Alcoholism': <gensim.models.keyedvectors.Vocab object at 0x7eff1ccef190>, 'over 30': <gensim.models.keyedvectors.Vocab object at 0x7eff1ccef1d0>, '400': <gensim.models.keyedvectors.Vocab object at 0x7eff1ccef210>, '2148': <gensim.models.keyedvectors.Vocab object at 0x7eff1ccef250>, '449': <gensim.models.keyedvectors.Vocab object at 0x7eff1ccef290>, '7349': <gensim.models.keyedvectors.Vocab object at 0x7eff1ccef2d0>, 'up to two': <gensim.models.keyedvectors.Vocab object at 0x7eff1ccef310>, 'Chantix': <gensim.models.keyedvectors.Vocab object at 0x7eff1ccef350>, 'about six weeks ago': <gensim.models.keyedvectors.Vocab object at 0x7eff1ccef390>, '17': <gensim.models.keyedvectors.Vocab object at 0x7eff1ccef3d0>, '100+': <gensim.models.keyedvectors.Vocab object at 0x7eff1ccef410>, '8 year ago': <gensim.models.keyedvectors.Vocab object at 0x7eff1ccef450>, 'Immunizations UTD': <gensim.models.keyedvectors.Vocab object at 0x7eff1ccef490>, '2436': <gensim.models.keyedvectors.Vocab object at 0x7eff1ccef4d0>, 'most nights': <gensim.models.keyedvectors.Vocab object at 0x7eff1ccef510>, 'Neuro': <gensim.models.keyedvectors.Vocab object at 0x7eff1ccef550>, '24+': <gensim.models.keyedvectors.Vocab object at 0x7eff1ccef590>, '1/2ppd': <gensim.models.keyedvectors.Vocab object at 0x7eff1ccef5d0>, '2071': <gensim.models.keyedvectors.Vocab object at 0x7eff1ccef610>, 'last 6 wks': <gensim.models.keyedvectors.Vocab object at 0x7eff1ccef650>, '944': <gensim.models.keyedvectors.Vocab object at 0x7eff1ccef690>, '3-17': <gensim.models.keyedvectors.Vocab object at 0x7eff1ccef6d0>, '1/3ppd': <gensim.models.keyedvectors.Vocab object at 0x7eff1ccef710>, 'approximately 1-2': <gensim.models.keyedvectors.Vocab object at 0x7eff1ccef750>, '1ppd x 20yrs': <gensim.models.keyedvectors.Vocab object at 0x7eff1ccef790>, 'six years ago': <gensim.models.keyedvectors.Vocab object at 0x7eff1ccef7d0>, '2085': <gensim.models.keyedvectors.Vocab object at 0x7eff1ccef810>, '] years ago': <gensim.models.keyedvectors.Vocab object at 0x7eff1ccef850>, '26692': <gensim.models.keyedvectors.Vocab object at 0x7eff1ccef890>, '3914': <gensim.models.keyedvectors.Vocab object at 0x7eff1ccef8d0>, '20-25 years': <gensim.models.keyedvectors.Vocab object at 0x7eff1ccef910>, 'twenty-five years ago': <gensim.models.keyedvectors.Vocab object at 0x7eff1ccef950>, '2PPD x 30 years': <gensim.models.keyedvectors.Vocab object at 0x7eff1ccef990>, 'last 3 years': <gensim.models.keyedvectors.Vocab object at 0x7eff1ccef9d0>, '-Is': <gensim.models.keyedvectors.Vocab object at 0x7eff1ccefa10>, 'PD': <gensim.models.keyedvectors.Vocab object at 0x7eff1ccefa50>, '2114': <gensim.models.keyedvectors.Vocab object at 0x7eff1ccefa90>, '1-2 years ago': <gensim.models.keyedvectors.Vocab object at 0x7eff1ccefad0>, 'beer daily': <gensim.models.keyedvectors.Vocab object at 0x7eff1ccefb10>, '] year ago': <gensim.models.keyedvectors.Vocab object at 0x7eff1ccefb50>, '3-6mo': <gensim.models.keyedvectors.Vocab object at 0x7eff1ccefb90>, '12-5**]/month': <gensim.models.keyedvectors.Vocab object at 0x7eff1ccefbd0>, 'approximately 3': <gensim.models.keyedvectors.Vocab object at 0x7eff1ccefc10>, 'five years': <gensim.models.keyedvectors.Vocab object at 0x7eff1ccefc50>, '350': <gensim.models.keyedvectors.Vocab object at 0x7eff1ccefc90>, '108': <gensim.models.keyedvectors.Vocab object at 0x7eff1ccefcd0>, 'the year': <gensim.models.keyedvectors.Vocab object at 0x7eff1ccefd10>, 'the weekend': <gensim.models.keyedvectors.Vocab object at 0x7eff1ccefd50>, '0': <gensim.models.keyedvectors.Vocab object at 0x7eff1ccefd90>, '/week': <gensim.models.keyedvectors.Vocab object at 0x7eff1ccefdd0>, 'ETOH use - 1': <gensim.models.keyedvectors.Vocab object at 0x7eff1ccefe10>, '1356': <gensim.models.keyedvectors.Vocab object at 0x7eff1ccefe50>, '69': <gensim.models.keyedvectors.Vocab object at 0x7eff1ccefe90>, '3 yrs ago': <gensim.models.keyedvectors.Vocab object at 0x7eff1ccefed0>, 'several months': <gensim.models.keyedvectors.Vocab object at 0x7eff1cceff10>, '2137': <gensim.models.keyedvectors.Vocab object at 0x7eff1cceff50>, '2169-3-14': <gensim.models.keyedvectors.Vocab object at 0x7eff1cceff90>, '12 pk year': <gensim.models.keyedvectors.Vocab object at 0x7eff1cceffd0>, '160': <gensim.models.keyedvectors.Vocab object at 0x7eff1ccf8050>, '2173': <gensim.models.keyedvectors.Vocab object at 0x7eff1ccf8090>, '80': <gensim.models.keyedvectors.Vocab object at 0x7eff1ccf80d0>, '9 years': <gensim.models.keyedvectors.Vocab object at 0x7eff1ccf8110>, '2183': <gensim.models.keyedvectors.Vocab object at 0x7eff1ccf8150>, '3-4 days': <gensim.models.keyedvectors.Vocab object at 0x7eff1ccf8190>, '10-11 months ago': <gensim.models.keyedvectors.Vocab object at 0x7eff1ccf81d0>, '] months ago': <gensim.models.keyedvectors.Vocab object at 0x7eff1ccf8210>, 'Last marijuana': <gensim.models.keyedvectors.Vocab object at 0x7eff1ccf8250>, 'three to four days ago': <gensim.models.keyedvectors.Vocab object at 0x7eff1ccf8290>, '2018': <gensim.models.keyedvectors.Vocab object at 0x7eff1ccf82d0>, '40%': <gensim.models.keyedvectors.Vocab object at 0x7eff1ccf8310>, '35%': <gensim.models.keyedvectors.Vocab object at 0x7eff1ccf8350>, 'every other day': <gensim.models.keyedvectors.Vocab object at 0x7eff1ccf8390>, '1-1.5 pints': <gensim.models.keyedvectors.Vocab object at 0x7eff1ccf83d0>, '6 pm': <gensim.models.keyedvectors.Vocab object at 0x7eff1ccf8410>, 'about 3': <gensim.models.keyedvectors.Vocab object at 0x7eff1ccf8450>, '36': <gensim.models.keyedvectors.Vocab object at 0x7eff1ccf8490>, '2.5 years ago': <gensim.models.keyedvectors.Vocab object at 0x7eff1ccf84d0>, 'RSD': <gensim.models.keyedvectors.Vocab object at 0x7eff1ccf8510>, 'the age of 82': <gensim.models.keyedvectors.Vocab object at 0x7eff1ccf8550>, 'Europe': <gensim.models.keyedvectors.Vocab object at 0x7eff1ccf8590>, '2070': <gensim.models.keyedvectors.Vocab object at 0x7eff1ccf85d0>, '24': <gensim.models.keyedvectors.Vocab object at 0x7eff1ccf8610>, '2124': <gensim.models.keyedvectors.Vocab object at 0x7eff1ccf8650>, '2147-10-2': <gensim.models.keyedvectors.Vocab object at 0x7eff1ccf8690>, 'less than 1/2ppd': <gensim.models.keyedvectors.Vocab object at 0x7eff1ccf86d0>, 'the age of 15': <gensim.models.keyedvectors.Vocab object at 0x7eff1ccf8710>, '2ppdX 40 years': <gensim.models.keyedvectors.Vocab object at 0x7eff1ccf8750>, 'DM': <gensim.models.keyedvectors.Vocab object at 0x7eff1ccf8790>, '10882': <gensim.models.keyedvectors.Vocab object at 0x7eff1ccf87d0>, '~1 month ago': <gensim.models.keyedvectors.Vocab object at 0x7eff1ccf8810>, '2 months': <gensim.models.keyedvectors.Vocab object at 0x7eff1ccf8850>, 'a year ago': <gensim.models.keyedvectors.Vocab object at 0x7eff1ccf8890>, '7th': <gensim.models.keyedvectors.Vocab object at 0x7eff1ccf88d0>, '2194': <gensim.models.keyedvectors.Vocab object at 0x7eff1ccf8910>, '17 months': <gensim.models.keyedvectors.Vocab object at 0x7eff1ccf8950>, '~4 days': <gensim.models.keyedvectors.Vocab object at 0x7eff1ccf8990>, '7-1/2': <gensim.models.keyedvectors.Vocab object at 0x7eff1ccf89d0>, '19 years ago': <gensim.models.keyedvectors.Vocab object at 0x7eff1ccf8a10>, '3-4': <gensim.models.keyedvectors.Vocab object at 0x7eff1ccf8a50>, 'UPS': <gensim.models.keyedvectors.Vocab object at 0x7eff1ccf8a90>, '22 year old': <gensim.models.keyedvectors.Vocab object at 0x7eff1ccf8ad0>, '2152-12-5*': <gensim.models.keyedvectors.Vocab object at 0x7eff1ccf8b10>, 'decades': <gensim.models.keyedvectors.Vocab object at 0x7eff1ccf8b50>, '2 Drinks': <gensim.models.keyedvectors.Vocab object at 0x7eff1ccf8b90>, '1 year': <gensim.models.keyedvectors.Vocab object at 0x7eff1ccf8bd0>, '1727': <gensim.models.keyedvectors.Vocab object at 0x7eff1ccf8c10>, '9yo': <gensim.models.keyedvectors.Vocab object at 0x7eff1ccf8c50>, '4565': <gensim.models.keyedvectors.Vocab object at 0x7eff1ccf8c90>, '149': <gensim.models.keyedvectors.Vocab object at 0x7eff1ccf8cd0>, 'more years ago': <gensim.models.keyedvectors.Vocab object at 0x7eff1ccf8d10>, '936': <gensim.models.keyedvectors.Vocab object at 0x7eff1ccf8d50>, '2158': <gensim.models.keyedvectors.Vocab object at 0x7eff1ccf8d90>, '3 years': <gensim.models.keyedvectors.Vocab object at 0x7eff1ccf8dd0>, 'the past \"few months': <gensim.models.keyedvectors.Vocab object at 0x7eff1ccf8e10>, 'the age of 9': <gensim.models.keyedvectors.Vocab object at 0x7eff1ccf8e50>, 'nearly 20 yrs': <gensim.models.keyedvectors.Vocab object at 0x7eff1ccf8e90>, '1773': <gensim.models.keyedvectors.Vocab object at 0x7eff1ccf8ed0>, 'HCP Smoking': <gensim.models.keyedvectors.Vocab object at 0x7eff1ccf8f10>, '> 20yrs ago': <gensim.models.keyedvectors.Vocab object at 0x7eff1ccf8f50>, '2137-12-26': <gensim.models.keyedvectors.Vocab object at 0x7eff1ccf8f90>, 'Hx ETOH': <gensim.models.keyedvectors.Vocab object at 0x7eff1ccf8fd0>, 'the past 14 years': <gensim.models.keyedvectors.Vocab object at 0x7eff1ccfa050>, 'the last 2 weeks': <gensim.models.keyedvectors.Vocab object at 0x7eff1ccfa090>, 'Works': <gensim.models.keyedvectors.Vocab object at 0x7eff1ccfa0d0>, 'CPA': <gensim.models.keyedvectors.Vocab object at 0x7eff1ccfa110>, '6 months': <gensim.models.keyedvectors.Vocab object at 0x7eff1ccfa150>, 'Vodka': <gensim.models.keyedvectors.Vocab object at 0x7eff1ccfa190>, 'gallon': <gensim.models.keyedvectors.Vocab object at 0x7eff1ccfa1d0>, '10 days -Illicit': <gensim.models.keyedvectors.Vocab object at 0x7eff1ccfa210>, '8-9 years ago': <gensim.models.keyedvectors.Vocab object at 0x7eff1ccfa250>, '5-6': <gensim.models.keyedvectors.Vocab object at 0x7eff1ccfa290>, 'about 4': <gensim.models.keyedvectors.Vocab object at 0x7eff1ccfa2d0>, 'marijuana 2-3 days ago': <gensim.models.keyedvectors.Vocab object at 0x7eff1ccfa310>, 'every few days': <gensim.models.keyedvectors.Vocab object at 0x7eff1ccfa350>, 'the last 10 years': <gensim.models.keyedvectors.Vocab object at 0x7eff1ccfa390>, 'about 20 years': <gensim.models.keyedvectors.Vocab object at 0x7eff1ccfa3d0>, 'the past year': <gensim.models.keyedvectors.Vocab object at 0x7eff1ccfa410>, 'x20': <gensim.models.keyedvectors.Vocab object at 0x7eff1ccfa450>, 'prior - EtOH - Illicit/Recreational': <gensim.models.keyedvectors.Vocab object at 0x7eff1ccfa490>, '45045': <gensim.models.keyedvectors.Vocab object at 0x7eff1ccfa4d0>, '3.5yrs': <gensim.models.keyedvectors.Vocab object at 0x7eff1ccfa510>, '1968': <gensim.models.keyedvectors.Vocab object at 0x7eff1ccfa550>, '102900': <gensim.models.keyedvectors.Vocab object at 0x7eff1ccfa590>, '102901': <gensim.models.keyedvectors.Vocab object at 0x7eff1ccfa5d0>, 'this years': <gensim.models.keyedvectors.Vocab object at 0x7eff1ccfa610>, '50-60': <gensim.models.keyedvectors.Vocab object at 0x7eff1ccfa650>, 'at least 10 years ago': <gensim.models.keyedvectors.Vocab object at 0x7eff1ccfa690>, 'Prior ETOH': <gensim.models.keyedvectors.Vocab object at 0x7eff1ccfa6d0>, 'USA': <gensim.models.keyedvectors.Vocab object at 0x7eff1ccfa710>, '7 years ago': <gensim.models.keyedvectors.Vocab object at 0x7eff1ccfa750>, 'IVDA Alcohol': <gensim.models.keyedvectors.Vocab object at 0x7eff1ccfa790>, '6~7': <gensim.models.keyedvectors.Vocab object at 0x7eff1ccfa7d0>, '4 year old': <gensim.models.keyedvectors.Vocab object at 0x7eff1ccfa810>, '2164': <gensim.models.keyedvectors.Vocab object at 0x7eff1ccfa850>, 'age 10 to 50 4': <gensim.models.keyedvectors.Vocab object at 0x7eff1ccfa890>, 'age 50 1 PPD': <gensim.models.keyedvectors.Vocab object at 0x7eff1ccfa8d0>, 'past 20 years': <gensim.models.keyedvectors.Vocab object at 0x7eff1ccfa910>, '1.5 months': <gensim.models.keyedvectors.Vocab object at 0x7eff1ccfa950>, 'sixty years': <gensim.models.keyedvectors.Vocab object at 0x7eff1ccfa990>, 'greater than 20 years ago': <gensim.models.keyedvectors.Vocab object at 0x7eff1ccfa9d0>, '6692': <gensim.models.keyedvectors.Vocab object at 0x7eff1ccfaa10>, '1 ppd x': <gensim.models.keyedvectors.Vocab object at 0x7eff1ccfaa50>, '2152': <gensim.models.keyedvectors.Vocab object at 0x7eff1ccfaa90>, 'most days': <gensim.models.keyedvectors.Vocab object at 0x7eff1ccfaad0>, '>30 years ago': <gensim.models.keyedvectors.Vocab object at 0x7eff1ccfab10>, '14 months ago': <gensim.models.keyedvectors.Vocab object at 0x7eff1ccfab50>, '120': <gensim.models.keyedvectors.Vocab object at 0x7eff1ccfab90>, 'Brookstone': <gensim.models.keyedvectors.Vocab object at 0x7eff1ccfabd0>, 'past few years': <gensim.models.keyedvectors.Vocab object at 0x7eff1ccfac10>, '8 years': <gensim.models.keyedvectors.Vocab object at 0x7eff1ccfac50>, 'a few months ago': <gensim.models.keyedvectors.Vocab object at 0x7eff1ccfac90>, '2.5': <gensim.models.keyedvectors.Vocab object at 0x7eff1ccfacd0>, '401': <gensim.models.keyedvectors.Vocab object at 0x7eff1ccfad10>, '8049': <gensim.models.keyedvectors.Vocab object at 0x7eff1ccfad50>, 'earlier this year': <gensim.models.keyedvectors.Vocab object at 0x7eff1ccfad90>, '55': <gensim.models.keyedvectors.Vocab object at 0x7eff1ccfadd0>, '60 pack years': <gensim.models.keyedvectors.Vocab object at 0x7eff1ccfae10>, 'Month/Year': <gensim.models.keyedvectors.Vocab object at 0x7eff1ccfae50>, 'last two months ago': <gensim.models.keyedvectors.Vocab object at 0x7eff1ccfae90>, 'Quit ETOH': <gensim.models.keyedvectors.Vocab object at 0x7eff1ccfaed0>, '1.5ppd': <gensim.models.keyedvectors.Vocab object at 0x7eff1ccfaf10>, 'four months ago': <gensim.models.keyedvectors.Vocab object at 0x7eff1ccfaf50>, '13846': <gensim.models.keyedvectors.Vocab object at 0x7eff1ccfaf90>, 'Pack-yrs:_60': <gensim.models.keyedvectors.Vocab object at 0x7eff1ccfafd0>, 'NamePattern4': <gensim.models.keyedvectors.Vocab object at 0x7eff1cc7e050>, '28523': <gensim.models.keyedvectors.Vocab object at 0x7eff1cc7e090>, '28524': <gensim.models.keyedvectors.Vocab object at 0x7eff1cc7e0d0>, 'the weekends': <gensim.models.keyedvectors.Vocab object at 0x7eff1cc7e110>, '64313': <gensim.models.keyedvectors.Vocab object at 0x7eff1cc7e150>, 'the last 3 years': <gensim.models.keyedvectors.Vocab object at 0x7eff1cc7e190>, '3 pints': <gensim.models.keyedvectors.Vocab object at 0x7eff1cc7e1d0>, '12 year': <gensim.models.keyedvectors.Vocab object at 0x7eff1cc7e210>, '9 years ago': <gensim.models.keyedvectors.Vocab object at 0x7eff1cc7e250>, '6months ago': <gensim.models.keyedvectors.Vocab object at 0x7eff1cc7e290>, 'x40yrs -ETOH': <gensim.models.keyedvectors.Vocab object at 0x7eff1cc7e2d0>, '100-pack year': <gensim.models.keyedvectors.Vocab object at 0x7eff1cc7e310>, '1686': <gensim.models.keyedvectors.Vocab object at 0x7eff1cc7e350>, '10 ETOH/ week': <gensim.models.keyedvectors.Vocab object at 0x7eff1cc7e390>, '35 yrs ago': <gensim.models.keyedvectors.Vocab object at 0x7eff1cc7e3d0>, 'nightly': <gensim.models.keyedvectors.Vocab object at 0x7eff1cc7e410>, 'years--': <gensim.models.keyedvectors.Vocab object at 0x7eff1cc7e450>, 'Lousiana': <gensim.models.keyedvectors.Vocab object at 0x7eff1cc7e490>, '686': <gensim.models.keyedvectors.Vocab object at 0x7eff1cc7e4d0>, '2133': <gensim.models.keyedvectors.Vocab object at 0x7eff1cc7e510>, 'mid-[**Month': <gensim.models.keyedvectors.Vocab object at 0x7eff1cc7e550>, '2132-10-14': <gensim.models.keyedvectors.Vocab object at 0x7eff1cc7e590>, 'about 1 year ago': <gensim.models.keyedvectors.Vocab object at 0x7eff1cc7e5d0>, 'the past 13 years': <gensim.models.keyedvectors.Vocab object at 0x7eff1cc7e610>, '45 years': <gensim.models.keyedvectors.Vocab object at 0x7eff1cc7e650>, 'close to 1 year': <gensim.models.keyedvectors.Vocab object at 0x7eff1cc7e690>, 'about eight to ten': <gensim.models.keyedvectors.Vocab object at 0x7eff1cc7e6d0>, 'the last several years': <gensim.models.keyedvectors.Vocab object at 0x7eff1cc7e710>, '6418': <gensim.models.keyedvectors.Vocab object at 0x7eff1cc7e750>, 'only one': <gensim.models.keyedvectors.Vocab object at 0x7eff1cc7e790>, '+Cocaine': <gensim.models.keyedvectors.Vocab object at 0x7eff1cc7e7d0>, 'several wks ago': <gensim.models.keyedvectors.Vocab object at 0x7eff1cc7e810>, 'EtOH - Denies': <gensim.models.keyedvectors.Vocab object at 0x7eff1cc7e850>, 'last 1.5 years': <gensim.models.keyedvectors.Vocab object at 0x7eff1cc7e890>, '/day': <gensim.models.keyedvectors.Vocab object at 0x7eff1cc7e8d0>, '13044': <gensim.models.keyedvectors.Vocab object at 0x7eff1cc7e910>, '16-year-old': <gensim.models.keyedvectors.Vocab object at 0x7eff1cc7e950>, '36978': <gensim.models.keyedvectors.Vocab object at 0x7eff1cc7e990>, '10-15 years ago': <gensim.models.keyedvectors.Vocab object at 0x7eff1cc7e9d0>, '2112-1-22': <gensim.models.keyedvectors.Vocab object at 0x7eff1cc7ea10>, 'Smoker 40pk-yrs': <gensim.models.keyedvectors.Vocab object at 0x7eff1cc7ea50>, 'approximately 1 year': <gensim.models.keyedvectors.Vocab object at 0x7eff1cc7ea90>, '2178': <gensim.models.keyedvectors.Vocab object at 0x7eff1cc7ead0>, 'only 1': <gensim.models.keyedvectors.Vocab object at 0x7eff1cc7eb10>, 'Drugs': <gensim.models.keyedvectors.Vocab object at 0x7eff1cc7eb50>, '] yrs ago': <gensim.models.keyedvectors.Vocab object at 0x7eff1cc7eb90>, 'age 63': <gensim.models.keyedvectors.Vocab object at 0x7eff1cc7ebd0>, '30-40': <gensim.models.keyedvectors.Vocab object at 0x7eff1cc7ec10>, 'one month': <gensim.models.keyedvectors.Vocab object at 0x7eff1cc7ec50>, '2131': <gensim.models.keyedvectors.Vocab object at 0x7eff1cc7ec90>, '538': <gensim.models.keyedvectors.Vocab object at 0x7eff1cc7ecd0>, '1ppd x 40years': <gensim.models.keyedvectors.Vocab object at 0x7eff1cc7ed10>, '1157': <gensim.models.keyedvectors.Vocab object at 0x7eff1cc7ed50>, '60 years ago': <gensim.models.keyedvectors.Vocab object at 0x7eff1cc7ed90>, '2106': <gensim.models.keyedvectors.Vocab object at 0x7eff1cc7edd0>, 'holidays -Illicit': <gensim.models.keyedvectors.Vocab object at 0x7eff1cc7ee10>, '52 years': <gensim.models.keyedvectors.Vocab object at 0x7eff1cc7ee50>, 'the age of 16 to 30': <gensim.models.keyedvectors.Vocab object at 0x7eff1cc7ee90>, 'up to 4': <gensim.models.keyedvectors.Vocab object at 0x7eff1cc7eed0>, '1x/month': <gensim.models.keyedvectors.Vocab object at 0x7eff1cc7ef10>, '2025': <gensim.models.keyedvectors.Vocab object at 0x7eff1cc7ef50>, '5 months ago': <gensim.models.keyedvectors.Vocab object at 0x7eff1cc7ef90>, 'Bosotn': <gensim.models.keyedvectors.Vocab object at 0x7eff1cc7efd0>, 'six to seven': <gensim.models.keyedvectors.Vocab object at 0x7eff1cc83050>, '4-5 years ago': <gensim.models.keyedvectors.Vocab object at 0x7eff1cc83090>, 'a month': <gensim.models.keyedvectors.Vocab object at 0x7eff1cc830d0>, '2129': <gensim.models.keyedvectors.Vocab object at 0x7eff1cc83110>, '2170': <gensim.models.keyedvectors.Vocab object at 0x7eff1cc83150>, '70s': <gensim.models.keyedvectors.Vocab object at 0x7eff1cc83190>, 'a day x': <gensim.models.keyedvectors.Vocab object at 0x7eff1cc831d0>, '30y ago': <gensim.models.keyedvectors.Vocab object at 0x7eff1cc83210>, '30-40 years': <gensim.models.keyedvectors.Vocab object at 0x7eff1cc83250>, '2127': <gensim.models.keyedvectors.Vocab object at 0x7eff1cc83290>, '3.5 months ago': <gensim.models.keyedvectors.Vocab object at 0x7eff1cc832d0>, 'yrs - Alcohol': <gensim.models.keyedvectors.Vocab object at 0x7eff1cc83310>, 'over 20 years': <gensim.models.keyedvectors.Vocab object at 0x7eff1cc83350>, '2181': <gensim.models.keyedvectors.Vocab object at 0x7eff1cc83390>, '>8 years ago': <gensim.models.keyedvectors.Vocab object at 0x7eff1cc833d0>, 'age 38': <gensim.models.keyedvectors.Vocab object at 0x7eff1cc83410>, '1pint per day': <gensim.models.keyedvectors.Vocab object at 0x7eff1cc83450>, '16': <gensim.models.keyedvectors.Vocab object at 0x7eff1cc83490>, '31yo': <gensim.models.keyedvectors.Vocab object at 0x7eff1cc834d0>, 'Navy': <gensim.models.keyedvectors.Vocab object at 0x7eff1cc83510>, 'x5years': <gensim.models.keyedvectors.Vocab object at 0x7eff1cc83550>, '2 month': <gensim.models.keyedvectors.Vocab object at 0x7eff1cc83590>, 'the past ten years': <gensim.models.keyedvectors.Vocab object at 0x7eff1cc835d0>, 'BNZ': <gensim.models.keyedvectors.Vocab object at 0x7eff1cc83610>, '2181-9-2': <gensim.models.keyedvectors.Vocab object at 0x7eff1cc83650>, 'Xanax q.d': <gensim.models.keyedvectors.Vocab object at 0x7eff1cc83690>, 'twenty three years': <gensim.models.keyedvectors.Vocab object at 0x7eff1cc836d0>, 'one  month ago': <gensim.models.keyedvectors.Vocab object at 0x7eff1cc83710>, '3844': <gensim.models.keyedvectors.Vocab object at 0x7eff1cc83750>, 'approximately 30 years ago': <gensim.models.keyedvectors.Vocab object at 0x7eff1cc83790>, '>3 days': <gensim.models.keyedvectors.Vocab object at 0x7eff1cc837d0>, '+ 12': <gensim.models.keyedvectors.Vocab object at 0x7eff1cc83810>, 'a few weeks': <gensim.models.keyedvectors.Vocab object at 0x7eff1cc83850>, '3-28': <gensim.models.keyedvectors.Vocab object at 0x7eff1cc83890>, 'R&D Engineering Cigarettes': <gensim.models.keyedvectors.Vocab object at 0x7eff1cc838d0>, '2100-8-11': <gensim.models.keyedvectors.Vocab object at 0x7eff1cc83910>, 'Hx:<1ppd': <gensim.models.keyedvectors.Vocab object at 0x7eff1cc83950>, 'up to 3': <gensim.models.keyedvectors.Vocab object at 0x7eff1cc83990>, '75 pack year': <gensim.models.keyedvectors.Vocab object at 0x7eff1cc839d0>, 'last two years': <gensim.models.keyedvectors.Vocab object at 0x7eff1cc83a10>, 'Quit 10pk year': <gensim.models.keyedvectors.Vocab object at 0x7eff1cc83a50>, 'about 1': <gensim.models.keyedvectors.Vocab object at 0x7eff1cc83a90>, '1 per week': <gensim.models.keyedvectors.Vocab object at 0x7eff1cc83ad0>, 'nine months ago': <gensim.models.keyedvectors.Vocab object at 0x7eff1cc83b10>, 'the summer': <gensim.models.keyedvectors.Vocab object at 0x7eff1cc83b50>, 'MJ': <gensim.models.keyedvectors.Vocab object at 0x7eff1cc83b90>, 'ILL': <gensim.models.keyedvectors.Vocab object at 0x7eff1cc83bd0>, '27 years ago': <gensim.models.keyedvectors.Vocab object at 0x7eff1cc83c10>, '10-14 days ago': <gensim.models.keyedvectors.Vocab object at 0x7eff1cc83c50>, 'thirty three years ago': <gensim.models.keyedvectors.Vocab object at 0x7eff1cc83c90>, 'the past 6 months': <gensim.models.keyedvectors.Vocab object at 0x7eff1cc83cd0>, 'between 30 and 40 years': <gensim.models.keyedvectors.Vocab object at 0x7eff1cc83d10>, '26 years ago': <gensim.models.keyedvectors.Vocab object at 0x7eff1cc83d50>, 'one-half': <gensim.models.keyedvectors.Vocab object at 0x7eff1cc83d90>, 'age 5': <gensim.models.keyedvectors.Vocab object at 0x7eff1cc83dd0>, '- EtOH': <gensim.models.keyedvectors.Vocab object at 0x7eff1cc83e10>, '40 pack year': <gensim.models.keyedvectors.Vocab object at 0x7eff1cc83e50>, '4754': <gensim.models.keyedvectors.Vocab object at 0x7eff1cc83e90>, '14 yrs ago': <gensim.models.keyedvectors.Vocab object at 0x7eff1cc83ed0>, '180': <gensim.models.keyedvectors.Vocab object at 0x7eff1cc83f10>, '3 PPD x 60yrs': <gensim.models.keyedvectors.Vocab object at 0x7eff1cc83f50>, 'Daily': <gensim.models.keyedvectors.Vocab object at 0x7eff1cc83f90>, '2134': <gensim.models.keyedvectors.Vocab object at 0x7eff1cc83fd0>, 'FL': <gensim.models.keyedvectors.Vocab object at 0x7eff1cc85050>, '15-20pack year': <gensim.models.keyedvectors.Vocab object at 0x7eff1cc85090>, '50 year': <gensim.models.keyedvectors.Vocab object at 0x7eff1cc850d0>, 'weekend': <gensim.models.keyedvectors.Vocab object at 0x7eff1cc85110>, '18 - 65': <gensim.models.keyedvectors.Vocab object at 0x7eff1cc85150>, '3 ppd x': <gensim.models.keyedvectors.Vocab object at 0x7eff1cc85190>, '61893': <gensim.models.keyedvectors.Vocab object at 0x7eff1cc851d0>, '~50 pack-year': <gensim.models.keyedvectors.Vocab object at 0x7eff1cc85210>, 'the past 9 days': <gensim.models.keyedvectors.Vocab object at 0x7eff1cc85250>, 'recent d/c. Patient': <gensim.models.keyedvectors.Vocab object at 0x7eff1cc85290>, 'Fifty': <gensim.models.keyedvectors.Vocab object at 0x7eff1cc852d0>, 'eight years ago': <gensim.models.keyedvectors.Vocab object at 0x7eff1cc85310>, '30 year old': <gensim.models.keyedvectors.Vocab object at 0x7eff1cc85350>, '2676': <gensim.models.keyedvectors.Vocab object at 0x7eff1cc85390>, '30-35 years': <gensim.models.keyedvectors.Vocab object at 0x7eff1cc853d0>, 'every few weeks': <gensim.models.keyedvectors.Vocab object at 0x7eff1cc85410>, 'RA': <gensim.models.keyedvectors.Vocab object at 0x7eff1cc85450>, 'four': <gensim.models.keyedvectors.Vocab object at 0x7eff1cc85490>, 'three to five': <gensim.models.keyedvectors.Vocab object at 0x7eff1cc854d0>, '2171': <gensim.models.keyedvectors.Vocab object at 0x7eff1cc85510>, '27 yrs ago': <gensim.models.keyedvectors.Vocab object at 0x7eff1cc85550>, '2110': <gensim.models.keyedvectors.Vocab object at 0x7eff1cc85590>, '1557': <gensim.models.keyedvectors.Vocab object at 0x7eff1cc855d0>, 'Less than 1': <gensim.models.keyedvectors.Vocab object at 0x7eff1cc85610>, '14 years': <gensim.models.keyedvectors.Vocab object at 0x7eff1cc85650>, '3597': <gensim.models.keyedvectors.Vocab object at 0x7eff1cc85690>, '40 yrs x': <gensim.models.keyedvectors.Vocab object at 0x7eff1cc856d0>, 'OSH': <gensim.models.keyedvectors.Vocab object at 0x7eff1cc85710>, 'ETT': <gensim.models.keyedvectors.Vocab object at 0x7eff1cc85750>, 'Nonsmoker': <gensim.models.keyedvectors.Vocab object at 0x7eff1cc85790>, '2 EtOH': <gensim.models.keyedvectors.Vocab object at 0x7eff1cc857d0>, 'beer per week': <gensim.models.keyedvectors.Vocab object at 0x7eff1cc85810>, '730': <gensim.models.keyedvectors.Vocab object at 0x7eff1cc85850>, '731': <gensim.models.keyedvectors.Vocab object at 0x7eff1cc85890>, 'Distant': <gensim.models.keyedvectors.Vocab object at 0x7eff1cc858d0>, '23 years ago': <gensim.models.keyedvectors.Vocab object at 0x7eff1cc85910>, '30 yrs.': <gensim.models.keyedvectors.Vocab object at 0x7eff1cc85950>, '70': <gensim.models.keyedvectors.Vocab object at 0x7eff1cc85990>, '19 years': <gensim.models.keyedvectors.Vocab object at 0x7eff1cc859d0>, 'approximately 30 years': <gensim.models.keyedvectors.Vocab object at 0x7eff1cc85a10>, 'less than': <gensim.models.keyedvectors.Vocab object at 0x7eff1cc85a50>, 'the past 20 years': <gensim.models.keyedvectors.Vocab object at 0x7eff1cc85a90>, '47': <gensim.models.keyedvectors.Vocab object at 0x7eff1cc85ad0>, 'age 22': <gensim.models.keyedvectors.Vocab object at 0x7eff1cc85b10>, '3355': <gensim.models.keyedvectors.Vocab object at 0x7eff1cc85b50>, '28 year': <gensim.models.keyedvectors.Vocab object at 0x7eff1cc85b90>, 'the Department of Social Services': <gensim.models.keyedvectors.Vocab object at 0x7eff1cc85bd0>, '22 months': <gensim.models.keyedvectors.Vocab object at 0x7eff1cc85c10>, 'Name11': <gensim.models.keyedvectors.Vocab object at 0x7eff1cc85c50>, '3264': <gensim.models.keyedvectors.Vocab object at 0x7eff1cc85c90>, 'HCP [**': <gensim.models.keyedvectors.Vocab object at 0x7eff1cc85cd0>, '6955': <gensim.models.keyedvectors.Vocab object at 0x7eff1cc85d10>, '70 years': <gensim.models.keyedvectors.Vocab object at 0x7eff1cc85d50>, '40785': <gensim.models.keyedvectors.Vocab object at 0x7eff1cc85d90>, '553': <gensim.models.keyedvectors.Vocab object at 0x7eff1cc85dd0>, 'approximately 3-4': <gensim.models.keyedvectors.Vocab object at 0x7eff1cc85e10>, 'Two to three': <gensim.models.keyedvectors.Vocab object at 0x7eff1cc85e50>, 'the age of': <gensim.models.keyedvectors.Vocab object at 0x7eff1cc85e90>, '14': <gensim.models.keyedvectors.Vocab object at 0x7eff1cc85ed0>, '5packyears': <gensim.models.keyedvectors.Vocab object at 0x7eff1cc85f10>, 'a long time ago': <gensim.models.keyedvectors.Vocab object at 0x7eff1cc85f50>, '0.5': <gensim.models.keyedvectors.Vocab object at 0x7eff1cc85f90>, 'almost a decade': <gensim.models.keyedvectors.Vocab object at 0x7eff1cc85fd0>, 'ETOH/IVDU': <gensim.models.keyedvectors.Vocab object at 0x7eff1cc8c050>, 'approximately one': <gensim.models.keyedvectors.Vocab object at 0x7eff1cc8c090>, '25PY': <gensim.models.keyedvectors.Vocab object at 0x7eff1cc8c0d0>, '93531': <gensim.models.keyedvectors.Vocab object at 0x7eff1cc8c110>, 'Bayside Expo Center': <gensim.models.keyedvectors.Vocab object at 0x7eff1cc8c150>, '87': <gensim.models.keyedvectors.Vocab object at 0x7eff1cc8c190>, 'EtoH': <gensim.models.keyedvectors.Vocab object at 0x7eff1cc8c1d0>, 'last EtOH': <gensim.models.keyedvectors.Vocab object at 0x7eff1cc8c210>, '216': <gensim.models.keyedvectors.Vocab object at 0x7eff1cc8c250>, 'about 6': <gensim.models.keyedvectors.Vocab object at 0x7eff1cc8c290>, '269': <gensim.models.keyedvectors.Vocab object at 0x7eff1cc8c2d0>, '5 days': <gensim.models.keyedvectors.Vocab object at 0x7eff1cc8c310>, '1501': <gensim.models.keyedvectors.Vocab object at 0x7eff1cc8c350>, '>40 years ago': <gensim.models.keyedvectors.Vocab object at 0x7eff1cc8c390>, 'EToH': <gensim.models.keyedvectors.Vocab object at 0x7eff1cc8c3d0>, 'more than 1 year ago': <gensim.models.keyedvectors.Vocab object at 0x7eff1cc8c410>, 'week': <gensim.models.keyedvectors.Vocab object at 0x7eff1cc8c450>, '2.5ppd': <gensim.models.keyedvectors.Vocab object at 0x7eff1cc8c490>, '50yrs': <gensim.models.keyedvectors.Vocab object at 0x7eff1cc8c4d0>, 'last night': <gensim.models.keyedvectors.Vocab object at 0x7eff1cc8c510>, '30s': <gensim.models.keyedvectors.Vocab object at 0x7eff1cc8c550>, '2139**]-[**2147': <gensim.models.keyedvectors.Vocab object at 0x7eff1cc8c590>, '18953': <gensim.models.keyedvectors.Vocab object at 0x7eff1cc8c5d0>, '] Married  [X] Single Lives': <gensim.models.keyedvectors.Vocab object at 0x7eff1cc8c610>, 'the past 12 months': <gensim.models.keyedvectors.Vocab object at 0x7eff1cc8c650>, 'approximately seven weeks ago': <gensim.models.keyedvectors.Vocab object at 0x7eff1cc8c690>, '-ETOH: None -Illicit': <gensim.models.keyedvectors.Vocab object at 0x7eff1cc8c6d0>, 'about 20 years ago': <gensim.models.keyedvectors.Vocab object at 0x7eff1cc8c710>, '10 year': <gensim.models.keyedvectors.Vocab object at 0x7eff1cc8c750>, 'Ph.D.': <gensim.models.keyedvectors.Vocab object at 0x7eff1cc8c790>, 'tattoos': <gensim.models.keyedvectors.Vocab object at 0x7eff1cc8c7d0>, '1.5 years': <gensim.models.keyedvectors.Vocab object at 0x7eff1cc8c810>, 'Sixty': <gensim.models.keyedvectors.Vocab object at 0x7eff1cc8c850>, 'the past couple of years': <gensim.models.keyedvectors.Vocab object at 0x7eff1cc8c890>, '2-5': <gensim.models.keyedvectors.Vocab object at 0x7eff1cc8c8d0>, 'night': <gensim.models.keyedvectors.Vocab object at 0x7eff1cc8c910>, 'one year': <gensim.models.keyedvectors.Vocab object at 0x7eff1cc8c950>, '392': <gensim.models.keyedvectors.Vocab object at 0x7eff1cc8c990>, 'Section 8': <gensim.models.keyedvectors.Vocab object at 0x7eff1cc8c9d0>, 'Russian': <gensim.models.keyedvectors.Vocab object at 0x7eff1cc8ca10>, '533': <gensim.models.keyedvectors.Vocab object at 0x7eff1cc8ca50>, '2312': <gensim.models.keyedvectors.Vocab object at 0x7eff1cc8ca90>, '24 hours ago': <gensim.models.keyedvectors.Vocab object at 0x7eff1cc8cad0>, 'Spanish': <gensim.models.keyedvectors.Vocab object at 0x7eff1cc8cb10>, '931': <gensim.models.keyedvectors.Vocab object at 0x7eff1cc8cb50>, '1ppw x': <gensim.models.keyedvectors.Vocab object at 0x7eff1cc8cb90>, 'Drinks 3': <gensim.models.keyedvectors.Vocab object at 0x7eff1cc8cbd0>, '4 years ago': <gensim.models.keyedvectors.Vocab object at 0x7eff1cc8cc10>, '2156': <gensim.models.keyedvectors.Vocab object at 0x7eff1cc8cc50>, 'eleven years ago': <gensim.models.keyedvectors.Vocab object at 0x7eff1cc8cc90>, 'six months ago': <gensim.models.keyedvectors.Vocab object at 0x7eff1cc8ccd0>, 'MVA': <gensim.models.keyedvectors.Vocab object at 0x7eff1cc8cd10>, '40 days ago': <gensim.models.keyedvectors.Vocab object at 0x7eff1cc8cd50>, '21 years': <gensim.models.keyedvectors.Vocab object at 0x7eff1cc8cd90>, '2168': <gensim.models.keyedvectors.Vocab object at 0x7eff1cc8cdd0>, '5 days ago': <gensim.models.keyedvectors.Vocab object at 0x7eff1cc8ce10>, '20-30 years': <gensim.models.keyedvectors.Vocab object at 0x7eff1cc8ce50>, '24 years': <gensim.models.keyedvectors.Vocab object at 0x7eff1cc8ce90>, '5503': <gensim.models.keyedvectors.Vocab object at 0x7eff1cc8ced0>, 'the age of 10': <gensim.models.keyedvectors.Vocab object at 0x7eff1cc8cf10>, 'the week': <gensim.models.keyedvectors.Vocab object at 0x7eff1cc8cf50>, 'one fifth': <gensim.models.keyedvectors.Vocab object at 0x7eff1cc8cf90>, 'BZPs': <gensim.models.keyedvectors.Vocab object at 0x7eff1cc8cfd0>, '>1.5 years': <gensim.models.keyedvectors.Vocab object at 0x7eff1cc8e050>, '3494': <gensim.models.keyedvectors.Vocab object at 0x7eff1cc8e090>, '104038': <gensim.models.keyedvectors.Vocab object at 0x7eff1cc8e0d0>, '104039': <gensim.models.keyedvectors.Vocab object at 0x7eff1cc8e110>, 'approximately 0.5': <gensim.models.keyedvectors.Vocab object at 0x7eff1cc8e150>, 'four pack year': <gensim.models.keyedvectors.Vocab object at 0x7eff1cc8e190>, '5cig/day': <gensim.models.keyedvectors.Vocab object at 0x7eff1cc8e1d0>, '28900': <gensim.models.keyedvectors.Vocab object at 0x7eff1cc8e210>, 'approximately four': <gensim.models.keyedvectors.Vocab object at 0x7eff1cc8e250>, 'last +': <gensim.models.keyedvectors.Vocab object at 0x7eff1cc8e290>, 'several weeks ago': <gensim.models.keyedvectors.Vocab object at 0x7eff1cc8e2d0>, 'Delta': <gensim.models.keyedvectors.Vocab object at 0x7eff1cc8e310>, '360': <gensim.models.keyedvectors.Vocab object at 0x7eff1cc8e350>, '2138': <gensim.models.keyedvectors.Vocab object at 0x7eff1cc8e390>, '2113-8-5*': <gensim.models.keyedvectors.Vocab object at 0x7eff1cc8e3d0>, '90': <gensim.models.keyedvectors.Vocab object at 0x7eff1cc8e410>, '5 year': <gensim.models.keyedvectors.Vocab object at 0x7eff1cc8e450>, '25-30 years ago': <gensim.models.keyedvectors.Vocab object at 0x7eff1cc8e490>, 'the age of 50': <gensim.models.keyedvectors.Vocab object at 0x7eff1cc8e4d0>, '2141': <gensim.models.keyedvectors.Vocab object at 0x7eff1cc8e510>, 'age 25': <gensim.models.keyedvectors.Vocab object at 0x7eff1cc8e550>, 'Prior marijuana': <gensim.models.keyedvectors.Vocab object at 0x7eff1cc8e590>, 'the last three years': <gensim.models.keyedvectors.Vocab object at 0x7eff1cc8e5d0>, '8-3': <gensim.models.keyedvectors.Vocab object at 0x7eff1cc8e610>, 'approximately 10 years': <gensim.models.keyedvectors.Vocab object at 0x7eff1cc8e650>, '40-50': <gensim.models.keyedvectors.Vocab object at 0x7eff1cc8e690>, 'about 2 years ago': <gensim.models.keyedvectors.Vocab object at 0x7eff1cc8e6d0>, 'five': <gensim.models.keyedvectors.Vocab object at 0x7eff1cc8e710>, '6-7 months': <gensim.models.keyedvectors.Vocab object at 0x7eff1cc8e750>, '8-10': <gensim.models.keyedvectors.Vocab object at 0x7eff1cc8e790>, 'last age 15': <gensim.models.keyedvectors.Vocab object at 0x7eff1cc8e7d0>, 'last last night': <gensim.models.keyedvectors.Vocab object at 0x7eff1cc8e810>, '2137-7-17': <gensim.models.keyedvectors.Vocab object at 0x7eff1cc8e850>, '6 years ago': <gensim.models.keyedvectors.Vocab object at 0x7eff1cc8e890>, 'Alcohol - denies': <gensim.models.keyedvectors.Vocab object at 0x7eff1cc8e8d0>, 'his days': <gensim.models.keyedvectors.Vocab object at 0x7eff1cc8e910>, 'IVDA x': <gensim.models.keyedvectors.Vocab object at 0x7eff1cc8e950>, 'last 15 years': <gensim.models.keyedvectors.Vocab object at 0x7eff1cc8e990>, 'the past 21 years': <gensim.models.keyedvectors.Vocab object at 0x7eff1cc8e9d0>, 'MA': <gensim.models.keyedvectors.Vocab object at 0x7eff1cc8ea10>, '2097': <gensim.models.keyedvectors.Vocab object at 0x7eff1cc8ea50>, '1.5-2 PPD': <gensim.models.keyedvectors.Vocab object at 0x7eff1cc8ea90>, '60-80': <gensim.models.keyedvectors.Vocab object at 0x7eff1cc8ead0>, 'LA': <gensim.models.keyedvectors.Vocab object at 0x7eff1cc8eb10>, '03': <gensim.models.keyedvectors.Vocab object at 0x7eff1cc8eb50>, '2ppd x years': <gensim.models.keyedvectors.Vocab object at 0x7eff1cc8eb90>, '2157': <gensim.models.keyedvectors.Vocab object at 0x7eff1cc8ebd0>, '2144': <gensim.models.keyedvectors.Vocab object at 0x7eff1cc8ec10>, '5 gallons': <gensim.models.keyedvectors.Vocab object at 0x7eff1cc8ec50>, '7 days': <gensim.models.keyedvectors.Vocab object at 0x7eff1cc8ec90>, 'a few months': <gensim.models.keyedvectors.Vocab object at 0x7eff1cc8ecd0>, 'up to 10': <gensim.models.keyedvectors.Vocab object at 0x7eff1cc8ed10>, 'about 50 years ago': <gensim.models.keyedvectors.Vocab object at 0x7eff1cc8ed50>, 'Hx': <gensim.models.keyedvectors.Vocab object at 0x7eff1cc8ed90>, '15 year': <gensim.models.keyedvectors.Vocab object at 0x7eff1cc8edd0>, '35(+)years': <gensim.models.keyedvectors.Vocab object at 0x7eff1cc8ee10>, 'two days ago': <gensim.models.keyedvectors.Vocab object at 0x7eff1cc8ee50>, 'about 1PPD x': <gensim.models.keyedvectors.Vocab object at 0x7eff1cc8ee90>, 'marijuana & cocaine': <gensim.models.keyedvectors.Vocab object at 0x7eff1cc8eed0>, 'about three years ago': <gensim.models.keyedvectors.Vocab object at 0x7eff1cc8ef10>, '>6 months': <gensim.models.keyedvectors.Vocab object at 0x7eff1cc8ef50>, '17 years': <gensim.models.keyedvectors.Vocab object at 0x7eff1cc8ef90>, 'more than 50 years': <gensim.models.keyedvectors.Vocab object at 0x7eff1cc8efd0>, '1.5PPD x ~60 years': <gensim.models.keyedvectors.Vocab object at 0x7eff1cc911d0>, '54 years': <gensim.models.keyedvectors.Vocab object at 0x7eff1cc91350>, 'greater than 40': <gensim.models.keyedvectors.Vocab object at 0x7eff1cc91390>, \"DT's\": <gensim.models.keyedvectors.Vocab object at 0x7eff1cc913d0>, '4 months': <gensim.models.keyedvectors.Vocab object at 0x7eff1cc91410>, '40yrs': <gensim.models.keyedvectors.Vocab object at 0x7eff1cc91450>, 'age 11': <gensim.models.keyedvectors.Vocab object at 0x7eff1cc91490>, 'about three': <gensim.models.keyedvectors.Vocab object at 0x7eff1cc914d0>, '33 years ago': <gensim.models.keyedvectors.Vocab object at 0x7eff1cc91510>, 'about 10 years ago': <gensim.models.keyedvectors.Vocab object at 0x7eff1cc91f50>, 'many decades': <gensim.models.keyedvectors.Vocab object at 0x7eff1cc91f90>, '1.5 pints': <gensim.models.keyedvectors.Vocab object at 0x7eff1cc91fd0>, 'more than 20': <gensim.models.keyedvectors.Vocab object at 0x7eff1cc91210>, 'each day': <gensim.models.keyedvectors.Vocab object at 0x7eff1cc91250>, '1.5L/day': <gensim.models.keyedvectors.Vocab object at 0x7eff1cc91290>, '42': <gensim.models.keyedvectors.Vocab object at 0x7eff1cc91310>, '1073': <gensim.models.keyedvectors.Vocab object at 0x7eff1cc91110>, 'about three months': <gensim.models.keyedvectors.Vocab object at 0x7eff1cc91550>, '38 years': <gensim.models.keyedvectors.Vocab object at 0x7eff1cc917d0>}\n"
          ]
        }
      ]
    },
    {
      "cell_type": "code",
      "source": [
        "print(word2vec.wv['last night'])"
      ],
      "metadata": {
        "colab": {
          "base_uri": "https://localhost:8080/"
        },
        "id": "1Wp-BUgD6eWj",
        "outputId": "ca555882-1bec-472a-d15c-c7ef4a67d5fe"
      },
      "execution_count": null,
      "outputs": [
        {
          "output_type": "stream",
          "name": "stdout",
          "text": [
            "[ 2.5718529e-03 -2.3110559e-04 -1.3458458e-03  1.4841030e-03\n",
            "  2.0826780e-04  4.1329497e-03 -5.2432436e-04  1.2600679e-03\n",
            "  1.6329953e-04 -4.2358392e-05 -2.9347066e-03  3.7339432e-04\n",
            "  1.8680672e-03  2.6098627e-04 -2.3380760e-03  8.2401995e-04\n",
            " -1.7819327e-04  3.9145928e-03  3.9252371e-04 -1.8149419e-03\n",
            " -4.2605540e-03  1.2327331e-03 -4.6974970e-03 -4.5036045e-03\n",
            " -3.9989813e-03  9.2807104e-04 -4.5575856e-04 -4.8522120e-03\n",
            "  4.0016538e-03 -3.8773971e-04 -4.7701159e-03 -4.9814079e-03\n",
            " -2.5248940e-03 -3.9523207e-03  3.4546943e-03  4.2329188e-03\n",
            "  4.7598574e-03  3.1352362e-03 -1.1809927e-03  3.0295644e-04\n",
            "  1.0382989e-03  1.8383655e-03  1.8661357e-04 -2.2022594e-03\n",
            " -3.6126266e-03 -3.0403326e-03 -1.7959308e-03 -2.9055465e-03\n",
            " -2.2444227e-03 -4.2786184e-03 -1.6120420e-03 -4.5870421e-03\n",
            "  2.6966459e-03 -3.2236304e-03 -4.1805264e-03 -3.7316135e-03\n",
            "  3.3750704e-03  6.1781786e-04 -3.9825840e-03  9.8235253e-04\n",
            " -9.7566796e-04  5.3135323e-04  4.4048722e-03  4.0225565e-04\n",
            "  7.2982733e-04  6.5897923e-04  2.1659445e-03 -7.4370485e-04\n",
            "  3.0962238e-03 -4.1835839e-03  4.2300699e-03  2.7332581e-03\n",
            "  2.9875820e-03 -4.3384619e-03  2.9887154e-03  1.7385308e-03\n",
            "  4.9116150e-03 -4.7194269e-03 -1.0151078e-03 -2.6632650e-04\n",
            " -2.6294452e-03 -2.6381421e-03  4.6019303e-03  7.7071181e-04\n",
            "  3.4223935e-03 -4.1719177e-03  9.0572913e-04  9.8292239e-04\n",
            " -3.3623262e-03 -6.2859326e-04  2.8399990e-03  1.4128205e-03\n",
            "  3.4338059e-03 -1.8719613e-03  4.5069796e-03  4.0945937e-03\n",
            " -3.2667930e-03 -3.7028680e-03  9.8399306e-04 -3.3043022e-03]\n"
          ]
        }
      ]
    },
    {
      "cell_type": "code",
      "source": [
        "# finding similar words\n",
        "sim_words = word2vec.wv.most_similar('last night')\n",
        "for i in sim_words:\n",
        "  print(i)"
      ],
      "metadata": {
        "colab": {
          "base_uri": "https://localhost:8080/"
        },
        "id": "cH7mcX5s7gvq",
        "outputId": "b709b9ce-10f1-4315-ece9-c13683952193"
      },
      "execution_count": null,
      "outputs": [
        {
          "output_type": "stream",
          "name": "stdout",
          "text": [
            "('1.5 months', 0.31473779678344727)\n",
            "('19 years ago', 0.28132662177085876)\n",
            "('Methadone', 0.27066177129745483)\n",
            "('>1.5 years', 0.26790952682495117)\n",
            "('Hx', 0.2585104703903198)\n",
            "('3 years ago', 0.24035921692848206)\n",
            "('4 months ago', 0.23172371089458466)\n",
            "('2115', 0.23092633485794067)\n",
            "('22 months', 0.2234121710062027)\n",
            "('marijuana', 0.2178557813167572)\n"
          ]
        }
      ]
    },
    {
      "cell_type": "code",
      "source": [
        "w2v_weights = df_Spacy_Word2Vec.wv.vectors\n",
        "vocab_size, embedding_size = w2v_weights.shape"
      ],
      "metadata": {
        "id": "ESazoCTQpZzS"
      },
      "execution_count": null,
      "outputs": []
    },
    {
      "cell_type": "code",
      "source": [
        "def word2token(word, w2v_model):\n",
        "    try:\n",
        "        return w2v_model.wv.vocab[word].index\n",
        "    except KeyError:\n",
        "        return 0\n",
        "\n",
        "def token2word(token, w2v_model):\n",
        "    return w2v_model.wv.index2word[token]"
      ],
      "metadata": {
        "id": "X5IgBmL7qnR5"
      },
      "execution_count": null,
      "outputs": []
    },
    {
      "cell_type": "markdown",
      "source": [
        "https://www.kaggle.com/code/kstathou/word-embeddings-logistic-regression/notebook"
      ],
      "metadata": {
        "id": "doFcc1ljsyZZ"
      }
    },
    {
      "cell_type": "code",
      "source": [
        "from sklearn.preprocessing import LabelEncoder\n",
        "\n",
        "def document_vector(doc):\n",
        "    \"\"\"Create document vectors by averaging word vectors. Remove out-of-vocabulary words.\"\"\"\n",
        "    doc = [word for word in doc if word in word2vec.wv.vocab]\n",
        "    return np.mean(word2vec[doc], axis=0)"
      ],
      "metadata": {
        "id": "WpMd0E7_8uLw"
      },
      "execution_count": null,
      "outputs": []
    },
    {
      "cell_type": "code",
      "source": [
        "vector = twoclass_df.sentence.apply(document_vector)"
      ],
      "metadata": {
        "id": "MMzUmG_3sxiR",
        "colab": {
          "base_uri": "https://localhost:8080/",
          "height": 415
        },
        "outputId": "a6dddbdb-7c27-4c9f-fc33-d3b2bcbf7f50"
      },
      "execution_count": null,
      "outputs": [
        {
          "output_type": "stream",
          "name": "stderr",
          "text": [
            "/usr/local/lib/python3.7/dist-packages/ipykernel_launcher.py:6: DeprecationWarning: Call to deprecated `__getitem__` (Method will be removed in 4.0.0, use self.wv.__getitem__() instead).\n",
            "  \n"
          ]
        },
        {
          "output_type": "error",
          "ename": "ValueError",
          "evalue": "ignored",
          "traceback": [
            "\u001b[0;31m---------------------------------------------------------------------------\u001b[0m",
            "\u001b[0;31mValueError\u001b[0m                                Traceback (most recent call last)",
            "\u001b[0;32m<ipython-input-78-356dbd7306a9>\u001b[0m in \u001b[0;36m<module>\u001b[0;34m()\u001b[0m\n\u001b[0;32m----> 1\u001b[0;31m \u001b[0mvector\u001b[0m \u001b[0;34m=\u001b[0m \u001b[0mtwoclass_df\u001b[0m\u001b[0;34m.\u001b[0m\u001b[0msentence\u001b[0m\u001b[0;34m.\u001b[0m\u001b[0mapply\u001b[0m\u001b[0;34m(\u001b[0m\u001b[0mdocument_vector\u001b[0m\u001b[0;34m)\u001b[0m\u001b[0;34m\u001b[0m\u001b[0;34m\u001b[0m\u001b[0m\n\u001b[0m",
            "\u001b[0;32m/usr/local/lib/python3.7/dist-packages/pandas/core/series.py\u001b[0m in \u001b[0;36mapply\u001b[0;34m(self, func, convert_dtype, args, **kwargs)\u001b[0m\n\u001b[1;32m   4355\u001b[0m         \u001b[0mdtype\u001b[0m\u001b[0;34m:\u001b[0m \u001b[0mfloat64\u001b[0m\u001b[0;34m\u001b[0m\u001b[0;34m\u001b[0m\u001b[0m\n\u001b[1;32m   4356\u001b[0m         \"\"\"\n\u001b[0;32m-> 4357\u001b[0;31m         \u001b[0;32mreturn\u001b[0m \u001b[0mSeriesApply\u001b[0m\u001b[0;34m(\u001b[0m\u001b[0mself\u001b[0m\u001b[0;34m,\u001b[0m \u001b[0mfunc\u001b[0m\u001b[0;34m,\u001b[0m \u001b[0mconvert_dtype\u001b[0m\u001b[0;34m,\u001b[0m \u001b[0margs\u001b[0m\u001b[0;34m,\u001b[0m \u001b[0mkwargs\u001b[0m\u001b[0;34m)\u001b[0m\u001b[0;34m.\u001b[0m\u001b[0mapply\u001b[0m\u001b[0;34m(\u001b[0m\u001b[0;34m)\u001b[0m\u001b[0;34m\u001b[0m\u001b[0;34m\u001b[0m\u001b[0m\n\u001b[0m\u001b[1;32m   4358\u001b[0m \u001b[0;34m\u001b[0m\u001b[0m\n\u001b[1;32m   4359\u001b[0m     def _reduce(\n",
            "\u001b[0;32m/usr/local/lib/python3.7/dist-packages/pandas/core/apply.py\u001b[0m in \u001b[0;36mapply\u001b[0;34m(self)\u001b[0m\n\u001b[1;32m   1041\u001b[0m             \u001b[0;32mreturn\u001b[0m \u001b[0mself\u001b[0m\u001b[0;34m.\u001b[0m\u001b[0mapply_str\u001b[0m\u001b[0;34m(\u001b[0m\u001b[0;34m)\u001b[0m\u001b[0;34m\u001b[0m\u001b[0;34m\u001b[0m\u001b[0m\n\u001b[1;32m   1042\u001b[0m \u001b[0;34m\u001b[0m\u001b[0m\n\u001b[0;32m-> 1043\u001b[0;31m         \u001b[0;32mreturn\u001b[0m \u001b[0mself\u001b[0m\u001b[0;34m.\u001b[0m\u001b[0mapply_standard\u001b[0m\u001b[0;34m(\u001b[0m\u001b[0;34m)\u001b[0m\u001b[0;34m\u001b[0m\u001b[0;34m\u001b[0m\u001b[0m\n\u001b[0m\u001b[1;32m   1044\u001b[0m \u001b[0;34m\u001b[0m\u001b[0m\n\u001b[1;32m   1045\u001b[0m     \u001b[0;32mdef\u001b[0m \u001b[0magg\u001b[0m\u001b[0;34m(\u001b[0m\u001b[0mself\u001b[0m\u001b[0;34m)\u001b[0m\u001b[0;34m:\u001b[0m\u001b[0;34m\u001b[0m\u001b[0;34m\u001b[0m\u001b[0m\n",
            "\u001b[0;32m/usr/local/lib/python3.7/dist-packages/pandas/core/apply.py\u001b[0m in \u001b[0;36mapply_standard\u001b[0;34m(self)\u001b[0m\n\u001b[1;32m   1099\u001b[0m                     \u001b[0mvalues\u001b[0m\u001b[0;34m,\u001b[0m\u001b[0;34m\u001b[0m\u001b[0;34m\u001b[0m\u001b[0m\n\u001b[1;32m   1100\u001b[0m                     \u001b[0mf\u001b[0m\u001b[0;34m,\u001b[0m  \u001b[0;31m# type: ignore[arg-type]\u001b[0m\u001b[0;34m\u001b[0m\u001b[0;34m\u001b[0m\u001b[0m\n\u001b[0;32m-> 1101\u001b[0;31m                     \u001b[0mconvert\u001b[0m\u001b[0;34m=\u001b[0m\u001b[0mself\u001b[0m\u001b[0;34m.\u001b[0m\u001b[0mconvert_dtype\u001b[0m\u001b[0;34m,\u001b[0m\u001b[0;34m\u001b[0m\u001b[0;34m\u001b[0m\u001b[0m\n\u001b[0m\u001b[1;32m   1102\u001b[0m                 )\n\u001b[1;32m   1103\u001b[0m \u001b[0;34m\u001b[0m\u001b[0m\n",
            "\u001b[0;32m/usr/local/lib/python3.7/dist-packages/pandas/_libs/lib.pyx\u001b[0m in \u001b[0;36mpandas._libs.lib.map_infer\u001b[0;34m()\u001b[0m\n",
            "\u001b[0;32m<ipython-input-73-fd74d1f6ff7d>\u001b[0m in \u001b[0;36mdocument_vector\u001b[0;34m(doc)\u001b[0m\n\u001b[1;32m      4\u001b[0m     \u001b[0;34m\"\"\"Create document vectors by averaging word vectors. Remove out-of-vocabulary words.\"\"\"\u001b[0m\u001b[0;34m\u001b[0m\u001b[0;34m\u001b[0m\u001b[0m\n\u001b[1;32m      5\u001b[0m     \u001b[0mdoc\u001b[0m \u001b[0;34m=\u001b[0m \u001b[0;34m[\u001b[0m\u001b[0mword\u001b[0m \u001b[0;32mfor\u001b[0m \u001b[0mword\u001b[0m \u001b[0;32min\u001b[0m \u001b[0mdoc\u001b[0m \u001b[0;32mif\u001b[0m \u001b[0mword\u001b[0m \u001b[0;32min\u001b[0m \u001b[0mword2vec\u001b[0m\u001b[0;34m.\u001b[0m\u001b[0mwv\u001b[0m\u001b[0;34m.\u001b[0m\u001b[0mvocab\u001b[0m\u001b[0;34m]\u001b[0m\u001b[0;34m\u001b[0m\u001b[0;34m\u001b[0m\u001b[0m\n\u001b[0;32m----> 6\u001b[0;31m     \u001b[0;32mreturn\u001b[0m \u001b[0mnp\u001b[0m\u001b[0;34m.\u001b[0m\u001b[0mmean\u001b[0m\u001b[0;34m(\u001b[0m\u001b[0mword2vec\u001b[0m\u001b[0;34m[\u001b[0m\u001b[0mdoc\u001b[0m\u001b[0;34m]\u001b[0m\u001b[0;34m,\u001b[0m \u001b[0maxis\u001b[0m\u001b[0;34m=\u001b[0m\u001b[0;36m0\u001b[0m\u001b[0;34m)\u001b[0m\u001b[0;34m\u001b[0m\u001b[0;34m\u001b[0m\u001b[0m\n\u001b[0m",
            "\u001b[0;32m/usr/local/lib/python3.7/dist-packages/gensim/utils.py\u001b[0m in \u001b[0;36mnew_func1\u001b[0;34m(*args, **kwargs)\u001b[0m\n\u001b[1;32m   1420\u001b[0m                     \u001b[0mstacklevel\u001b[0m\u001b[0;34m=\u001b[0m\u001b[0;36m2\u001b[0m\u001b[0;34m\u001b[0m\u001b[0;34m\u001b[0m\u001b[0m\n\u001b[1;32m   1421\u001b[0m                 )\n\u001b[0;32m-> 1422\u001b[0;31m                 \u001b[0;32mreturn\u001b[0m \u001b[0mfunc\u001b[0m\u001b[0;34m(\u001b[0m\u001b[0;34m*\u001b[0m\u001b[0margs\u001b[0m\u001b[0;34m,\u001b[0m \u001b[0;34m**\u001b[0m\u001b[0mkwargs\u001b[0m\u001b[0;34m)\u001b[0m\u001b[0;34m\u001b[0m\u001b[0;34m\u001b[0m\u001b[0m\n\u001b[0m\u001b[1;32m   1423\u001b[0m \u001b[0;34m\u001b[0m\u001b[0m\n\u001b[1;32m   1424\u001b[0m             \u001b[0;32mreturn\u001b[0m \u001b[0mnew_func1\u001b[0m\u001b[0;34m\u001b[0m\u001b[0;34m\u001b[0m\u001b[0m\n",
            "\u001b[0;32m/usr/local/lib/python3.7/dist-packages/gensim/models/word2vec.py\u001b[0m in \u001b[0;36m__getitem__\u001b[0;34m(self, words)\u001b[0m\n\u001b[1;32m   1101\u001b[0m \u001b[0;34m\u001b[0m\u001b[0m\n\u001b[1;32m   1102\u001b[0m         \"\"\"\n\u001b[0;32m-> 1103\u001b[0;31m         \u001b[0;32mreturn\u001b[0m \u001b[0mself\u001b[0m\u001b[0;34m.\u001b[0m\u001b[0mwv\u001b[0m\u001b[0;34m.\u001b[0m\u001b[0m__getitem__\u001b[0m\u001b[0;34m(\u001b[0m\u001b[0mwords\u001b[0m\u001b[0;34m)\u001b[0m\u001b[0;34m\u001b[0m\u001b[0;34m\u001b[0m\u001b[0m\n\u001b[0m\u001b[1;32m   1104\u001b[0m \u001b[0;34m\u001b[0m\u001b[0m\n\u001b[1;32m   1105\u001b[0m     \u001b[0;34m@\u001b[0m\u001b[0mdeprecated\u001b[0m\u001b[0;34m(\u001b[0m\u001b[0;34m\"Method will be removed in 4.0.0, use self.wv.__contains__() instead\"\u001b[0m\u001b[0;34m)\u001b[0m\u001b[0;34m\u001b[0m\u001b[0;34m\u001b[0m\u001b[0m\n",
            "\u001b[0;32m/usr/local/lib/python3.7/dist-packages/gensim/models/keyedvectors.py\u001b[0m in \u001b[0;36m__getitem__\u001b[0;34m(self, entities)\u001b[0m\n\u001b[1;32m    337\u001b[0m             \u001b[0;32mreturn\u001b[0m \u001b[0mself\u001b[0m\u001b[0;34m.\u001b[0m\u001b[0mget_vector\u001b[0m\u001b[0;34m(\u001b[0m\u001b[0mentities\u001b[0m\u001b[0;34m)\u001b[0m\u001b[0;34m\u001b[0m\u001b[0;34m\u001b[0m\u001b[0m\n\u001b[1;32m    338\u001b[0m \u001b[0;34m\u001b[0m\u001b[0m\n\u001b[0;32m--> 339\u001b[0;31m         \u001b[0;32mreturn\u001b[0m \u001b[0mvstack\u001b[0m\u001b[0;34m(\u001b[0m\u001b[0;34m[\u001b[0m\u001b[0mself\u001b[0m\u001b[0;34m.\u001b[0m\u001b[0mget_vector\u001b[0m\u001b[0;34m(\u001b[0m\u001b[0mentity\u001b[0m\u001b[0;34m)\u001b[0m \u001b[0;32mfor\u001b[0m \u001b[0mentity\u001b[0m \u001b[0;32min\u001b[0m \u001b[0mentities\u001b[0m\u001b[0;34m]\u001b[0m\u001b[0;34m)\u001b[0m\u001b[0;34m\u001b[0m\u001b[0;34m\u001b[0m\u001b[0m\n\u001b[0m\u001b[1;32m    340\u001b[0m \u001b[0;34m\u001b[0m\u001b[0m\n\u001b[1;32m    341\u001b[0m     \u001b[0;32mdef\u001b[0m \u001b[0m__contains__\u001b[0m\u001b[0;34m(\u001b[0m\u001b[0mself\u001b[0m\u001b[0;34m,\u001b[0m \u001b[0mentity\u001b[0m\u001b[0;34m)\u001b[0m\u001b[0;34m:\u001b[0m\u001b[0;34m\u001b[0m\u001b[0;34m\u001b[0m\u001b[0m\n",
            "\u001b[0;32m<__array_function__ internals>\u001b[0m in \u001b[0;36mvstack\u001b[0;34m(*args, **kwargs)\u001b[0m\n",
            "\u001b[0;32m/usr/local/lib/python3.7/dist-packages/numpy/core/shape_base.py\u001b[0m in \u001b[0;36mvstack\u001b[0;34m(tup)\u001b[0m\n\u001b[1;32m    280\u001b[0m     \u001b[0;32mif\u001b[0m \u001b[0;32mnot\u001b[0m \u001b[0misinstance\u001b[0m\u001b[0;34m(\u001b[0m\u001b[0marrs\u001b[0m\u001b[0;34m,\u001b[0m \u001b[0mlist\u001b[0m\u001b[0;34m)\u001b[0m\u001b[0;34m:\u001b[0m\u001b[0;34m\u001b[0m\u001b[0;34m\u001b[0m\u001b[0m\n\u001b[1;32m    281\u001b[0m         \u001b[0marrs\u001b[0m \u001b[0;34m=\u001b[0m \u001b[0;34m[\u001b[0m\u001b[0marrs\u001b[0m\u001b[0;34m]\u001b[0m\u001b[0;34m\u001b[0m\u001b[0;34m\u001b[0m\u001b[0m\n\u001b[0;32m--> 282\u001b[0;31m     \u001b[0;32mreturn\u001b[0m \u001b[0m_nx\u001b[0m\u001b[0;34m.\u001b[0m\u001b[0mconcatenate\u001b[0m\u001b[0;34m(\u001b[0m\u001b[0marrs\u001b[0m\u001b[0;34m,\u001b[0m \u001b[0;36m0\u001b[0m\u001b[0;34m)\u001b[0m\u001b[0;34m\u001b[0m\u001b[0;34m\u001b[0m\u001b[0m\n\u001b[0m\u001b[1;32m    283\u001b[0m \u001b[0;34m\u001b[0m\u001b[0m\n\u001b[1;32m    284\u001b[0m \u001b[0;34m\u001b[0m\u001b[0m\n",
            "\u001b[0;32m<__array_function__ internals>\u001b[0m in \u001b[0;36mconcatenate\u001b[0;34m(*args, **kwargs)\u001b[0m\n",
            "\u001b[0;31mValueError\u001b[0m: need at least one array to concatenate"
          ]
        }
      ]
    },
    {
      "cell_type": "code",
      "source": [],
      "metadata": {
        "id": "fxfyAJ01-dAM"
      },
      "execution_count": null,
      "outputs": []
    },
    {
      "cell_type": "code",
      "source": [],
      "metadata": {
        "id": "ULSqUL87-bnZ"
      },
      "execution_count": null,
      "outputs": []
    },
    {
      "cell_type": "code",
      "source": [],
      "metadata": {
        "id": "JTbZTIJt-bqj"
      },
      "execution_count": null,
      "outputs": []
    },
    {
      "cell_type": "markdown",
      "source": [
        "http://ethen8181.github.io/machine-learning/keras/text_classification/word2vec_text_classification.html"
      ],
      "metadata": {
        "id": "p41Eq24VBrEv"
      }
    },
    {
      "cell_type": "code",
      "source": [],
      "metadata": {
        "id": "ZuLRRnsWBr6w"
      },
      "execution_count": null,
      "outputs": []
    }
  ],
  "metadata": {
    "colab": {
      "provenance": []
    },
    "kernelspec": {
      "display_name": "Python 3",
      "name": "python3"
    },
    "language_info": {
      "name": "python"
    }
  },
  "nbformat": 4,
  "nbformat_minor": 0
}